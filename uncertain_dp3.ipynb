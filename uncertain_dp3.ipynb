{
 "cells": [
  {
   "cell_type": "code",
   "execution_count": 1,
   "metadata": {},
   "outputs": [],
   "source": [
    "from uncertain_dp2 import *"
   ]
  },
  {
   "cell_type": "code",
   "execution_count": 2,
   "metadata": {},
   "outputs": [],
   "source": [
    "from pot_correction import *"
   ]
  },
  {
   "cell_type": "code",
   "execution_count": 3,
   "metadata": {},
   "outputs": [],
   "source": [
    "import random\n",
    "#random.seed(1)"
   ]
  },
  {
   "cell_type": "code",
   "execution_count": 4,
   "metadata": {},
   "outputs": [],
   "source": [
    "DNA_LENGTH = 50           \n",
    "READ_lENGTH = 35\n",
    "READ_COUNT = 10\n",
    "\n",
    "PROBABILISTIC_ALIGNMENT_BONUS = 2\n",
    "NORMAL_ALIGNMENT_BONUS = 0.7\n",
    "\n",
    "ALIGNMENT_BONUS = PROBABILISTIC_ALIGNMENT_BONUS"
   ]
  },
  {
   "cell_type": "code",
   "execution_count": 5,
   "metadata": {},
   "outputs": [],
   "source": [
    "dna = generate_dna(DNA_LENGTH)\n",
    "reads = [generate_read(dna, READ_lENGTH, lambda base: gauss_unsharp_uncertainty_generator(base, 0.47)) for _ in range(READ_COUNT)]\n",
    "# 0.47"
   ]
  },
  {
   "cell_type": "code",
   "execution_count": 6,
   "metadata": {},
   "outputs": [
    {
     "name": "stdout",
     "output_type": "stream",
     "text": [
      "[0.11428571428571428, 0.2, 0.08571428571428572, 0.14285714285714285, 0.17142857142857143, 0.2, 0.17142857142857143, 0.11428571428571428, 0.17142857142857143, 0.02857142857142857]\n"
     ]
    },
    {
     "data": {
      "text/plain": [
       "0.14"
      ]
     },
     "execution_count": 6,
     "metadata": {},
     "output_type": "execute_result"
    }
   ],
   "source": [
    "most_likely_restorer_error_rate(reads)"
   ]
  },
  {
   "cell_type": "code",
   "execution_count": 7,
   "metadata": {},
   "outputs": [
    {
     "name": "stdout",
     "output_type": "stream",
     "text": [
      "[0.11428571428571428, 0.22857142857142856, 0.08571428571428572, 0.14285714285714285, 0.17142857142857143, 0.2, 0.17142857142857143, 0.11428571428571428, 0.17142857142857143, 0.02857142857142857]\n"
     ]
    },
    {
     "data": {
      "text/plain": [
       "0.14285714285714285"
      ]
     },
     "execution_count": 7,
     "metadata": {},
     "output_type": "execute_result"
    }
   ],
   "source": [
    "dna_distance_error_rate(dna, reads, alignment_bonus=ALIGNMENT_BONUS)"
   ]
  },
  {
   "cell_type": "code",
   "execution_count": 8,
   "metadata": {},
   "outputs": [
    {
     "name": "stdout",
     "output_type": "stream",
     "text": [
      "[0.11428571428571428, 0.2, 0.08571428571428572, 0.14285714285714285, 0.17142857142857143, 0.2, 0.17142857142857143, 0.11428571428571428, 0.17142857142857143, 0.02857142857142857]\n",
      "[0.11428571428571428, 0.22857142857142856, 0.08571428571428572, 0.14285714285714285, 0.17142857142857143, 0.2, 0.17142857142857143, 0.11428571428571428, 0.17142857142857143, 0.02857142857142857]\n"
     ]
    }
   ],
   "source": [
    "check_dna_distance_error_rate_suitable(dna, reads, alignment_bonus=ALIGNMENT_BONUS)"
   ]
  },
  {
   "cell_type": "code",
   "execution_count": 9,
   "metadata": {},
   "outputs": [
    {
     "name": "stdout",
     "output_type": "stream",
     "text": [
      "\u001b[1;32mX\u001b[0m\u001b[1;37mX\u001b[0m\u001b[1;37mX\u001b[0m\u001b[1;34mX\u001b[0m\u001b[1;37mX\u001b[0m\u001b[1;37mX\u001b[0m\u001b[1;31m...\u001b[0m\n"
     ]
    }
   ],
   "source": [
    "print(colored_edit_string(make_regular(A, A,A,G,C,T),make_regular(A,A,T,C, T, T),alignment_bonus=ALIGNMENT_BONUS))"
   ]
  },
  {
   "cell_type": "code",
   "execution_count": 10,
   "metadata": {},
   "outputs": [
    {
     "name": "stdout",
     "output_type": "stream",
     "text": [
      "\u001b[1;37mX\u001b[0m\u001b[1;37mX\u001b[0m\u001b[1;37mX\u001b[0m\u001b[1;37mX\u001b[0m\u001b[1;37mX\u001b[0m\u001b[1;37mX\u001b[0m\u001b[1;37mX\u001b[0m\u001b[1;37mX\u001b[0m\u001b[1;37mX\u001b[0m\u001b[1;37mX\u001b[0m\u001b[1;37mX\u001b[0m\u001b[1;37mX\u001b[0m\u001b[1;37mX\u001b[0m\u001b[1;37mX\u001b[0m\u001b[1;37mX\u001b[0m\n"
     ]
    }
   ],
   "source": [
    "print(colored_edit_string(make_regular(A,A,A,A,A,A,A,A,A,A,A,A,A,A,A),make_regular(A,A,A,A,A,A,A,A,A,A,A,A,A,A,A),alignment_bonus=ALIGNMENT_BONUS))"
   ]
  },
  {
   "cell_type": "code",
   "execution_count": 11,
   "metadata": {},
   "outputs": [
    {
     "data": {
      "text/plain": [
       "[<pot_correction.Read at 0x7c72343aa110>,\n",
       " <pot_correction.Read at 0x7c72343a9a50>,\n",
       " <pot_correction.Read at 0x7c72343ab100>,\n",
       " <pot_correction.Read at 0x7c72343ab160>,\n",
       " <pot_correction.Read at 0x7c72343ab190>,\n",
       " <pot_correction.Read at 0x7c72343ab250>,\n",
       " <pot_correction.Read at 0x7c72343ab220>,\n",
       " <pot_correction.Read at 0x7c72343ab1f0>,\n",
       " <pot_correction.Read at 0x7c72343ab1c0>,\n",
       " <pot_correction.Read at 0x7c72343a97e0>]"
      ]
     },
     "execution_count": 11,
     "metadata": {},
     "output_type": "execute_result"
    }
   ],
   "source": [
    "reads"
   ]
  },
  {
   "cell_type": "code",
   "execution_count": 12,
   "metadata": {},
   "outputs": [],
   "source": [
    "r = reads[0]"
   ]
  },
  {
   "cell_type": "code",
   "execution_count": 13,
   "metadata": {},
   "outputs": [
    {
     "data": {
      "text/plain": [
       "('AGGGACGATGCCGAGACTTGTCAAGGAATCTAGAT', 'AGGGACGATGCCGATACTTGTCAAGGATTCTTGAA')"
      ]
     },
     "execution_count": 13,
     "metadata": {},
     "output_type": "execute_result"
    }
   ],
   "source": [
    "r.original_text, r.predicted_text"
   ]
  },
  {
   "cell_type": "code",
   "execution_count": 14,
   "metadata": {},
   "outputs": [
    {
     "data": {
      "text/plain": [
       "'GCCTACTGAAGTTAGGCATATAACAAAGTTGCACA'"
      ]
     },
     "execution_count": 14,
     "metadata": {},
     "output_type": "execute_result"
    }
   ],
   "source": [
    "'GCCTACTGTAGTCAGGCATATACCAAAGTTGCACC'\n",
    "'GCCTACTGAAGTTAGGCATATAACAAAGTTGCACA'"
   ]
  },
  {
   "cell_type": "code",
   "execution_count": 15,
   "metadata": {},
   "outputs": [
    {
     "name": "stdout",
     "output_type": "stream",
     "text": [
      "               \u001b[1;37mX\u001b[0m\u001b[1;37mX\u001b[0m\u001b[1;37mX\u001b[0m\u001b[1;37mX\u001b[0m\u001b[1;37mX\u001b[0m\u001b[1;37mX\u001b[0m\u001b[1;37mX\u001b[0m\u001b[1;37mX\u001b[0m\u001b[1;37mX\u001b[0m\u001b[1;37mX\u001b[0m\u001b[1;37mX\u001b[0m\u001b[1;37mX\u001b[0m\u001b[1;37mX\u001b[0m\u001b[1;37mX\u001b[0m\u001b[1;34mX\u001b[0m\u001b[1;37mX\u001b[0m\u001b[1;37mX\u001b[0m\u001b[1;37mX\u001b[0m\u001b[1;37mX\u001b[0m\u001b[1;37mX\u001b[0m\u001b[1;37mX\u001b[0m\u001b[1;37mX\u001b[0m\u001b[1;37mX\u001b[0m\u001b[1;37mX\u001b[0m\u001b[1;37mX\u001b[0m\u001b[1;37mX\u001b[0m\u001b[1;37mX\u001b[0m\u001b[1;34mX\u001b[0m\u001b[1;37mX\u001b[0m\u001b[1;37mX\u001b[0m\u001b[1;37mX\u001b[0m\u001b[1;34mX\u001b[0m\u001b[1;37mX\u001b[0m\u001b[1;31mX\u001b[0m\u001b[1;37mX\u001b[0m\u001b[1;32m...\u001b[0m\n",
      "              \u001b[1;31mX\u001b[0m\u001b[1;37mX\u001b[0m\u001b[1;32mX\u001b[0m\u001b[1;37mX\u001b[0m\u001b[1;37mX\u001b[0m\u001b[1;37mX\u001b[0m\u001b[1;37mX\u001b[0m\u001b[1;37mX\u001b[0m\u001b[1;37mX\u001b[0m\u001b[1;37mX\u001b[0m\u001b[1;37mX\u001b[0m\u001b[1;37mX\u001b[0m\u001b[1;31mX\u001b[0m\u001b[1;37mX\u001b[0m\u001b[1;34mX\u001b[0m\u001b[1;37mX\u001b[0m\u001b[1;37mX\u001b[0m\u001b[1;32mX\u001b[0m\u001b[1;37mX\u001b[0m\u001b[1;37mX\u001b[0m\u001b[1;37mX\u001b[0m\u001b[1;37mX\u001b[0m\u001b[1;37mX\u001b[0m\u001b[1;31mX\u001b[0m\u001b[1;37mX\u001b[0m\u001b[1;32mX\u001b[0m\u001b[1;37mX\u001b[0m\u001b[1;37mX\u001b[0m\u001b[1;34mX\u001b[0m\u001b[1;37mX\u001b[0m\u001b[1;37mX\u001b[0m\u001b[1;37mX\u001b[0m\u001b[1;37mX\u001b[0m\u001b[1;37mX\u001b[0m\u001b[1;37mX\u001b[0m\u001b[1;37mX\u001b[0m\u001b[1;37mX\u001b[0m\u001b[1;37mX\u001b[0m\n",
      "           \u001b[1;37mX\u001b[0m\u001b[1;37mX\u001b[0m\u001b[1;37mX\u001b[0m\u001b[1;37mX\u001b[0m\u001b[1;37mX\u001b[0m\u001b[1;37mX\u001b[0m\u001b[1;37mX\u001b[0m\u001b[1;37mX\u001b[0m\u001b[1;37mX\u001b[0m\u001b[1;37mX\u001b[0m\u001b[1;37mX\u001b[0m\u001b[1;37mX\u001b[0m\u001b[1;37mX\u001b[0m\u001b[1;37mX\u001b[0m\u001b[1;37mX\u001b[0m\u001b[1;37mX\u001b[0m\u001b[1;37mX\u001b[0m\u001b[1;37mX\u001b[0m\u001b[1;37mX\u001b[0m\u001b[1;37mX\u001b[0m\u001b[1;34mX\u001b[0m\u001b[1;37mX\u001b[0m\u001b[1;37mX\u001b[0m\u001b[1;37mX\u001b[0m\u001b[1;31mX\u001b[0m\u001b[1;37mX\u001b[0m\u001b[1;32mX\u001b[0m\u001b[1;37mX\u001b[0m\u001b[1;37mX\u001b[0m\u001b[1;37mX\u001b[0m\u001b[1;37mX\u001b[0m\u001b[1;37mX\u001b[0m\u001b[1;37mX\u001b[0m\u001b[1;37mX\u001b[0m\u001b[1;37mX\u001b[0m\u001b[1;37mX\u001b[0m\n",
      "              \u001b[1;37mX\u001b[0m\u001b[1;37mX\u001b[0m\u001b[1;34mX\u001b[0m\u001b[1;37mX\u001b[0m\u001b[1;37mX\u001b[0m\u001b[1;37mX\u001b[0m\u001b[1;34mX\u001b[0m\u001b[1;37mX\u001b[0m\u001b[1;37mX\u001b[0m\u001b[1;37mX\u001b[0m\u001b[1;37mX\u001b[0m\u001b[1;37mX\u001b[0m\u001b[1;37mX\u001b[0m\u001b[1;34mX\u001b[0m\u001b[1;37mX\u001b[0m\u001b[1;37mX\u001b[0m\u001b[1;37mX\u001b[0m\u001b[1;37mX\u001b[0m\u001b[1;37mX\u001b[0m\u001b[1;37mX\u001b[0m\u001b[1;37mX\u001b[0m\u001b[1;37mX\u001b[0m\u001b[1;37mX\u001b[0m\u001b[1;37mX\u001b[0m\u001b[1;37mX\u001b[0m\u001b[1;37mX\u001b[0m\u001b[1;34mX\u001b[0m\u001b[1;37mX\u001b[0m\u001b[1;37mX\u001b[0m\u001b[1;37mX\u001b[0m\u001b[1;37mX\u001b[0m\u001b[1;37mX\u001b[0m\u001b[1;37mX\u001b[0m\u001b[1;31mX\u001b[0m\u001b[1;37mX\u001b[0m\u001b[1;32m...\u001b[0m\n"
     ]
    },
    {
     "name": "stdout",
     "output_type": "stream",
     "text": [
      "  \u001b[1;37mX\u001b[0m\u001b[1;37mX\u001b[0m\u001b[1;37mX\u001b[0m\u001b[1;37mX\u001b[0m\u001b[1;37mX\u001b[0m\u001b[1;37mX\u001b[0m\u001b[1;37mX\u001b[0m\u001b[1;37mX\u001b[0m\u001b[1;37mX\u001b[0m\u001b[1;37mX\u001b[0m\u001b[1;37mX\u001b[0m\u001b[1;37mX\u001b[0m\u001b[1;32mX\u001b[0m\u001b[1;34mX\u001b[0m\u001b[1;37mX\u001b[0m\u001b[1;37mX\u001b[0m\u001b[1;37mX\u001b[0m\u001b[1;31mX\u001b[0m\u001b[1;37mX\u001b[0m\u001b[1;34mX\u001b[0m\u001b[1;34mX\u001b[0m\u001b[1;37mX\u001b[0m\u001b[1;37mX\u001b[0m\u001b[1;37mX\u001b[0m\u001b[1;37mX\u001b[0m\u001b[1;37mX\u001b[0m\u001b[1;37mX\u001b[0m\u001b[1;34mX\u001b[0m\u001b[1;37mX\u001b[0m\u001b[1;37mX\u001b[0m\u001b[1;37mX\u001b[0m\u001b[1;37mX\u001b[0m\u001b[1;37mX\u001b[0m\u001b[1;37mX\u001b[0m\u001b[1;37mX\u001b[0m\u001b[1;37mX\u001b[0m\n",
      "  \u001b[1;31mX\u001b[0m\u001b[1;32mX\u001b[0m\u001b[1;37mX\u001b[0m\u001b[1;37mX\u001b[0m\u001b[1;37mX\u001b[0m\u001b[1;37mX\u001b[0m\u001b[1;37mX\u001b[0m\u001b[1;37mX\u001b[0m\u001b[1;37mX\u001b[0m\u001b[1;37mX\u001b[0m\u001b[1;37mX\u001b[0m\u001b[1;37mX\u001b[0m\u001b[1;34mX\u001b[0m\u001b[1;37mX\u001b[0m\u001b[1;34mX\u001b[0m\u001b[1;37mX\u001b[0m\u001b[1;37mX\u001b[0m\u001b[1;37mX\u001b[0m\u001b[1;37mX\u001b[0m\u001b[1;31mX\u001b[0m\u001b[1;37mX\u001b[0m\u001b[1;32mX\u001b[0m\u001b[1;37mX\u001b[0m\u001b[1;37mX\u001b[0m\u001b[1;37mX\u001b[0m\u001b[1;37mX\u001b[0m\u001b[1;34mX\u001b[0m\u001b[1;37mX\u001b[0m\u001b[1;37mX\u001b[0m\u001b[1;37mX\u001b[0m\u001b[1;37mX\u001b[0m\u001b[1;37mX\u001b[0m\u001b[1;34mX\u001b[0m\u001b[1;37mX\u001b[0m\u001b[1;37mX\u001b[0m\u001b[1;37mX\u001b[0m\u001b[1;37mX\u001b[0m\n",
      "            \u001b[1;31mX\u001b[0m\u001b[1;31mX\u001b[0m\u001b[1;32mX\u001b[0m\u001b[1;32mX\u001b[0m\u001b[1;37mX\u001b[0m\u001b[1;37mX\u001b[0m\u001b[1;37mX\u001b[0m\u001b[1;37mX\u001b[0m\u001b[1;37mX\u001b[0m\u001b[1;37mX\u001b[0m\u001b[1;37mX\u001b[0m\u001b[1;34mX\u001b[0m\u001b[1;37mX\u001b[0m\u001b[1;37mX\u001b[0m\u001b[1;34mX\u001b[0m\u001b[1;37mX\u001b[0m\u001b[1;37mX\u001b[0m\u001b[1;37mX\u001b[0m\u001b[1;37mX\u001b[0m\u001b[1;34mX\u001b[0m\u001b[1;37mX\u001b[0m\u001b[1;37mX\u001b[0m\u001b[1;37mX\u001b[0m\u001b[1;37mX\u001b[0m\u001b[1;37mX\u001b[0m\u001b[1;37mX\u001b[0m\u001b[1;37mX\u001b[0m\u001b[1;37mX\u001b[0m\u001b[1;37mX\u001b[0m\u001b[1;37mX\u001b[0m\u001b[1;37mX\u001b[0m\u001b[1;37mX\u001b[0m\u001b[1;34mX\u001b[0m\u001b[1;37mX\u001b[0m\u001b[1;37mX\u001b[0m\u001b[1;37mX\u001b[0m\u001b[1;37mX\u001b[0m\n",
      "            \u001b[1;31mX\u001b[0m\u001b[1;31mX\u001b[0m\u001b[1;37mX\u001b[0m\u001b[1;32mX\u001b[0m\u001b[1;32mX\u001b[0m\u001b[1;37mX\u001b[0m\u001b[1;37mX\u001b[0m\u001b[1;37mX\u001b[0m\u001b[1;37mX\u001b[0m\u001b[1;37mX\u001b[0m\u001b[1;37mX\u001b[0m\u001b[1;37mX\u001b[0m\u001b[1;37mX\u001b[0m\u001b[1;37mX\u001b[0m\u001b[1;37mX\u001b[0m\u001b[1;37mX\u001b[0m\u001b[1;37mX\u001b[0m\u001b[1;37mX\u001b[0m\u001b[1;34mX\u001b[0m\u001b[1;37mX\u001b[0m\u001b[1;37mX\u001b[0m\u001b[1;37mX\u001b[0m\u001b[1;37mX\u001b[0m\u001b[1;37mX\u001b[0m\u001b[1;37mX\u001b[0m\u001b[1;37mX\u001b[0m\u001b[1;37mX\u001b[0m\u001b[1;37mX\u001b[0m\u001b[1;37mX\u001b[0m\u001b[1;37mX\u001b[0m\u001b[1;37mX\u001b[0m\u001b[1;37mX\u001b[0m\u001b[1;34mX\u001b[0m\u001b[1;37mX\u001b[0m\u001b[1;37mX\u001b[0m\u001b[1;37mX\u001b[0m\u001b[1;37mX\u001b[0m\n",
      "             \u001b[1;31mX\u001b[0m\u001b[1;32mX\u001b[0m\u001b[1;37mX\u001b[0m\u001b[1;37mX\u001b[0m\u001b[1;37mX\u001b[0m\u001b[1;37mX\u001b[0m\u001b[1;34mX\u001b[0m\u001b[1;37mX\u001b[0m\u001b[1;37mX\u001b[0m\u001b[1;37mX\u001b[0m\u001b[1;37mX\u001b[0m\u001b[1;37mX\u001b[0m\u001b[1;37mX\u001b[0m\u001b[1;37mX\u001b[0m\u001b[1;37mX\u001b[0m\u001b[1;34mX\u001b[0m\u001b[1;37mX\u001b[0m\u001b[1;34mX\u001b[0m\u001b[1;37mX\u001b[0m\u001b[1;37mX\u001b[0m\u001b[1;37mX\u001b[0m\u001b[1;37mX\u001b[0m\u001b[1;37mX\u001b[0m\u001b[1;37mX\u001b[0m\u001b[1;37mX\u001b[0m\u001b[1;37mX\u001b[0m\u001b[1;37mX\u001b[0m\u001b[1;34mX\u001b[0m\u001b[1;37mX\u001b[0m\u001b[1;37mX\u001b[0m\u001b[1;37mX\u001b[0m\u001b[1;37mX\u001b[0m\u001b[1;34mX\u001b[0m\u001b[1;37mX\u001b[0m\u001b[1;37mX\u001b[0m\u001b[1;37mX\u001b[0m\n",
      "             \u001b[1;37mX\u001b[0m\u001b[1;37mX\u001b[0m\u001b[1;37mX\u001b[0m\u001b[1;37mX\u001b[0m\u001b[1;37mX\u001b[0m\u001b[1;37mX\u001b[0m\u001b[1;37mX\u001b[0m\u001b[1;37mX\u001b[0m\u001b[1;37mX\u001b[0m\u001b[1;37mX\u001b[0m\u001b[1;34mX\u001b[0m\u001b[1;37mX\u001b[0m\u001b[1;37mX\u001b[0m\u001b[1;37mX\u001b[0m\u001b[1;37mX\u001b[0m\u001b[1;37mX\u001b[0m\u001b[1;37mX\u001b[0m\u001b[1;37mX\u001b[0m\u001b[1;37mX\u001b[0m\u001b[1;37mX\u001b[0m\u001b[1;37mX\u001b[0m\u001b[1;37mX\u001b[0m\u001b[1;37mX\u001b[0m\u001b[1;37mX\u001b[0m\u001b[1;37mX\u001b[0m\u001b[1;37mX\u001b[0m\u001b[1;37mX\u001b[0m\u001b[1;37mX\u001b[0m\u001b[1;37mX\u001b[0m\u001b[1;37mX\u001b[0m\u001b[1;37mX\u001b[0m\u001b[1;37mX\u001b[0m\u001b[1;37mX\u001b[0m\u001b[1;37mX\u001b[0m\u001b[1;37mX\u001b[0m\n"
     ]
    },
    {
     "data": {
      "text/plain": [
       "[None, None, None, None, None, None, None, None, None, None]"
      ]
     },
     "execution_count": 15,
     "metadata": {},
     "output_type": "execute_result"
    }
   ],
   "source": [
    "[print_read_intendet_errors(r,alignment_bonus=ALIGNMENT_BONUS) for r in reads]"
   ]
  },
  {
   "cell_type": "code",
   "execution_count": 16,
   "metadata": {},
   "outputs": [
    {
     "data": {
      "text/plain": [
       "<pot_correction.Read at 0x7c72343aa110>"
      ]
     },
     "execution_count": 16,
     "metadata": {},
     "output_type": "execute_result"
    }
   ],
   "source": [
    "reads[0]"
   ]
  },
  {
   "cell_type": "code",
   "execution_count": 17,
   "metadata": {},
   "outputs": [
    {
     "name": "stdout",
     "output_type": "stream",
     "text": [
      "               \u001b[1;37mX\u001b[0m\u001b[1;37mX\u001b[0m\u001b[1;37mX\u001b[0m\u001b[1;37mX\u001b[0m\u001b[1;37mX\u001b[0m\u001b[1;37mX\u001b[0m\u001b[1;37mX\u001b[0m\u001b[1;37mX\u001b[0m\u001b[1;37mX\u001b[0m\u001b[1;37mX\u001b[0m\u001b[1;37mX\u001b[0m\u001b[1;37mX\u001b[0m\u001b[1;37mX\u001b[0m\u001b[1;37mX\u001b[0m\u001b[1;37mX\u001b[0m\u001b[1;37mX\u001b[0m\u001b[1;37mX\u001b[0m\u001b[1;37mX\u001b[0m\u001b[1;37mX\u001b[0m\u001b[1;37mX\u001b[0m\u001b[1;37mX\u001b[0m\u001b[1;37mX\u001b[0m\u001b[1;37mX\u001b[0m\u001b[1;37mX\u001b[0m\u001b[1;37mX\u001b[0m\u001b[1;37mX\u001b[0m\u001b[1;37mX\u001b[0m\u001b[1;37mX\u001b[0m\u001b[1;37mX\u001b[0m\u001b[1;37mX\u001b[0m\u001b[1;37mX\u001b[0m\u001b[1;37mX\u001b[0m\u001b[1;31mX\u001b[0m\u001b[1;37mX\u001b[0m\u001b[1;31mX\u001b[0m\u001b[1;37mX\u001b[0m\u001b[1;32m...\u001b[0m\n",
      "              \u001b[1;31mX\u001b[0m\u001b[1;37mX\u001b[0m\u001b[1;32mX\u001b[0m\u001b[1;37mX\u001b[0m\u001b[1;37mX\u001b[0m\u001b[1;37mX\u001b[0m\u001b[1;37mX\u001b[0m\u001b[1;37mX\u001b[0m\u001b[1;37mX\u001b[0m\u001b[1;37mX\u001b[0m\u001b[1;37mX\u001b[0m\u001b[1;37mX\u001b[0m\u001b[1;37mX\u001b[0m\u001b[1;37mX\u001b[0m\u001b[1;37mX\u001b[0m\u001b[1;37mX\u001b[0m\u001b[1;37mX\u001b[0m\u001b[1;37mX\u001b[0m\u001b[1;37mX\u001b[0m\u001b[1;37mX\u001b[0m\u001b[1;37mX\u001b[0m\u001b[1;37mX\u001b[0m\u001b[1;37mX\u001b[0m\u001b[1;37mX\u001b[0m\u001b[1;37mX\u001b[0m\u001b[1;37mX\u001b[0m\u001b[1;37mX\u001b[0m\u001b[1;37mX\u001b[0m\u001b[1;37mX\u001b[0m\u001b[1;37mX\u001b[0m\u001b[1;37mX\u001b[0m\u001b[1;37mX\u001b[0m\u001b[1;37mX\u001b[0m\u001b[1;37mX\u001b[0m\u001b[1;31mX\u001b[0m\u001b[1;37mX\u001b[0m\u001b[1;37mX\u001b[0m\n",
      "           \u001b[1;37mX\u001b[0m\u001b[1;37mX\u001b[0m\u001b[1;34mX\u001b[0m\u001b[1;37mX\u001b[0m\u001b[1;37mX\u001b[0m\u001b[1;37mX\u001b[0m\u001b[1;37mX\u001b[0m\u001b[1;37mX\u001b[0m\u001b[1;37mX\u001b[0m\u001b[1;37mX\u001b[0m\u001b[1;37mX\u001b[0m\u001b[1;37mX\u001b[0m\u001b[1;37mX\u001b[0m\u001b[1;37mX\u001b[0m\u001b[1;37mX\u001b[0m\u001b[1;37mX\u001b[0m\u001b[1;37mX\u001b[0m\u001b[1;37mX\u001b[0m\u001b[1;37mX\u001b[0m\u001b[1;37mX\u001b[0m\u001b[1;37mX\u001b[0m\u001b[1;37mX\u001b[0m\u001b[1;37mX\u001b[0m\u001b[1;37mX\u001b[0m\u001b[1;37mX\u001b[0m\u001b[1;37mX\u001b[0m\u001b[1;37mX\u001b[0m\u001b[1;37mX\u001b[0m\u001b[1;37mX\u001b[0m\u001b[1;37mX\u001b[0m\u001b[1;37mX\u001b[0m\u001b[1;37mX\u001b[0m\u001b[1;37mX\u001b[0m\u001b[1;37mX\u001b[0m\u001b[1;37mX\u001b[0m\n",
      "              \u001b[1;37mX\u001b[0m\u001b[1;37mX\u001b[0m\u001b[1;37mX\u001b[0m\u001b[1;37mX\u001b[0m\u001b[1;37mX\u001b[0m\u001b[1;37mX\u001b[0m\u001b[1;37mX\u001b[0m\u001b[1;37mX\u001b[0m\u001b[1;37mX\u001b[0m\u001b[1;37mX\u001b[0m\u001b[1;37mX\u001b[0m\u001b[1;37mX\u001b[0m\u001b[1;37mX\u001b[0m\u001b[1;37mX\u001b[0m\u001b[1;37mX\u001b[0m\u001b[1;37mX\u001b[0m\u001b[1;37mX\u001b[0m\u001b[1;37mX\u001b[0m\u001b[1;37mX\u001b[0m\u001b[1;37mX\u001b[0m\u001b[1;37mX\u001b[0m\u001b[1;37mX\u001b[0m\u001b[1;37mX\u001b[0m\u001b[1;37mX\u001b[0m\u001b[1;37mX\u001b[0m\u001b[1;37mX\u001b[0m\u001b[1;37mX\u001b[0m\u001b[1;37mX\u001b[0m\u001b[1;37mX\u001b[0m\u001b[1;37mX\u001b[0m\u001b[1;37mX\u001b[0m\u001b[1;37mX\u001b[0m\u001b[1;37mX\u001b[0m\u001b[1;31mX\u001b[0m\u001b[1;37mX\u001b[0m\u001b[1;32m...\u001b[0m\n",
      "  \u001b[1;37mX\u001b[0m\u001b[1;37mX\u001b[0m\u001b[1;37mX\u001b[0m\u001b[1;37mX\u001b[0m\u001b[1;37mX\u001b[0m\u001b[1;37mX\u001b[0m\u001b[1;37mX\u001b[0m\u001b[1;37mX\u001b[0m\u001b[1;37mX\u001b[0m\u001b[1;37mX\u001b[0m\u001b[1;37mX\u001b[0m\u001b[1;34mX\u001b[0m\u001b[1;37mX\u001b[0m\u001b[1;37mX\u001b[0m\u001b[1;37mX\u001b[0m\u001b[1;37mX\u001b[0m\u001b[1;37mX\u001b[0m\u001b[1;37mX\u001b[0m\u001b[1;37mX\u001b[0m\u001b[1;37mX\u001b[0m\u001b[1;37mX\u001b[0m\u001b[1;37mX\u001b[0m\u001b[1;37mX\u001b[0m\u001b[1;37mX\u001b[0m\u001b[1;37mX\u001b[0m\u001b[1;37mX\u001b[0m\u001b[1;37mX\u001b[0m\u001b[1;37mX\u001b[0m\u001b[1;37mX\u001b[0m\u001b[1;37mX\u001b[0m\u001b[1;37mX\u001b[0m\u001b[1;37mX\u001b[0m\u001b[1;37mX\u001b[0m\u001b[1;37mX\u001b[0m\u001b[1;37mX\u001b[0m\n",
      "  \u001b[1;31mX\u001b[0m\u001b[1;32mX\u001b[0m\u001b[1;37mX\u001b[0m\u001b[1;37mX\u001b[0m\u001b[1;37mX\u001b[0m\u001b[1;37mX\u001b[0m\u001b[1;37mX\u001b[0m\u001b[1;37mX\u001b[0m\u001b[1;37mX\u001b[0m\u001b[1;37mX\u001b[0m\u001b[1;37mX\u001b[0m\u001b[1;37mX\u001b[0m\u001b[1;34mX\u001b[0m\u001b[1;37mX\u001b[0m\u001b[1;37mX\u001b[0m\u001b[1;37mX\u001b[0m\u001b[1;37mX\u001b[0m\u001b[1;37mX\u001b[0m\u001b[1;37mX\u001b[0m\u001b[1;37mX\u001b[0m\u001b[1;37mX\u001b[0m\u001b[1;37mX\u001b[0m\u001b[1;37mX\u001b[0m\u001b[1;37mX\u001b[0m\u001b[1;37mX\u001b[0m\u001b[1;37mX\u001b[0m\u001b[1;37mX\u001b[0m\u001b[1;37mX\u001b[0m\u001b[1;37mX\u001b[0m\u001b[1;37mX\u001b[0m\u001b[1;37mX\u001b[0m\u001b[1;37mX\u001b[0m\u001b[1;37mX\u001b[0m\u001b[1;37mX\u001b[0m\u001b[1;37mX\u001b[0m\u001b[1;37mX\u001b[0m\n",
      "            \u001b[1;31mX\u001b[0m\u001b[1;31mX\u001b[0m\u001b[1;32mX\u001b[0m\u001b[1;32mX\u001b[0m\u001b[1;37mX\u001b[0m\u001b[1;37mX\u001b[0m\u001b[1;37mX\u001b[0m\u001b[1;37mX\u001b[0m\u001b[1;37mX\u001b[0m\u001b[1;37mX\u001b[0m\u001b[1;37mX\u001b[0m\u001b[1;37mX\u001b[0m\u001b[1;37mX\u001b[0m\u001b[1;37mX\u001b[0m\u001b[1;37mX\u001b[0m\u001b[1;37mX\u001b[0m\u001b[1;37mX\u001b[0m\u001b[1;37mX\u001b[0m\u001b[1;37mX\u001b[0m\u001b[1;37mX\u001b[0m\u001b[1;37mX\u001b[0m\u001b[1;37mX\u001b[0m\u001b[1;37mX\u001b[0m\u001b[1;37mX\u001b[0m\u001b[1;37mX\u001b[0m\u001b[1;37mX\u001b[0m\u001b[1;37mX\u001b[0m\u001b[1;37mX\u001b[0m\u001b[1;37mX\u001b[0m\u001b[1;37mX\u001b[0m\u001b[1;37mX\u001b[0m\u001b[1;37mX\u001b[0m\u001b[1;37mX\u001b[0m\u001b[1;37mX\u001b[0m\u001b[1;37mX\u001b[0m\u001b[1;37mX\u001b[0m\u001b[1;37mX\u001b[0m\n",
      "            \u001b[1;31mX\u001b[0m\u001b[1;31mX\u001b[0m\u001b[1;32mX\u001b[0m\u001b[1;32mX\u001b[0m\u001b[1;37mX\u001b[0m\u001b[1;37mX\u001b[0m\u001b[1;37mX\u001b[0m\u001b[1;37mX\u001b[0m\u001b[1;37mX\u001b[0m\u001b[1;37mX\u001b[0m\u001b[1;37mX\u001b[0m\u001b[1;37mX\u001b[0m\u001b[1;37mX\u001b[0m\u001b[1;37mX\u001b[0m\u001b[1;37mX\u001b[0m\u001b[1;37mX\u001b[0m\u001b[1;37mX\u001b[0m\u001b[1;37mX\u001b[0m\u001b[1;37mX\u001b[0m\u001b[1;37mX\u001b[0m\u001b[1;37mX\u001b[0m\u001b[1;37mX\u001b[0m\u001b[1;37mX\u001b[0m\u001b[1;37mX\u001b[0m\u001b[1;37mX\u001b[0m\u001b[1;37mX\u001b[0m\u001b[1;37mX\u001b[0m\u001b[1;37mX\u001b[0m\u001b[1;37mX\u001b[0m\u001b[1;37mX\u001b[0m\u001b[1;37mX\u001b[0m\u001b[1;37mX\u001b[0m\u001b[1;37mX\u001b[0m\u001b[1;37mX\u001b[0m\u001b[1;37mX\u001b[0m\u001b[1;37mX\u001b[0m\u001b[1;37mX\u001b[0m\n",
      "             \u001b[1;31mX\u001b[0m\u001b[1;32mX\u001b[0m\u001b[1;37mX\u001b[0m\u001b[1;37mX\u001b[0m\u001b[1;37mX\u001b[0m\u001b[1;37mX\u001b[0m\u001b[1;37mX\u001b[0m\u001b[1;37mX\u001b[0m\u001b[1;37mX\u001b[0m\u001b[1;37mX\u001b[0m\u001b[1;37mX\u001b[0m\u001b[1;37mX\u001b[0m\u001b[1;37mX\u001b[0m\u001b[1;37mX\u001b[0m\u001b[1;37mX\u001b[0m\u001b[1;37mX\u001b[0m\u001b[1;37mX\u001b[0m\u001b[1;37mX\u001b[0m\u001b[1;37mX\u001b[0m\u001b[1;37mX\u001b[0m\u001b[1;37mX\u001b[0m\u001b[1;37mX\u001b[0m\u001b[1;37mX\u001b[0m\u001b[1;37mX\u001b[0m\u001b[1;37mX\u001b[0m\u001b[1;37mX\u001b[0m\u001b[1;37mX\u001b[0m\u001b[1;37mX\u001b[0m\u001b[1;37mX\u001b[0m\u001b[1;37mX\u001b[0m\u001b[1;37mX\u001b[0m\u001b[1;37mX\u001b[0m\u001b[1;37mX\u001b[0m\u001b[1;37mX\u001b[0m\u001b[1;37mX\u001b[0m\u001b[1;37mX\u001b[0m\n",
      "             \u001b[1;31mX\u001b[0m\u001b[1;32mX\u001b[0m\u001b[1;37mX\u001b[0m\u001b[1;37mX\u001b[0m\u001b[1;37mX\u001b[0m\u001b[1;37mX\u001b[0m\u001b[1;37mX\u001b[0m\u001b[1;37mX\u001b[0m\u001b[1;37mX\u001b[0m\u001b[1;37mX\u001b[0m\u001b[1;37mX\u001b[0m\u001b[1;37mX\u001b[0m\u001b[1;37mX\u001b[0m\u001b[1;37mX\u001b[0m\u001b[1;37mX\u001b[0m\u001b[1;37mX\u001b[0m\u001b[1;37mX\u001b[0m\u001b[1;37mX\u001b[0m\u001b[1;37mX\u001b[0m\u001b[1;37mX\u001b[0m\u001b[1;37mX\u001b[0m\u001b[1;37mX\u001b[0m\u001b[1;37mX\u001b[0m\u001b[1;37mX\u001b[0m\u001b[1;37mX\u001b[0m\u001b[1;37mX\u001b[0m\u001b[1;37mX\u001b[0m\u001b[1;37mX\u001b[0m\u001b[1;37mX\u001b[0m\u001b[1;37mX\u001b[0m\u001b[1;37mX\u001b[0m\u001b[1;37mX\u001b[0m\u001b[1;37mX\u001b[0m\u001b[1;37mX\u001b[0m\u001b[1;37mX\u001b[0m\u001b[1;37mX\u001b[0m\n"
     ]
    },
    {
     "data": {
      "text/plain": [
       "[None, None, None, None, None, None, None, None, None, None]"
      ]
     },
     "execution_count": 17,
     "metadata": {},
     "output_type": "execute_result"
    }
   ],
   "source": [
    "corrected_reads = correct_reads_with_consens(reads,probabilistic=False, alignment_bonus=ALIGNMENT_BONUS)\n",
    "[print_read_intendet_errors(r,alignment_bonus=ALIGNMENT_BONUS) for r in corrected_reads]"
   ]
  },
  {
   "cell_type": "code",
   "execution_count": 18,
   "metadata": {},
   "outputs": [],
   "source": [
    "DNA_LENGTH = 50           \n",
    "READ_lENGTH = 35 \n",
    "READ_COUNT = 10       "
   ]
  },
  {
   "cell_type": "code",
   "execution_count": 34,
   "metadata": {},
   "outputs": [
    {
     "name": "stdout",
     "output_type": "stream",
     "text": [
      "[0.22857142857142856, 0.02857142857142857, 0.11428571428571428, 0.14285714285714285, 0.17142857142857143, 0.17142857142857143, 0.11428571428571428, 0.05714285714285714, 0.08571428571428572, 0.17142857142857143]\n",
      "[0.0, 0.0, 0.0, 0.02857142857142857, 0.0, 0.0, 0.0, 0.0, 0.0, 0.0]\n",
      "[0.22857142857142856, 0.02857142857142857, 0.11428571428571428, 0.14285714285714285, 0.17142857142857143, 0.17142857142857143, 0.11428571428571428, 0.05714285714285714, 0.08571428571428572, 0.17142857142857143]\n",
      "[0.0, 0.0, 0.0, 0.02857142857142857, 0.0, 0.0, 0.0, 0.0, 0.0, 0.0]\n",
      "                        before after\n",
      "local edit distance     0.129 0.003\n",
      "arbitrary dna alignment 0.129 0.003\n"
     ]
    }
   ],
   "source": [
    "print(f\"                        before after\\n\"+\\\n",
    "f\"local edit distance     {most_likely_restorer_error_rate(reads):.3f} {most_likely_restorer_error_rate(corrected_reads):.3f}\\n\"+\\\n",
    "f\"arbitrary dna alignment {dna_distance_error_rate(dna, reads, alignment_bonus=ALIGNMENT_BONUS):.3f} {dna_distance_error_rate(dna, corrected_reads, alignment_bonus=ALIGNMENT_BONUS):.3f}\")"
   ]
  },
  {
   "cell_type": "code",
   "execution_count": 20,
   "metadata": {},
   "outputs": [
    {
     "name": "stdout",
     "output_type": "stream",
     "text": [
      "[0.11428571428571428, 0.22857142857142856, 0.08571428571428572, 0.14285714285714285, 0.17142857142857143, 0.2, 0.17142857142857143, 0.11428571428571428, 0.17142857142857143, 0.02857142857142857]\n"
     ]
    },
    {
     "data": {
      "text/plain": [
       "0.14285714285714285"
      ]
     },
     "execution_count": 20,
     "metadata": {},
     "output_type": "execute_result"
    }
   ],
   "source": [
    "dna_distance_error_rate(dna, reads, alignment_bonus=ALIGNMENT_BONUS)"
   ]
  },
  {
   "cell_type": "code",
   "execution_count": 21,
   "metadata": {},
   "outputs": [
    {
     "name": "stdout",
     "output_type": "stream",
     "text": [
      "[0.05714285714285714, 0.08571428571428572, 0.02857142857142857, 0.02857142857142857, 0.02857142857142857, 0.05714285714285714, 0.05714285714285714, 0.05714285714285714, 0.02857142857142857, 0.02857142857142857]\n"
     ]
    },
    {
     "data": {
      "text/plain": [
       "0.045714285714285714"
      ]
     },
     "execution_count": 21,
     "metadata": {},
     "output_type": "execute_result"
    }
   ],
   "source": [
    "dna_distance_error_rate(dna, corrected_reads, alignment_bonus=ALIGNMENT_BONUS)"
   ]
  },
  {
   "cell_type": "code",
   "execution_count": 22,
   "metadata": {},
   "outputs": [
    {
     "name": "stdout",
     "output_type": "stream",
     "text": [
      "[None, None]\n",
      "[None, None]\n",
      "[None, None]\n",
      "[None, None]\n",
      "[0.2, 0.17142857142857143, 0.17142857142857143, 0.17142857142857143, 0.08571428571428572, 0.2571428571428571, 0.22857142857142856, 0.14285714285714285, 0.17142857142857143, 0.14285714285714285]\n",
      "[0.0, 0.0, 0.08571428571428572, 0.05714285714285714, 0.02857142857142857, 0.0, 0.02857142857142857, 0.0, 0.0, 0.05714285714285714]\n",
      "[0.02857142857142857, 0.02857142857142857, 0.02857142857142857, 0.14285714285714285, 0.02857142857142857, 0.02857142857142857, 0.02857142857142857, 0.02857142857142857, 0.02857142857142857, 0.11428571428571428]\n",
      "[None, None]\n",
      "[None, None]\n",
      "[None, None]\n",
      "[None, None]\n",
      "[None, None]\n",
      "[None, None]\n",
      "[0.02857142857142857, 0.08571428571428572, 0.2, 0.14285714285714285, 0.11428571428571428, 0.17142857142857143, 0.11428571428571428, 0.2, 0.11428571428571428, 0.14285714285714285]\n",
      "[0.0, 0.0, 0.05714285714285714, 0.02857142857142857, 0.0, 0.0, 0.0, 0.02857142857142857, 0.02857142857142857, 0.0]\n",
      "[0.0, 0.0, 0.0, 0.0, 0.0, 0.0, 0.0, 0.02857142857142857, 0.0, 0.0]\n",
      "[None]\n",
      "[None]\n",
      "[None]\n",
      "[None]\n",
      "[None]\n",
      "[0.0, 0.05714285714285714, 0.17142857142857143, 0.2, 0.11428571428571428, 0.11428571428571428, 0.22857142857142856, 0.3142857142857143, 0.17142857142857143, 0.2]\n",
      "[0.0, 0.0, 0.02857142857142857, 0.0, 0.0, 0.0, 0.0, 0.0, 0.0, 0.0]\n",
      "[0.02857142857142857, 0.02857142857142857, 0.02857142857142857, 0.02857142857142857, 0.0, 0.0, 0.02857142857142857, 0.02857142857142857, 0.02857142857142857, 0.0]\n",
      "[None]\n",
      "[None]\n",
      "[0.22857142857142856, 0.02857142857142857, 0.11428571428571428, 0.14285714285714285, 0.17142857142857143, 0.17142857142857143, 0.11428571428571428, 0.05714285714285714, 0.08571428571428572, 0.17142857142857143]\n",
      "[0.0, 0.0, 0.0, 0.02857142857142857, 0.0, 0.0, 0.0, 0.0, 0.0, 0.0]\n",
      "[0.02857142857142857, 0.02857142857142857, 0.05714285714285714, 0.02857142857142857, 0.05714285714285714, 0.0, 0.0, 0.0, 0.0, 0.05714285714285714]\n",
      "[0.1742857142857143, 0.13142857142857142, 0.15714285714285714, 0.12857142857142856] [0.025714285714285714, 0.014285714285714285, 0.002857142857142857, 0.002857142857142857] [0.04857142857142857, 0.002857142857142857, 0.02, 0.025714285714285714]\n"
     ]
    }
   ],
   "source": [
    "\n",
    "before_correction = []\n",
    "normal_correction = []\n",
    "probabilistic_correction = []\n",
    "\n",
    "for i in range(4):\n",
    "\n",
    "    dna = generate_dna(DNA_LENGTH)\n",
    "    reads = [generate_read(dna, READ_lENGTH, lambda base: gauss_unsharp_uncertainty_generator(base, 0.47)) for _ in range(READ_COUNT)]\n",
    "\n",
    "    corrected_reads = correct_reads_with_consens(reads,probabilistic=False, alignment_bonus=NORMAL_ALIGNMENT_BONUS)\n",
    "    probabilistic_corrected_reads = correct_reads_with_consens(reads,probabilistic=True, alignment_bonus=PROBABILISTIC_ALIGNMENT_BONUS)\n",
    "\n",
    "    before_correction.append(dna_distance_error_rate(dna, reads, alignment_bonus=NORMAL_ALIGNMENT_BONUS))\n",
    "    normal_correction.append(dna_distance_error_rate(dna, corrected_reads, alignment_bonus=NORMAL_ALIGNMENT_BONUS))\n",
    "    probabilistic_correction.append(dna_distance_error_rate(dna, probabilistic_corrected_reads, alignment_bonus=PROBABILISTIC_ALIGNMENT_BONUS))\n",
    "\n",
    "print(before_correction, normal_correction, probabilistic_correction)\n"
   ]
  },
  {
   "cell_type": "code",
   "execution_count": 23,
   "metadata": {},
   "outputs": [],
   "source": [
    "import matplotlib.pyplot as plt\n",
    "import numpy as np\n",
    "import pandas as pd"
   ]
  },
  {
   "cell_type": "code",
   "execution_count": 24,
   "metadata": {},
   "outputs": [
    {
     "data": {
      "text/plain": [
       "<BarContainer object of 3 artists>"
      ]
     },
     "execution_count": 24,
     "metadata": {},
     "output_type": "execute_result"
    },
    {
     "data": {
      "image/png": "[encoded data removed]",
      "text/plain": [
       "<Figure size 640x480 with 1 Axes>"
      ]
     },
     "metadata": {},
     "output_type": "display_data"
    }
   ],
   "source": [
    "plt.bar(\n",
    "    [\"no correction\", \"normal correction\", \"probabilistic correction\"],\n",
    "    [np.mean(before_correction), np.mean(normal_correction), np.mean(probabilistic_correction)],\n",
    "    yerr=[pd.Series(before_correction).sem(),pd.Series(normal_correction).sem(), pd.Series(probabilistic_correction).sem()],\n",
    "    capsize=6\n",
    "    )\n",
    "#plt.ylim(0,0.02)"
   ]
  },
  {
   "cell_type": "code",
   "execution_count": 25,
   "metadata": {},
   "outputs": [
    {
     "data": {
      "text/plain": [
       "[0.1742857142857143,\n",
       " 0.13142857142857142,\n",
       " 0.15714285714285714,\n",
       " 0.12857142857142856]"
      ]
     },
     "execution_count": 25,
     "metadata": {},
     "output_type": "execute_result"
    }
   ],
   "source": [
    "before_correction"
   ]
  },
  {
   "cell_type": "code",
   "execution_count": 26,
   "metadata": {},
   "outputs": [],
   "source": [
    "# boni = [0.2,0.4,0.6,0.8,1]\n",
    "# data = [[] for _ in range(len(boni))]\n",
    "# \n",
    "# \n",
    "# for i in range(4):\n",
    "    # dna = generate_dna(DNA_LENGTH)\n",
    "    # reads = [generate_read(dna, READ_lENGTH, lambda base: gauss_unsharp_uncertainty_generator(base, 0.47)) for _ in range(READ_COUNT)]\n",
    "    #probabilistic_corrected_reads = correct_reads_with_consens(reads,probabilistic=True, alignment_bonus=PROBABILISTIC_ALIGNMENT_BONUS)\n",
    "    # for j in range(len(boni)):\n",
    "        # corrected_reads = correct_reads_with_consens(reads, probabilistic=False, alignment_bonus=boni[j])\n",
    "        # data[j].append(dna_distance_error_rate(dna, corrected_reads, alignment_bonus=boni[j]))\n",
    "# \n",
    "# data"
   ]
  },
  {
   "cell_type": "code",
   "execution_count": 27,
   "metadata": {},
   "outputs": [],
   "source": [
    "# plt.bar(\n",
    "    # [str(b) for b in boni],\n",
    "    # [np.mean(boni_data) for boni_data in data],\n",
    "    # yerr=[pd.Series(boni_data).sem() for boni_data in data],\n",
    "    # capsize=6\n",
    "    # )"
   ]
  }
 ],
 "metadata": {
  "kernelspec": {
   "display_name": "bachelor_thesis",
   "language": "python",
   "name": "python3"
  },
  "language_info": {
   "codemirror_mode": {
    "name": "ipython",
    "version": 3
   },
   "file_extension": ".py",
   "mimetype": "text/x-python",
   "name": "python",
   "nbconvert_exporter": "python",
   "pygments_lexer": "ipython3",
   "version": "3.10.12"
  }
 },
 "nbformat": 4,
 "nbformat_minor": 2
}

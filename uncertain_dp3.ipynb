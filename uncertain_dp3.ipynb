{
 "cells": [
  {
   "cell_type": "code",
   "execution_count": 1,
   "metadata": {},
   "outputs": [],
   "source": [
    "from uncertain_dp2 import *"
   ]
  },
  {
   "cell_type": "code",
   "execution_count": 2,
   "metadata": {},
   "outputs": [],
   "source": [
    "from pot_correction import *"
   ]
  },
  {
   "cell_type": "code",
   "execution_count": 3,
   "metadata": {},
   "outputs": [],
   "source": [
    "import random\n",
    "#random.seed(1)"
   ]
  },
  {
   "cell_type": "code",
   "execution_count": 4,
   "metadata": {},
   "outputs": [],
   "source": [
    "import matplotlib.pyplot as plt\n",
    "import numpy as np\n",
    "import pandas as pd"
   ]
  },
  {
   "cell_type": "code",
   "execution_count": 5,
   "metadata": {},
   "outputs": [],
   "source": [
    "DNA_LENGTH = 50           \n",
    "READ_lENGTH = 35\n",
    "READ_COUNT = 10\n",
    "\n",
    "PROBABILISTIC_ALIGNMENT_BONUS = 2\n",
    "NORMAL_ALIGNMENT_BONUS = 0.7\n",
    "\n",
    "ALIGNMENT_BONUS = PROBABILISTIC_ALIGNMENT_BONUS"
   ]
  },
  {
   "cell_type": "code",
   "execution_count": 6,
   "metadata": {},
   "outputs": [],
   "source": [
    "dna = generate_dna(DNA_LENGTH)\n",
    "reads = [generate_read(dna, READ_lENGTH, lambda base: gauss_unsharp_uncertainty_generator(base, 0.47)) for _ in range(READ_COUNT)]"
   ]
  },
  {
   "cell_type": "code",
   "execution_count": 7,
   "metadata": {},
   "outputs": [
    {
     "data": {
      "text/plain": [
       "[0.6735958798043165, 0.0, 0.3264041201956835, 0.0]"
      ]
     },
     "execution_count": 7,
     "metadata": {},
     "output_type": "execute_result"
    }
   ],
   "source": [
    "reads[0].uncertain_text[0]"
   ]
  },
  {
   "cell_type": "code",
   "execution_count": 8,
   "metadata": {},
   "outputs": [],
   "source": [
    "check_dna_distance_error_rate_suitable(dna, reads, alignment_bonus=ALIGNMENT_BONUS)"
   ]
  },
  {
   "cell_type": "code",
   "execution_count": 9,
   "metadata": {},
   "outputs": [
    {
     "name": "stdout",
     "output_type": "stream",
     "text": [
      "             \u001b[1;37mX\u001b[0m\u001b[1;37mX\u001b[0m\u001b[1;37mX\u001b[0m\u001b[1;34mX\u001b[0m\u001b[1;37mX\u001b[0m\u001b[1;37mX\u001b[0m\u001b[1;37mX\u001b[0m\u001b[1;37mX\u001b[0m\u001b[1;37mX\u001b[0m\u001b[1;37mX\u001b[0m\u001b[1;37mX\u001b[0m\u001b[1;37mX\u001b[0m\u001b[1;37mX\u001b[0m\u001b[1;37mX\u001b[0m\u001b[1;37mX\u001b[0m\u001b[1;37mX\u001b[0m\u001b[1;37mX\u001b[0m\u001b[1;34mX\u001b[0m\u001b[1;34mX\u001b[0m\u001b[1;37mX\u001b[0m\u001b[1;37mX\u001b[0m\u001b[1;37mX\u001b[0m\u001b[1;37mX\u001b[0m\u001b[1;37mX\u001b[0m\u001b[1;37mX\u001b[0m\u001b[1;37mX\u001b[0m\u001b[1;37mX\u001b[0m\u001b[1;37mX\u001b[0m\u001b[1;37mX\u001b[0m\u001b[1;37mX\u001b[0m\u001b[1;37mX\u001b[0m\u001b[1;37mX\u001b[0m\u001b[1;37mX\u001b[0m\u001b[1;37mX\u001b[0m\u001b[1;37mX\u001b[0m\n",
      "    \u001b[1;37mX\u001b[0m\u001b[1;37mX\u001b[0m\u001b[1;37mX\u001b[0m\u001b[1;34mX\u001b[0m\u001b[1;37mX\u001b[0m\u001b[1;37mX\u001b[0m\u001b[1;37mX\u001b[0m\u001b[1;31mX\u001b[0m\u001b[1;37mX\u001b[0m\u001b[1;37mX\u001b[0m\u001b[1;32mX\u001b[0m\u001b[1;34mX\u001b[0m\u001b[1;37mX\u001b[0m\u001b[1;34mX\u001b[0m\u001b[1;37mX\u001b[0m\u001b[1;37mX\u001b[0m\u001b[1;37mX\u001b[0m\u001b[1;37mX\u001b[0m\u001b[1;37mX\u001b[0m\u001b[1;34mX\u001b[0m\u001b[1;37mX\u001b[0m\u001b[1;37mX\u001b[0m\u001b[1;37mX\u001b[0m\u001b[1;37mX\u001b[0m\u001b[1;37mX\u001b[0m\u001b[1;37mX\u001b[0m\u001b[1;37mX\u001b[0m\u001b[1;37mX\u001b[0m\u001b[1;34mX\u001b[0m\u001b[1;37mX\u001b[0m\u001b[1;37mX\u001b[0m\u001b[1;37mX\u001b[0m\u001b[1;37mX\u001b[0m\u001b[1;37mX\u001b[0m\u001b[1;37mX\u001b[0m\u001b[1;37mX\u001b[0m\n",
      "           \u001b[1;31mX\u001b[0m\u001b[1;31mX\u001b[0m\u001b[1;37mX\u001b[0m\u001b[1;37mX\u001b[0m\u001b[1;37mX\u001b[0m\u001b[1;32mX\u001b[0m\u001b[1;32mX\u001b[0m\u001b[1;37mX\u001b[0m\u001b[1;37mX\u001b[0m\u001b[1;37mX\u001b[0m\u001b[1;37mX\u001b[0m\u001b[1;37mX\u001b[0m\u001b[1;37mX\u001b[0m\u001b[1;37mX\u001b[0m\u001b[1;37mX\u001b[0m\u001b[1;37mX\u001b[0m\u001b[1;37mX\u001b[0m\u001b[1;37mX\u001b[0m\u001b[1;37mX\u001b[0m\u001b[1;37mX\u001b[0m\u001b[1;37mX\u001b[0m\u001b[1;37mX\u001b[0m\u001b[1;37mX\u001b[0m\u001b[1;37mX\u001b[0m\u001b[1;37mX\u001b[0m\u001b[1;37mX\u001b[0m\u001b[1;37mX\u001b[0m\u001b[1;34mX\u001b[0m\u001b[1;37mX\u001b[0m\u001b[1;37mX\u001b[0m\u001b[1;37mX\u001b[0m\u001b[1;37mX\u001b[0m\u001b[1;34mX\u001b[0m\u001b[1;37mX\u001b[0m\u001b[1;37mX\u001b[0m\u001b[1;37mX\u001b[0m\u001b[1;37mX\u001b[0m\n",
      "   \u001b[1;31mX\u001b[0m\u001b[1;37mX\u001b[0m\u001b[1;32mX\u001b[0m\u001b[1;37mX\u001b[0m\u001b[1;37mX\u001b[0m\u001b[1;37mX\u001b[0m\u001b[1;32mX\u001b[0m\u001b[1;37mX\u001b[0m\u001b[1;31mX\u001b[0m\u001b[1;37mX\u001b[0m\u001b[1;37mX\u001b[0m\u001b[1;37mX\u001b[0m\u001b[1;37mX\u001b[0m\u001b[1;37mX\u001b[0m\u001b[1;37mX\u001b[0m\u001b[1;37mX\u001b[0m\u001b[1;37mX\u001b[0m\u001b[1;37mX\u001b[0m\u001b[1;37mX\u001b[0m\u001b[1;37mX\u001b[0m\u001b[1;34mX\u001b[0m\u001b[1;37mX\u001b[0m\u001b[1;37mX\u001b[0m\u001b[1;34mX\u001b[0m\u001b[1;37mX\u001b[0m\u001b[1;37mX\u001b[0m\u001b[1;34mX\u001b[0m\u001b[1;37mX\u001b[0m\u001b[1;37mX\u001b[0m\u001b[1;37mX\u001b[0m\u001b[1;34mX\u001b[0m\u001b[1;37mX\u001b[0m\u001b[1;37mX\u001b[0m\u001b[1;37mX\u001b[0m\u001b[1;37mX\u001b[0m\u001b[1;32mX\u001b[0m\u001b[1;37mX\u001b[0m\u001b[1;31m...\u001b[0m\n",
      "\u001b[1;37mX\u001b[0m\u001b[1;37mX\u001b[0m\u001b[1;37mX\u001b[0m\u001b[1;37mX\u001b[0m\u001b[1;37mX\u001b[0m\u001b[1;34mX\u001b[0m\u001b[1;37mX\u001b[0m\u001b[1;34mX\u001b[0m\u001b[1;37mX\u001b[0m\u001b[1;37mX\u001b[0m\u001b[1;37mX\u001b[0m\u001b[1;37mX\u001b[0m\u001b[1;37mX\u001b[0m\u001b[1;37mX\u001b[0m\u001b[1;37mX\u001b[0m\u001b[1;37mX\u001b[0m\u001b[1;37mX\u001b[0m\u001b[1;37mX\u001b[0m\u001b[1;37mX\u001b[0m\u001b[1;37mX\u001b[0m\u001b[1;37mX\u001b[0m\u001b[1;37mX\u001b[0m\u001b[1;37mX\u001b[0m\u001b[1;37mX\u001b[0m\u001b[1;37mX\u001b[0m\u001b[1;37mX\u001b[0m\u001b[1;37mX\u001b[0m\u001b[1;37mX\u001b[0m\u001b[1;37mX\u001b[0m\u001b[1;37mX\u001b[0m\u001b[1;37mX\u001b[0m\u001b[1;37mX\u001b[0m\u001b[1;31mX\u001b[0m\u001b[1;37mX\u001b[0m\u001b[1;31mX\u001b[0m\u001b[1;32m...\u001b[0m\n",
      "       \u001b[1;37mX\u001b[0m\u001b[1;37mX\u001b[0m\u001b[1;37mX\u001b[0m\u001b[1;34mX\u001b[0m\u001b[1;37mX\u001b[0m\u001b[1;37mX\u001b[0m\u001b[1;37mX\u001b[0m\u001b[1;37mX\u001b[0m\u001b[1;34mX\u001b[0m\u001b[1;37mX\u001b[0m\u001b[1;37mX\u001b[0m\u001b[1;37mX\u001b[0m\u001b[1;37mX\u001b[0m\u001b[1;37mX\u001b[0m\u001b[1;37mX\u001b[0m\u001b[1;37mX\u001b[0m\u001b[1;37mX\u001b[0m\u001b[1;37mX\u001b[0m\u001b[1;37mX\u001b[0m\u001b[1;37mX\u001b[0m\u001b[1;34mX\u001b[0m\u001b[1;37mX\u001b[0m\u001b[1;37mX\u001b[0m\u001b[1;37mX\u001b[0m\u001b[1;37mX\u001b[0m\u001b[1;37mX\u001b[0m\u001b[1;37mX\u001b[0m\u001b[1;37mX\u001b[0m\u001b[1;34mX\u001b[0m\u001b[1;37mX\u001b[0m\u001b[1;37mX\u001b[0m\u001b[1;37mX\u001b[0m\u001b[1;32mX\u001b[0m\u001b[1;37mX\u001b[0m\u001b[1;37mX\u001b[0m\u001b[1;31m...\u001b[0m\n",
      "         \u001b[1;31mX\u001b[0m\u001b[1;32mX\u001b[0m\u001b[1;37mX\u001b[0m\u001b[1;37mX\u001b[0m\u001b[1;37mX\u001b[0m\u001b[1;37mX\u001b[0m\u001b[1;37mX\u001b[0m\u001b[1;37mX\u001b[0m\u001b[1;34mX\u001b[0m\u001b[1;37mX\u001b[0m\u001b[1;37mX\u001b[0m\u001b[1;31mX\u001b[0m\u001b[1;37mX\u001b[0m\u001b[1;32mX\u001b[0m\u001b[1;37mX\u001b[0m\u001b[1;37mX\u001b[0m\u001b[1;34mX\u001b[0m\u001b[1;37mX\u001b[0m\u001b[1;37mX\u001b[0m\u001b[1;37mX\u001b[0m\u001b[1;34mX\u001b[0m\u001b[1;37mX\u001b[0m\u001b[1;37mX\u001b[0m\u001b[1;34mX\u001b[0m\u001b[1;37mX\u001b[0m\u001b[1;37mX\u001b[0m\u001b[1;37mX\u001b[0m\u001b[1;37mX\u001b[0m\u001b[1;37mX\u001b[0m\u001b[1;37mX\u001b[0m\u001b[1;37mX\u001b[0m\u001b[1;37mX\u001b[0m\u001b[1;37mX\u001b[0m\u001b[1;37mX\u001b[0m\u001b[1;37mX\u001b[0m\u001b[1;37mX\u001b[0m\u001b[1;37mX\u001b[0m\n",
      "        \u001b[1;37mX\u001b[0m\u001b[1;37mX\u001b[0m\u001b[1;37mX\u001b[0m\u001b[1;37mX\u001b[0m\u001b[1;37mX\u001b[0m\u001b[1;37mX\u001b[0m\u001b[1;37mX\u001b[0m\u001b[1;37mX\u001b[0m\u001b[1;34mX\u001b[0m\u001b[1;37mX\u001b[0m\u001b[1;34mX\u001b[0m\u001b[1;37mX\u001b[0m\u001b[1;37mX\u001b[0m\u001b[1;37mX\u001b[0m\u001b[1;37mX\u001b[0m\u001b[1;37mX\u001b[0m\u001b[1;37mX\u001b[0m\u001b[1;31mX\u001b[0m\u001b[1;37mX\u001b[0m\u001b[1;37mX\u001b[0m\u001b[1;32mX\u001b[0m\u001b[1;37mX\u001b[0m\u001b[1;37mX\u001b[0m\u001b[1;37mX\u001b[0m\u001b[1;37mX\u001b[0m\u001b[1;37mX\u001b[0m\u001b[1;37mX\u001b[0m\u001b[1;37mX\u001b[0m\u001b[1;37mX\u001b[0m\u001b[1;34mX\u001b[0m\u001b[1;37mX\u001b[0m\u001b[1;37mX\u001b[0m\u001b[1;37mX\u001b[0m\u001b[1;37mX\u001b[0m\u001b[1;37mX\u001b[0m\u001b[1;37mX\u001b[0m\n",
      " \u001b[1;37mX\u001b[0m\u001b[1;37mX\u001b[0m\u001b[1;37mX\u001b[0m\u001b[1;37mX\u001b[0m\u001b[1;37mX\u001b[0m\u001b[1;37mX\u001b[0m\u001b[1;37mX\u001b[0m\u001b[1;37mX\u001b[0m\u001b[1;37mX\u001b[0m\u001b[1;37mX\u001b[0m\u001b[1;37mX\u001b[0m\u001b[1;37mX\u001b[0m\u001b[1;37mX\u001b[0m\u001b[1;37mX\u001b[0m\u001b[1;37mX\u001b[0m\u001b[1;37mX\u001b[0m\u001b[1;37mX\u001b[0m\u001b[1;37mX\u001b[0m\u001b[1;37mX\u001b[0m\u001b[1;37mX\u001b[0m\u001b[1;37mX\u001b[0m\u001b[1;37mX\u001b[0m\u001b[1;37mX\u001b[0m\u001b[1;37mX\u001b[0m\u001b[1;37mX\u001b[0m\u001b[1;37mX\u001b[0m\u001b[1;37mX\u001b[0m\u001b[1;37mX\u001b[0m\u001b[1;37mX\u001b[0m\u001b[1;37mX\u001b[0m\u001b[1;37mX\u001b[0m\u001b[1;37mX\u001b[0m\u001b[1;37mX\u001b[0m\u001b[1;37mX\u001b[0m\u001b[1;37mX\u001b[0m\n",
      "       \u001b[1;37mX\u001b[0m\u001b[1;37mX\u001b[0m\u001b[1;37mX\u001b[0m\u001b[1;37mX\u001b[0m\u001b[1;37mX\u001b[0m\u001b[1;37mX\u001b[0m\u001b[1;37mX\u001b[0m\u001b[1;37mX\u001b[0m\u001b[1;37mX\u001b[0m\u001b[1;34mX\u001b[0m\u001b[1;37mX\u001b[0m\u001b[1;34mX\u001b[0m\u001b[1;37mX\u001b[0m\u001b[1;37mX\u001b[0m\u001b[1;37mX\u001b[0m\u001b[1;37mX\u001b[0m\u001b[1;37mX\u001b[0m\u001b[1;37mX\u001b[0m\u001b[1;37mX\u001b[0m\u001b[1;37mX\u001b[0m\u001b[1;34mX\u001b[0m\u001b[1;37mX\u001b[0m\u001b[1;34mX\u001b[0m\u001b[1;37mX\u001b[0m\u001b[1;37mX\u001b[0m\u001b[1;37mX\u001b[0m\u001b[1;37mX\u001b[0m\u001b[1;37mX\u001b[0m\u001b[1;37mX\u001b[0m\u001b[1;37mX\u001b[0m\u001b[1;37mX\u001b[0m\u001b[1;37mX\u001b[0m\u001b[1;37mX\u001b[0m\u001b[1;32mX\u001b[0m\u001b[1;37mX\u001b[0m\u001b[1;31m...\u001b[0m\n"
     ]
    },
    {
     "data": {
      "text/plain": [
       "[None, None, None, None, None, None, None, None, None, None]"
      ]
     },
     "execution_count": 9,
     "metadata": {},
     "output_type": "execute_result"
    }
   ],
   "source": [
    "[print_read_intendet_errors(r,alignment_bonus=ALIGNMENT_BONUS) for r in reads]"
   ]
  },
  {
   "cell_type": "code",
   "execution_count": 10,
   "metadata": {},
   "outputs": [
    {
     "name": "stdout",
     "output_type": "stream",
     "text": [
      "             \u001b[1;31mX\u001b[0m\u001b[1;31mX\u001b[0m\u001b[1;31mX\u001b[0m\u001b[1;31mX\u001b[0m\u001b[1;37mX\u001b[0m\u001b[1;37mX\u001b[0m\u001b[1;37mX\u001b[0m\u001b[1;37mX\u001b[0m\u001b[1;37mX\u001b[0m\u001b[1;37mX\u001b[0m\u001b[1;37mX\u001b[0m\u001b[1;37mX\u001b[0m\u001b[1;37mX\u001b[0m\u001b[1;37mX\u001b[0m\u001b[1;37mX\u001b[0m\u001b[1;37mX\u001b[0m\u001b[1;37mX\u001b[0m\u001b[1;37mX\u001b[0m\u001b[1;37mX\u001b[0m\u001b[1;37mX\u001b[0m\u001b[1;37mX\u001b[0m\u001b[1;37mX\u001b[0m\u001b[1;37mX\u001b[0m\u001b[1;37mX\u001b[0m\u001b[1;37mX\u001b[0m\u001b[1;37mX\u001b[0m\u001b[1;37mX\u001b[0m\u001b[1;37mX\u001b[0m\u001b[1;37mX\u001b[0m\u001b[1;37mX\u001b[0m\u001b[1;37mX\u001b[0m\u001b[1;37mX\u001b[0m\u001b[1;37mX\u001b[0m\u001b[1;37mX\u001b[0m\u001b[1;37mX\u001b[0m\u001b[1;37mX\u001b[0m\u001b[1;37mX\u001b[0m\u001b[1;37mX\u001b[0m\u001b[1;37mX\u001b[0m\n",
      "    \u001b[1;37mX\u001b[0m\u001b[1;37mX\u001b[0m\u001b[1;37mX\u001b[0m\u001b[1;31mX\u001b[0m\u001b[1;31mX\u001b[0m\u001b[1;37mX\u001b[0m\u001b[1;31mX\u001b[0m\u001b[1;31mX\u001b[0m\u001b[1;37mX\u001b[0m\u001b[1;34mX\u001b[0m\u001b[1;37mX\u001b[0m\u001b[1;37mX\u001b[0m\u001b[1;37mX\u001b[0m\u001b[1;37mX\u001b[0m\u001b[1;37mX\u001b[0m\u001b[1;37mX\u001b[0m\u001b[1;37mX\u001b[0m\u001b[1;37mX\u001b[0m\u001b[1;37mX\u001b[0m\u001b[1;37mX\u001b[0m\u001b[1;37mX\u001b[0m\u001b[1;37mX\u001b[0m\u001b[1;37mX\u001b[0m\u001b[1;37mX\u001b[0m\u001b[1;37mX\u001b[0m\u001b[1;37mX\u001b[0m\u001b[1;37mX\u001b[0m\u001b[1;37mX\u001b[0m\u001b[1;37mX\u001b[0m\u001b[1;37mX\u001b[0m\u001b[1;37mX\u001b[0m\u001b[1;37mX\u001b[0m\u001b[1;37mX\u001b[0m\u001b[1;37mX\u001b[0m\u001b[1;37mX\u001b[0m\u001b[1;37mX\u001b[0m\u001b[1;37mX\u001b[0m\u001b[1;37mX\u001b[0m\u001b[1;37mX\u001b[0m\n",
      "           \u001b[1;31mX\u001b[0m\u001b[1;31mX\u001b[0m\u001b[1;37mX\u001b[0m\u001b[1;37mX\u001b[0m\u001b[1;37mX\u001b[0m\u001b[1;37mX\u001b[0m\u001b[1;37mX\u001b[0m\u001b[1;37mX\u001b[0m\u001b[1;37mX\u001b[0m\u001b[1;37mX\u001b[0m\u001b[1;37mX\u001b[0m\u001b[1;37mX\u001b[0m\u001b[1;37mX\u001b[0m\u001b[1;37mX\u001b[0m\u001b[1;37mX\u001b[0m\u001b[1;37mX\u001b[0m\u001b[1;37mX\u001b[0m\u001b[1;37mX\u001b[0m\u001b[1;37mX\u001b[0m\u001b[1;37mX\u001b[0m\u001b[1;37mX\u001b[0m\u001b[1;37mX\u001b[0m\u001b[1;37mX\u001b[0m\u001b[1;37mX\u001b[0m\u001b[1;37mX\u001b[0m\u001b[1;37mX\u001b[0m\u001b[1;37mX\u001b[0m\u001b[1;37mX\u001b[0m\u001b[1;37mX\u001b[0m\u001b[1;37mX\u001b[0m\u001b[1;37mX\u001b[0m\u001b[1;37mX\u001b[0m\u001b[1;37mX\u001b[0m\u001b[1;37mX\u001b[0m\u001b[1;37mX\u001b[0m\u001b[1;37mX\u001b[0m\u001b[1;37mX\u001b[0m\n",
      "   \u001b[1;31mX\u001b[0m\u001b[1;37mX\u001b[0m\u001b[1;32mX\u001b[0m\u001b[1;37mX\u001b[0m\u001b[1;37mX\u001b[0m\u001b[1;37mX\u001b[0m\u001b[1;32mX\u001b[0m\u001b[1;37mX\u001b[0m\u001b[1;31mX\u001b[0m\u001b[1;37mX\u001b[0m\u001b[1;37mX\u001b[0m\u001b[1;37mX\u001b[0m\u001b[1;37mX\u001b[0m\u001b[1;37mX\u001b[0m\u001b[1;37mX\u001b[0m\u001b[1;37mX\u001b[0m\u001b[1;37mX\u001b[0m\u001b[1;37mX\u001b[0m\u001b[1;37mX\u001b[0m\u001b[1;37mX\u001b[0m\u001b[1;37mX\u001b[0m\u001b[1;37mX\u001b[0m\u001b[1;37mX\u001b[0m\u001b[1;37mX\u001b[0m\u001b[1;37mX\u001b[0m\u001b[1;37mX\u001b[0m\u001b[1;37mX\u001b[0m\u001b[1;37mX\u001b[0m\u001b[1;37mX\u001b[0m\u001b[1;37mX\u001b[0m\u001b[1;37mX\u001b[0m\u001b[1;37mX\u001b[0m\u001b[1;37mX\u001b[0m\u001b[1;37mX\u001b[0m\u001b[1;37mX\u001b[0m\u001b[1;37mX\u001b[0m\u001b[1;37mX\u001b[0m\u001b[1;31m...\u001b[0m\n",
      "\u001b[1;37mX\u001b[0m\u001b[1;37mX\u001b[0m\u001b[1;37mX\u001b[0m\u001b[1;37mX\u001b[0m\u001b[1;32mX\u001b[0m\u001b[1;32mX\u001b[0m\u001b[1;32mX\u001b[0m\u001b[1;32mX\u001b[0m\u001b[1;37mX\u001b[0m\u001b[1;34mX\u001b[0m\u001b[1;37mX\u001b[0m\u001b[1;37mX\u001b[0m\u001b[1;37mX\u001b[0m\u001b[1;37mX\u001b[0m\u001b[1;37mX\u001b[0m\u001b[1;37mX\u001b[0m\u001b[1;37mX\u001b[0m\u001b[1;37mX\u001b[0m\u001b[1;37mX\u001b[0m\u001b[1;37mX\u001b[0m\u001b[1;37mX\u001b[0m\u001b[1;37mX\u001b[0m\u001b[1;37mX\u001b[0m\u001b[1;37mX\u001b[0m\u001b[1;37mX\u001b[0m\u001b[1;37mX\u001b[0m\u001b[1;37mX\u001b[0m\u001b[1;37mX\u001b[0m\u001b[1;37mX\u001b[0m\u001b[1;37mX\u001b[0m\u001b[1;37mX\u001b[0m\u001b[1;37mX\u001b[0m\u001b[1;37mX\u001b[0m\u001b[1;37mX\u001b[0m\u001b[1;37mX\u001b[0m\u001b[1;31m...\u001b[0m\n",
      "       \u001b[1;37mX\u001b[0m\u001b[1;37mX\u001b[0m\u001b[1;37mX\u001b[0m\u001b[1;37mX\u001b[0m\u001b[1;37mX\u001b[0m\u001b[1;37mX\u001b[0m\u001b[1;37mX\u001b[0m\u001b[1;37mX\u001b[0m\u001b[1;37mX\u001b[0m\u001b[1;37mX\u001b[0m\u001b[1;37mX\u001b[0m\u001b[1;37mX\u001b[0m\u001b[1;37mX\u001b[0m\u001b[1;37mX\u001b[0m\u001b[1;37mX\u001b[0m\u001b[1;37mX\u001b[0m\u001b[1;37mX\u001b[0m\u001b[1;37mX\u001b[0m\u001b[1;37mX\u001b[0m\u001b[1;37mX\u001b[0m\u001b[1;37mX\u001b[0m\u001b[1;37mX\u001b[0m\u001b[1;37mX\u001b[0m\u001b[1;37mX\u001b[0m\u001b[1;37mX\u001b[0m\u001b[1;37mX\u001b[0m\u001b[1;37mX\u001b[0m\u001b[1;37mX\u001b[0m\u001b[1;37mX\u001b[0m\u001b[1;37mX\u001b[0m\u001b[1;37mX\u001b[0m\u001b[1;37mX\u001b[0m\u001b[1;37mX\u001b[0m\u001b[1;37mX\u001b[0m\u001b[1;37mX\u001b[0m\u001b[1;31m...\u001b[0m\n",
      "         \u001b[1;31mX\u001b[0m\u001b[1;32mX\u001b[0m\u001b[1;37mX\u001b[0m\u001b[1;37mX\u001b[0m\u001b[1;37mX\u001b[0m\u001b[1;37mX\u001b[0m\u001b[1;37mX\u001b[0m\u001b[1;37mX\u001b[0m\u001b[1;37mX\u001b[0m\u001b[1;37mX\u001b[0m\u001b[1;37mX\u001b[0m\u001b[1;37mX\u001b[0m\u001b[1;37mX\u001b[0m\u001b[1;37mX\u001b[0m\u001b[1;37mX\u001b[0m\u001b[1;37mX\u001b[0m\u001b[1;37mX\u001b[0m\u001b[1;37mX\u001b[0m\u001b[1;37mX\u001b[0m\u001b[1;37mX\u001b[0m\u001b[1;37mX\u001b[0m\u001b[1;37mX\u001b[0m\u001b[1;37mX\u001b[0m\u001b[1;37mX\u001b[0m\u001b[1;37mX\u001b[0m\u001b[1;37mX\u001b[0m\u001b[1;37mX\u001b[0m\u001b[1;37mX\u001b[0m\u001b[1;37mX\u001b[0m\u001b[1;37mX\u001b[0m\u001b[1;37mX\u001b[0m\u001b[1;37mX\u001b[0m\u001b[1;37mX\u001b[0m\u001b[1;37mX\u001b[0m\u001b[1;37mX\u001b[0m\u001b[1;37mX\u001b[0m\n",
      "        \u001b[1;37mX\u001b[0m\u001b[1;37mX\u001b[0m\u001b[1;37mX\u001b[0m\u001b[1;37mX\u001b[0m\u001b[1;37mX\u001b[0m\u001b[1;37mX\u001b[0m\u001b[1;37mX\u001b[0m\u001b[1;37mX\u001b[0m\u001b[1;37mX\u001b[0m\u001b[1;37mX\u001b[0m\u001b[1;37mX\u001b[0m\u001b[1;37mX\u001b[0m\u001b[1;37mX\u001b[0m\u001b[1;37mX\u001b[0m\u001b[1;37mX\u001b[0m\u001b[1;37mX\u001b[0m\u001b[1;37mX\u001b[0m\u001b[1;37mX\u001b[0m\u001b[1;37mX\u001b[0m\u001b[1;37mX\u001b[0m\u001b[1;37mX\u001b[0m\u001b[1;37mX\u001b[0m\u001b[1;37mX\u001b[0m\u001b[1;37mX\u001b[0m\u001b[1;37mX\u001b[0m\u001b[1;37mX\u001b[0m\u001b[1;37mX\u001b[0m\u001b[1;37mX\u001b[0m\u001b[1;37mX\u001b[0m\u001b[1;37mX\u001b[0m\u001b[1;37mX\u001b[0m\u001b[1;37mX\u001b[0m\u001b[1;37mX\u001b[0m\u001b[1;37mX\u001b[0m\u001b[1;37mX\u001b[0m\n",
      " \u001b[1;37mX\u001b[0m\u001b[1;37mX\u001b[0m\u001b[1;37mX\u001b[0m\u001b[1;32mX\u001b[0m\u001b[1;32mX\u001b[0m\u001b[1;32mX\u001b[0m\u001b[1;32mX\u001b[0m\u001b[1;37mX\u001b[0m\u001b[1;34mX\u001b[0m\u001b[1;37mX\u001b[0m\u001b[1;37mX\u001b[0m\u001b[1;37mX\u001b[0m\u001b[1;37mX\u001b[0m\u001b[1;37mX\u001b[0m\u001b[1;37mX\u001b[0m\u001b[1;37mX\u001b[0m\u001b[1;37mX\u001b[0m\u001b[1;37mX\u001b[0m\u001b[1;37mX\u001b[0m\u001b[1;37mX\u001b[0m\u001b[1;37mX\u001b[0m\u001b[1;37mX\u001b[0m\u001b[1;37mX\u001b[0m\u001b[1;37mX\u001b[0m\u001b[1;37mX\u001b[0m\u001b[1;37mX\u001b[0m\u001b[1;37mX\u001b[0m\u001b[1;37mX\u001b[0m\u001b[1;37mX\u001b[0m\u001b[1;37mX\u001b[0m\u001b[1;37mX\u001b[0m\u001b[1;37mX\u001b[0m\u001b[1;37mX\u001b[0m\u001b[1;37mX\u001b[0m\u001b[1;37mX\u001b[0m\n",
      "       \u001b[1;37mX\u001b[0m\u001b[1;37mX\u001b[0m\u001b[1;37mX\u001b[0m\u001b[1;37mX\u001b[0m\u001b[1;37mX\u001b[0m\u001b[1;37mX\u001b[0m\u001b[1;37mX\u001b[0m\u001b[1;37mX\u001b[0m\u001b[1;37mX\u001b[0m\u001b[1;37mX\u001b[0m\u001b[1;37mX\u001b[0m\u001b[1;37mX\u001b[0m\u001b[1;37mX\u001b[0m\u001b[1;37mX\u001b[0m\u001b[1;37mX\u001b[0m\u001b[1;37mX\u001b[0m\u001b[1;37mX\u001b[0m\u001b[1;37mX\u001b[0m\u001b[1;37mX\u001b[0m\u001b[1;37mX\u001b[0m\u001b[1;37mX\u001b[0m\u001b[1;37mX\u001b[0m\u001b[1;37mX\u001b[0m\u001b[1;37mX\u001b[0m\u001b[1;37mX\u001b[0m\u001b[1;37mX\u001b[0m\u001b[1;37mX\u001b[0m\u001b[1;37mX\u001b[0m\u001b[1;37mX\u001b[0m\u001b[1;37mX\u001b[0m\u001b[1;37mX\u001b[0m\u001b[1;37mX\u001b[0m\u001b[1;37mX\u001b[0m\u001b[1;37mX\u001b[0m\u001b[1;37mX\u001b[0m\n"
     ]
    },
    {
     "data": {
      "text/plain": [
       "[None, None, None, None, None, None, None, None, None, None]"
      ]
     },
     "execution_count": 10,
     "metadata": {},
     "output_type": "execute_result"
    }
   ],
   "source": [
    "corrected_reads = correct_reads_with_consens(reads,probabilistic=False, alignment_bonus=ALIGNMENT_BONUS)\n",
    "[print_read_intendet_errors(r,alignment_bonus=ALIGNMENT_BONUS) for r in corrected_reads]"
   ]
  },
  {
   "cell_type": "code",
   "execution_count": 11,
   "metadata": {},
   "outputs": [
    {
     "name": "stdout",
     "output_type": "stream",
     "text": [
      "                         before after\n",
      "local edit distance      0.137 0.054\n",
      "arbitrary dna alignment  0.146 0.060\n"
     ]
    }
   ],
   "source": [
    "print(\n",
    "f\"                         before after\\n\"+\\\n",
    "f\"local edit distance      {most_likely_restorer_error_rate(reads, alignment_bonus=ALIGNMENT_BONUS):.3f} {most_likely_restorer_error_rate(corrected_reads,alignment_bonus=ALIGNMENT_BONUS):.3f}\\n\"+\\\n",
    "f\"arbitrary dna alignment  {dna_distance_error_rate(dna, reads, alignment_bonus=ALIGNMENT_BONUS):.3f} {dna_distance_error_rate(dna, corrected_reads, alignment_bonus=ALIGNMENT_BONUS):.3f}\")"
   ]
  },
  {
   "cell_type": "code",
   "execution_count": 12,
   "metadata": {},
   "outputs": [
    {
     "name": "stdout",
     "output_type": "stream",
     "text": [
      "[0.12857142857142856, 0.12285714285714286, 0.12857142857142856, 0.1742857142857143] [0.05714285714285714, 0.02, 0.02857142857142857, 0.06285714285714286] [0.0, 0.05714285714285714, 0.04285714285714286, 0.02857142857142857]\n"
     ]
    },
    {
     "data": {
      "text/plain": [
       "<BarContainer object of 3 artists>"
      ]
     },
     "execution_count": 12,
     "metadata": {},
     "output_type": "execute_result"
    },
    {
     "data": {
      "image/png": "[encoded data removed]",
      "text/plain": [
       "<Figure size 640x480 with 1 Axes>"
      ]
     },
     "metadata": {},
     "output_type": "display_data"
    }
   ],
   "source": [
    "\n",
    "before_correction = []\n",
    "normal_correction = []\n",
    "probabilistic_correction = []\n",
    "\n",
    "for i in range(4):\n",
    "\n",
    "    dna = generate_dna(DNA_LENGTH)\n",
    "    reads = [generate_read(dna, READ_lENGTH, lambda base: gauss_unsharp_uncertainty_generator(base, 0.47)) for _ in range(READ_COUNT)]\n",
    "\n",
    "    corrected_reads = correct_reads_with_consens(reads,probabilistic=False, alignment_bonus=NORMAL_ALIGNMENT_BONUS)\n",
    "    probabilistic_corrected_reads = correct_reads_with_consens(reads,probabilistic=True, alignment_bonus=PROBABILISTIC_ALIGNMENT_BONUS)\n",
    "\n",
    "    before_correction.append(dna_distance_error_rate(dna, reads, alignment_bonus=NORMAL_ALIGNMENT_BONUS))\n",
    "    normal_correction.append(dna_distance_error_rate(dna, corrected_reads, alignment_bonus=NORMAL_ALIGNMENT_BONUS))\n",
    "    probabilistic_correction.append(dna_distance_error_rate(dna, probabilistic_corrected_reads, alignment_bonus=PROBABILISTIC_ALIGNMENT_BONUS))\n",
    "\n",
    "print(before_correction, normal_correction, probabilistic_correction)\n",
    "\n",
    "\n",
    "plt.bar(\n",
    "    [\"no correction\", \"normal correction\", \"probabilistic correction\"],\n",
    "    [np.mean(before_correction), np.mean(normal_correction), np.mean(probabilistic_correction)],\n",
    "    yerr=[pd.Series(before_correction).sem(),pd.Series(normal_correction).sem(), pd.Series(probabilistic_correction).sem()],\n",
    "    capsize=6\n",
    "    )\n",
    "#plt.ylim(0,0.02)\n"
   ]
  },
  {
   "cell_type": "code",
   "execution_count": 13,
   "metadata": {},
   "outputs": [],
   "source": [
    "def compare_and_plot(read_correctors: list[t.Callable[[list[Read]],list[Read]]],*, names: list[str]=None,  iterations=4):\n",
    "    if names is None:\n",
    "        names = [str(i) for i in range(len(read_correctors))]\n",
    "\n",
    "    all: list[list[float]] = [[] for _ in read_correctors]\n",
    "    for _ in range(iterations):\n",
    "\n",
    "        dna = generate_dna(DNA_LENGTH)\n",
    "        reads = [generate_read(dna, READ_lENGTH, lambda base: gauss_unsharp_uncertainty_generator(base, 0.47)) for _ in range(READ_COUNT)]\n",
    "\n",
    "        for j, corrector in enumerate(read_correctors):\n",
    "            corrected_reads = corrector(reads)\n",
    "            all[j].append(dna_distance_error_rate(dna, corrected_reads, alignment_bonus=NORMAL_ALIGNMENT_BONUS))\n",
    "\n",
    "\n",
    "    plt.bar(\n",
    "        names,\n",
    "        [np.mean(measurement_row) for measurement_row in all],\n",
    "        yerr=[pd.Series(measurement_row).sem() for measurement_row in all],\n",
    "        capsize=6\n",
    "    )\n"
   ]
  },
  {
   "cell_type": "code",
   "execution_count": 14,
   "metadata": {},
   "outputs": [
    {
     "data": {
      "image/png": "[encoded data removed]",
      "text/plain": [
       "<Figure size 640x480 with 1 Axes>"
      ]
     },
     "metadata": {},
     "output_type": "display_data"
    }
   ],
   "source": [
    "compare_and_plot(\n",
    "    [\n",
    "        lambda reads: reads,\n",
    "        lambda reads: correct_reads_with_consens(reads,probabilistic=False, alignment_bonus=NORMAL_ALIGNMENT_BONUS),\n",
    "        lambda reads: correct_reads_with_consens(reads,probabilistic=True, alignment_bonus=PROBABILISTIC_ALIGNMENT_BONUS)\n",
    "    ],\n",
    "    names=[\"no correction\",\"normal correction\", \"probabilistic correction\"],\n",
    "    iterations=4\n",
    ")"
   ]
  },
  {
   "cell_type": "code",
   "execution_count": 15,
   "metadata": {},
   "outputs": [],
   "source": [
    "# boni = [0.2,0.4,0.6,0.8,1]\n",
    "# data = [[] for _ in range(len(boni))]\n",
    "# \n",
    "# \n",
    "# for i in range(4):\n",
    "    # dna = generate_dna(DNA_LENGTH)\n",
    "    # reads = [generate_read(dna, READ_lENGTH, lambda base: gauss_unsharp_uncertainty_generator(base, 0.47)) for _ in range(READ_COUNT)]\n",
    "    #probabilistic_corrected_reads = correct_reads_with_consens(reads,probabilistic=True, alignment_bonus=PROBABILISTIC_ALIGNMENT_BONUS)\n",
    "    # for j in range(len(boni)):\n",
    "        # corrected_reads = correct_reads_with_consens(reads, probabilistic=False, alignment_bonus=boni[j])\n",
    "        # data[j].append(dna_distance_error_rate(dna, corrected_reads, alignment_bonus=boni[j]))\n",
    "# \n",
    "# data"
   ]
  },
  {
   "cell_type": "code",
   "execution_count": 16,
   "metadata": {},
   "outputs": [],
   "source": [
    "# plt.bar(\n",
    "    # [str(b) for b in boni],\n",
    "    # [np.mean(boni_data) for boni_data in data],\n",
    "    # yerr=[pd.Series(boni_data).sem() for boni_data in data],\n",
    "    # capsize=6\n",
    "    # )"
   ]
  }
 ],
 "metadata": {
  "kernelspec": {
   "display_name": "bachelor_thesis",
   "language": "python",
   "name": "python3"
  },
  "language_info": {
   "codemirror_mode": {
    "name": "ipython",
    "version": 3
   },
   "file_extension": ".py",
   "mimetype": "text/x-python",
   "name": "python",
   "nbconvert_exporter": "python",
   "pygments_lexer": "ipython3",
   "version": "3.10.12"
  }
 },
 "nbformat": 4,
 "nbformat_minor": 2
}

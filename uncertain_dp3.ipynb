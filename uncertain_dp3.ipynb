{
 "cells": [
  {
   "cell_type": "code",
   "execution_count": 103,
   "metadata": {},
   "outputs": [],
   "source": [
    "from uncertain_dp2 import *"
   ]
  },
  {
   "cell_type": "code",
   "execution_count": 104,
   "metadata": {},
   "outputs": [],
   "source": [
    "from pot_correction import *"
   ]
  },
  {
   "cell_type": "code",
   "execution_count": 105,
   "metadata": {},
   "outputs": [],
   "source": [
    "import random\n",
    "#random.seed(1)"
   ]
  },
  {
   "cell_type": "code",
   "execution_count": 106,
   "metadata": {},
   "outputs": [],
   "source": [
    "DNA_LENGTH = 30           \n",
    "READ_lENGTH = 20\n",
    "READ_COUNT = 10"
   ]
  },
  {
   "cell_type": "code",
   "execution_count": 107,
   "metadata": {},
   "outputs": [],
   "source": [
    "dna = generate_dna(DNA_LENGTH)\n",
    "reads = [generate_read(dna, READ_lENGTH, lambda base: gauss_unsharp_uncertainty_generator(base, 0.47)) for _ in range(READ_COUNT)]\n",
    "# 0.47"
   ]
  },
  {
   "cell_type": "code",
   "execution_count": 108,
   "metadata": {},
   "outputs": [
    {
     "name": "stdout",
     "output_type": "stream",
     "text": [
      "[0.85, 0.75, 0.65, 0.85, 0.7, 0.95, 0.75, 0.9, 0.9, 0.8]\n"
     ]
    },
    {
     "data": {
      "text/plain": [
       "0.18999999999999984"
      ]
     },
     "execution_count": 108,
     "metadata": {},
     "output_type": "execute_result"
    }
   ],
   "source": [
    "most_likely_restorer_error_rate(reads)"
   ]
  },
  {
   "cell_type": "code",
   "execution_count": 109,
   "metadata": {},
   "outputs": [
    {
     "data": {
      "text/plain": [
       "          <AATACTTG\u001b[1;31mT\u001b[0mCGCGCCGGCCA>"
      ]
     },
     "execution_count": 109,
     "metadata": {},
     "output_type": "execute_result"
    }
   ],
   "source": [
    "read_consent(reads, as_read=True)"
   ]
  },
  {
   "cell_type": "code",
   "execution_count": 110,
   "metadata": {},
   "outputs": [
    {
     "data": {
      "text/plain": [
       "        <\u001b[1;31mT\u001b[0mC\u001b[1;31mG\u001b[0mA\u001b[1;31mG\u001b[0mACTTGG\u001b[1;31mG\u001b[0mGC\u001b[1;31mT\u001b[0mC\u001b[1;31mA\u001b[0m\u001b[1;31mA\u001b[0mGC>"
      ]
     },
     "execution_count": 110,
     "metadata": {},
     "output_type": "execute_result"
    }
   ],
   "source": [
    "r1 = reads[2]\n",
    "r1"
   ]
  },
  {
   "cell_type": "code",
   "execution_count": 111,
   "metadata": {},
   "outputs": [
    {
     "data": {
      "text/plain": [
       "7"
      ]
     },
     "execution_count": 111,
     "metadata": {},
     "output_type": "execute_result"
    }
   ],
   "source": [
    "edit_distance(make_regular(*dna), make_regular(*r1.predicted_text))"
   ]
  },
  {
   "cell_type": "code",
   "execution_count": 112,
   "metadata": {},
   "outputs": [
    {
     "name": "stdout",
     "output_type": "stream",
     "text": [
      "[0.15, 0.25, 0.35, 0.15, 0.3, 0.05, 0.25, 0.1, 0.1, 0.2]\n"
     ]
    },
    {
     "data": {
      "text/plain": [
       "0.19"
      ]
     },
     "execution_count": 112,
     "metadata": {},
     "output_type": "execute_result"
    }
   ],
   "source": [
    "dna_distance_error_rate(dna, reads)"
   ]
  },
  {
   "cell_type": "code",
   "execution_count": 113,
   "metadata": {},
   "outputs": [
    {
     "name": "stdout",
     "output_type": "stream",
     "text": [
      "[0.85, 0.75, 0.65, 0.85, 0.7, 0.95, 0.75, 0.9, 0.9, 0.8]\n",
      "[0.15, 0.25, 0.35, 0.15, 0.3, 0.05, 0.25, 0.1, 0.1, 0.2]\n"
     ]
    }
   ],
   "source": [
    "check_dna_distance_error_rate_suitable(dna, reads)"
   ]
  },
  {
   "cell_type": "code",
   "execution_count": 114,
   "metadata": {},
   "outputs": [
    {
     "data": {
      "text/plain": [
       "[          <AATACTTG\u001b[1;31mA\u001b[0mCGC\u001b[1;31mC\u001b[0mCCGGC\u001b[1;31mT\u001b[0mA>,\n",
       "      <\u001b[1;31mA\u001b[0mTA\u001b[1;31mT\u001b[0m\u001b[1;31mA\u001b[0mAATACTT\u001b[1;31mT\u001b[0m\u001b[1;31mC\u001b[0mCGCGCC>,\n",
       "         <\u001b[1;31mT\u001b[0mC\u001b[1;31mG\u001b[0mA\u001b[1;31mG\u001b[0mACTTGG\u001b[1;31mG\u001b[0mGC\u001b[1;31mT\u001b[0mC\u001b[1;31mA\u001b[0m\u001b[1;31mA\u001b[0mGC>,\n",
       "          <CAA\u001b[1;31mA\u001b[0mACTTG\u001b[1;31mA\u001b[0m\u001b[1;31mT\u001b[0mGCGCCGGCC>,\n",
       "           <\u001b[1;31mC\u001b[0mA\u001b[1;31mC\u001b[0mA\u001b[1;31mG\u001b[0mTTG\u001b[1;31mT\u001b[0mCGC\u001b[1;31mC\u001b[0mCCGGCC\u001b[1;31mG\u001b[0m>,\n",
       "     <TGTAGCAATACTTG\u001b[1;31mT\u001b[0mCGCGC>,\n",
       "          <C\u001b[1;31mG\u001b[0mATAC\u001b[1;31mG\u001b[0mT\u001b[1;31mA\u001b[0mG\u001b[1;31mT\u001b[0mGCGCCGGC\u001b[1;31mA\u001b[0m>,\n",
       " <GCTGTGTA\u001b[1;31mC\u001b[0mC\u001b[1;31mG\u001b[0mATACTTGGC>,\n",
       "           <A\u001b[1;31mC\u001b[0mTACTTGG\u001b[1;31mT\u001b[0mGCGCCGGCCA>,\n",
       "           <AA\u001b[1;31mC\u001b[0mACTTGG\u001b[1;31mG\u001b[0mGC\u001b[1;31mC\u001b[0mCC\u001b[1;31mC\u001b[0mGCCA>]"
      ]
     },
     "execution_count": 114,
     "metadata": {},
     "output_type": "execute_result"
    }
   ],
   "source": [
    "reads"
   ]
  },
  {
   "cell_type": "code",
   "execution_count": 115,
   "metadata": {},
   "outputs": [
    {
     "data": {
      "text/plain": [
       "[          <AATACTTG\u001b[1;31mA\u001b[0mCGC\u001b[1;31mC\u001b[0mCCGGC\u001b[1;31mT\u001b[0mA>,\n",
       "      <\u001b[1;31mA\u001b[0mTA\u001b[1;31mT\u001b[0m\u001b[1;31mA\u001b[0mAATACTT\u001b[1;31mT\u001b[0m\u001b[1;31mC\u001b[0mCGCGCC>,\n",
       "         <\u001b[1;31mT\u001b[0mC\u001b[1;31mG\u001b[0mA\u001b[1;31mG\u001b[0mACTTGG\u001b[1;31mG\u001b[0mGC\u001b[1;31mT\u001b[0mC\u001b[1;31mA\u001b[0m\u001b[1;31mA\u001b[0mGC>,\n",
       "          <CAA\u001b[1;31mA\u001b[0mACTTG\u001b[1;31mA\u001b[0m\u001b[1;31mT\u001b[0mGCGCCGGCC>,\n",
       "           <\u001b[1;31mC\u001b[0mA\u001b[1;31mC\u001b[0mA\u001b[1;31mG\u001b[0mTTG\u001b[1;31mT\u001b[0mCGC\u001b[1;31mC\u001b[0mCCGGCC\u001b[1;31mG\u001b[0m>,\n",
       "     <TGTAGCAATACTTG\u001b[1;31mT\u001b[0mCGCGC>,\n",
       "          <C\u001b[1;31mG\u001b[0mATAC\u001b[1;31mG\u001b[0mT\u001b[1;31mA\u001b[0mG\u001b[1;31mT\u001b[0mGCGCCGGC\u001b[1;31mA\u001b[0m>,\n",
       " <GCTGTGTA\u001b[1;31mC\u001b[0mC\u001b[1;31mG\u001b[0mATACTTGGC>,\n",
       "           <A\u001b[1;31mC\u001b[0mTACTTGG\u001b[1;31mT\u001b[0mGCGCCGGCCA>,\n",
       "           <AA\u001b[1;31mC\u001b[0mACTTGG\u001b[1;31mG\u001b[0mGC\u001b[1;31mC\u001b[0mCC\u001b[1;31mC\u001b[0mGCCA>]"
      ]
     },
     "execution_count": 115,
     "metadata": {},
     "output_type": "execute_result"
    }
   ],
   "source": [
    "corrected_reads = correct_reads_with_consens(reads,probabilistic=True)\n",
    "corrected_reads"
   ]
  },
  {
   "cell_type": "code",
   "execution_count": 116,
   "metadata": {},
   "outputs": [],
   "source": [
    "DNA_LENGTH = 50           \n",
    "READ_lENGTH = 35 \n",
    "READ_COUNT = 10       "
   ]
  },
  {
   "cell_type": "code",
   "execution_count": 117,
   "metadata": {},
   "outputs": [
    {
     "name": "stdout",
     "output_type": "stream",
     "text": [
      "[0.85, 0.75, 0.65, 0.85, 0.7, 0.95, 0.75, 0.9, 0.9, 0.8]\n"
     ]
    },
    {
     "data": {
      "text/plain": [
       "0.18999999999999984"
      ]
     },
     "execution_count": 117,
     "metadata": {},
     "output_type": "execute_result"
    }
   ],
   "source": [
    "most_likely_restorer_error_rate(corrected_reads)"
   ]
  },
  {
   "cell_type": "code",
   "execution_count": 118,
   "metadata": {},
   "outputs": [
    {
     "name": "stdout",
     "output_type": "stream",
     "text": [
      "[0.15, 0.25, 0.35, 0.15, 0.3, 0.05, 0.25, 0.1, 0.1, 0.2]\n"
     ]
    },
    {
     "data": {
      "text/plain": [
       "0.19"
      ]
     },
     "execution_count": 118,
     "metadata": {},
     "output_type": "execute_result"
    }
   ],
   "source": [
    "dna_distance_error_rate(dna, reads)"
   ]
  },
  {
   "cell_type": "code",
   "execution_count": 119,
   "metadata": {},
   "outputs": [
    {
     "name": "stdout",
     "output_type": "stream",
     "text": [
      "[0.15, 0.25, 0.3181818181818182, 0.14285714285714285, 0.3, 0.038461538461538464, 0.25, 0.1, 0.1, 0.2]\n"
     ]
    },
    {
     "data": {
      "text/plain": [
       "0.18181818181818182"
      ]
     },
     "execution_count": 119,
     "metadata": {},
     "output_type": "execute_result"
    }
   ],
   "source": [
    "dna_distance_error_rate(dna, corrected_reads)"
   ]
  }
 ],
 "metadata": {
  "kernelspec": {
   "display_name": "bachelor_thesis",
   "language": "python",
   "name": "python3"
  },
  "language_info": {
   "codemirror_mode": {
    "name": "ipython",
    "version": 3
   },
   "file_extension": ".py",
   "mimetype": "text/x-python",
   "name": "python",
   "nbconvert_exporter": "python",
   "pygments_lexer": "ipython3",
   "version": "3.10.12"
  }
 },
 "nbformat": 4,
 "nbformat_minor": 2
}

{
 "cells": [
  {
   "cell_type": "code",
   "execution_count": 2,
   "metadata": {},
   "outputs": [],
   "source": [
    "from uncertain_dp2 import *"
   ]
  },
  {
   "cell_type": "code",
   "execution_count": 3,
   "metadata": {},
   "outputs": [],
   "source": [
    "from pot_correction import *\n",
    "from experimenting_kit import *"
   ]
  },
  {
   "cell_type": "code",
   "execution_count": 4,
   "metadata": {},
   "outputs": [],
   "source": [
    "import random\n",
    "#random.seed(1)"
   ]
  },
  {
   "cell_type": "code",
   "execution_count": 5,
   "metadata": {},
   "outputs": [],
   "source": [
    "import matplotlib.pyplot as plt\n",
    "import numpy as np\n",
    "import pandas as pd"
   ]
  },
  {
   "cell_type": "code",
   "execution_count": 6,
   "metadata": {},
   "outputs": [],
   "source": [
    "DNA_LENGTH = 50           \n",
    "READ_lENGTH = 35\n",
    "READ_COUNT = 10\n",
    "\n",
    "PROBABILISTIC_ALIGNMENT_BONUS = 2\n",
    "NORMAL_ALIGNMENT_BONUS = 0.7\n",
    "\n",
    "ALIGNMENT_BONUS = PROBABILISTIC_ALIGNMENT_BONUS"
   ]
  },
  {
   "cell_type": "code",
   "execution_count": 6,
   "metadata": {},
   "outputs": [],
   "source": [
    "dna = generate_dna(DNA_LENGTH)\n",
    "reads = [generate_read(dna, READ_lENGTH, lambda base: gauss_unsharp_uncertainty_generator(base, 0.47)) for _ in range(READ_COUNT)]"
   ]
  },
  {
   "cell_type": "code",
   "execution_count": 7,
   "metadata": {},
   "outputs": [
    {
     "data": {
      "text/plain": [
       "[0.9056992681521772, 0.04800141768867621, 0.0, 0.04629931415914644]"
      ]
     },
     "execution_count": 7,
     "metadata": {},
     "output_type": "execute_result"
    }
   ],
   "source": [
    "reads[0].uncertain_text[0]"
   ]
  },
  {
   "cell_type": "code",
   "execution_count": 8,
   "metadata": {},
   "outputs": [],
   "source": [
    "check_dna_distance_error_rate_suitable(dna, reads, alignment_bonus=ALIGNMENT_BONUS)"
   ]
  },
  {
   "cell_type": "code",
   "execution_count": 9,
   "metadata": {},
   "outputs": [
    {
     "name": "stdout",
     "output_type": "stream",
     "text": [
      "              \u001b[1;31mX\u001b[0m\u001b[1;37mX\u001b[0m\u001b[1;37mX\u001b[0m\u001b[1;32mX\u001b[0m\u001b[1;37mX\u001b[0m\u001b[1;37mX\u001b[0m\u001b[1;37mX\u001b[0m\u001b[1;37mX\u001b[0m\u001b[1;37mX\u001b[0m\u001b[1;37mX\u001b[0m\u001b[1;37mX\u001b[0m\u001b[1;34mX\u001b[0m\u001b[1;37mX\u001b[0m\u001b[1;37mX\u001b[0m\u001b[1;37mX\u001b[0m\u001b[1;34mX\u001b[0m\u001b[1;37mX\u001b[0m\u001b[1;37mX\u001b[0m\u001b[1;37mX\u001b[0m\u001b[1;37mX\u001b[0m\u001b[1;34mX\u001b[0m\u001b[1;37mX\u001b[0m\u001b[1;37mX\u001b[0m\u001b[1;37mX\u001b[0m\u001b[1;34mX\u001b[0m\u001b[1;37mX\u001b[0m\u001b[1;37mX\u001b[0m\u001b[1;37mX\u001b[0m\u001b[1;37mX\u001b[0m\u001b[1;37mX\u001b[0m\u001b[1;37mX\u001b[0m\u001b[1;37mX\u001b[0m\u001b[1;37mX\u001b[0m\u001b[1;37mX\u001b[0m\u001b[1;37mX\u001b[0m\u001b[1;37mX\u001b[0m\n",
      "     \u001b[1;37mX\u001b[0m\u001b[1;31mX\u001b[0m\u001b[1;37mX\u001b[0m\u001b[1;37mX\u001b[0m\u001b[1;32mX\u001b[0m\u001b[1;37mX\u001b[0m\u001b[1;37mX\u001b[0m\u001b[1;37mX\u001b[0m\u001b[1;37mX\u001b[0m\u001b[1;37mX\u001b[0m\u001b[1;37mX\u001b[0m\u001b[1;37mX\u001b[0m\u001b[1;37mX\u001b[0m\u001b[1;37mX\u001b[0m\u001b[1;37mX\u001b[0m\u001b[1;37mX\u001b[0m\u001b[1;37mX\u001b[0m\u001b[1;37mX\u001b[0m\u001b[1;37mX\u001b[0m\u001b[1;37mX\u001b[0m\u001b[1;37mX\u001b[0m\u001b[1;34mX\u001b[0m\u001b[1;37mX\u001b[0m\u001b[1;34mX\u001b[0m\u001b[1;37mX\u001b[0m\u001b[1;37mX\u001b[0m\u001b[1;37mX\u001b[0m\u001b[1;37mX\u001b[0m\u001b[1;37mX\u001b[0m\u001b[1;37mX\u001b[0m\u001b[1;37mX\u001b[0m\u001b[1;37mX\u001b[0m\u001b[1;37mX\u001b[0m\u001b[1;37mX\u001b[0m\u001b[1;37mX\u001b[0m\u001b[1;37mX\u001b[0m\n",
      " \u001b[1;37mX\u001b[0m\u001b[1;37mX\u001b[0m\u001b[1;37mX\u001b[0m\u001b[1;34mX\u001b[0m\u001b[1;37mX\u001b[0m\u001b[1;37mX\u001b[0m\u001b[1;37mX\u001b[0m\u001b[1;37mX\u001b[0m\u001b[1;34mX\u001b[0m\u001b[1;37mX\u001b[0m\u001b[1;37mX\u001b[0m\u001b[1;37mX\u001b[0m\u001b[1;37mX\u001b[0m\u001b[1;37mX\u001b[0m\u001b[1;37mX\u001b[0m\u001b[1;37mX\u001b[0m\u001b[1;34mX\u001b[0m\u001b[1;37mX\u001b[0m\u001b[1;37mX\u001b[0m\u001b[1;37mX\u001b[0m\u001b[1;37mX\u001b[0m\u001b[1;34mX\u001b[0m\u001b[1;37mX\u001b[0m\u001b[1;37mX\u001b[0m\u001b[1;37mX\u001b[0m\u001b[1;37mX\u001b[0m\u001b[1;34mX\u001b[0m\u001b[1;37mX\u001b[0m\u001b[1;37mX\u001b[0m\u001b[1;37mX\u001b[0m\u001b[1;37mX\u001b[0m\u001b[1;37mX\u001b[0m\u001b[1;37mX\u001b[0m\u001b[1;37mX\u001b[0m\u001b[1;31mX\u001b[0m\u001b[1;32m...\u001b[0m\n",
      "  \u001b[1;37mX\u001b[0m\u001b[1;37mX\u001b[0m\u001b[1;37mX\u001b[0m\u001b[1;37mX\u001b[0m\u001b[1;37mX\u001b[0m\u001b[1;37mX\u001b[0m\u001b[1;37mX\u001b[0m\u001b[1;37mX\u001b[0m\u001b[1;34mX\u001b[0m\u001b[1;34mX\u001b[0m\u001b[1;37mX\u001b[0m\u001b[1;37mX\u001b[0m\u001b[1;37mX\u001b[0m\u001b[1;37mX\u001b[0m\u001b[1;37mX\u001b[0m\u001b[1;37mX\u001b[0m\u001b[1;34mX\u001b[0m\u001b[1;37mX\u001b[0m\u001b[1;37mX\u001b[0m\u001b[1;37mX\u001b[0m\u001b[1;37mX\u001b[0m\u001b[1;34mX\u001b[0m\u001b[1;37mX\u001b[0m\u001b[1;37mX\u001b[0m\u001b[1;37mX\u001b[0m\u001b[1;37mX\u001b[0m\u001b[1;37mX\u001b[0m\u001b[1;34mX\u001b[0m\u001b[1;37mX\u001b[0m\u001b[1;37mX\u001b[0m\u001b[1;37mX\u001b[0m\u001b[1;34mX\u001b[0m\u001b[1;37mX\u001b[0m\u001b[1;37mX\u001b[0m\u001b[1;31mX\u001b[0m\u001b[1;32m...\u001b[0m\n",
      "      \u001b[1;37mX\u001b[0m\u001b[1;37mX\u001b[0m\u001b[1;37mX\u001b[0m\u001b[1;37mX\u001b[0m\u001b[1;37mX\u001b[0m\u001b[1;37mX\u001b[0m\u001b[1;37mX\u001b[0m\u001b[1;37mX\u001b[0m\u001b[1;37mX\u001b[0m\u001b[1;37mX\u001b[0m\u001b[1;37mX\u001b[0m\u001b[1;34mX\u001b[0m\u001b[1;34mX\u001b[0m\u001b[1;37mX\u001b[0m\u001b[1;37mX\u001b[0m\u001b[1;37mX\u001b[0m\u001b[1;37mX\u001b[0m\u001b[1;37mX\u001b[0m\u001b[1;37mX\u001b[0m\u001b[1;37mX\u001b[0m\u001b[1;34mX\u001b[0m\u001b[1;37mX\u001b[0m\u001b[1;34mX\u001b[0m\u001b[1;37mX\u001b[0m\u001b[1;37mX\u001b[0m\u001b[1;37mX\u001b[0m\u001b[1;37mX\u001b[0m\u001b[1;37mX\u001b[0m\u001b[1;34mX\u001b[0m\u001b[1;37mX\u001b[0m\u001b[1;37mX\u001b[0m\u001b[1;37mX\u001b[0m\u001b[1;37mX\u001b[0m\u001b[1;37mX\u001b[0m\u001b[1;37mX\u001b[0m\n",
      "            \u001b[1;31mX\u001b[0m\u001b[1;32mX\u001b[0m\u001b[1;37mX\u001b[0m\u001b[1;37mX\u001b[0m\u001b[1;37mX\u001b[0m\u001b[1;37mX\u001b[0m\u001b[1;37mX\u001b[0m\u001b[1;37mX\u001b[0m\u001b[1;37mX\u001b[0m\u001b[1;34mX\u001b[0m\u001b[1;34mX\u001b[0m\u001b[1;37mX\u001b[0m\u001b[1;37mX\u001b[0m\u001b[1;37mX\u001b[0m\u001b[1;37mX\u001b[0m\u001b[1;37mX\u001b[0m\u001b[1;37mX\u001b[0m\u001b[1;37mX\u001b[0m\u001b[1;34mX\u001b[0m\u001b[1;37mX\u001b[0m\u001b[1;34mX\u001b[0m\u001b[1;37mX\u001b[0m\u001b[1;34mX\u001b[0m\u001b[1;37mX\u001b[0m\u001b[1;37mX\u001b[0m\u001b[1;34mX\u001b[0m\u001b[1;37mX\u001b[0m\u001b[1;37mX\u001b[0m\u001b[1;37mX\u001b[0m\u001b[1;37mX\u001b[0m\u001b[1;37mX\u001b[0m\u001b[1;37mX\u001b[0m\u001b[1;37mX\u001b[0m\u001b[1;37mX\u001b[0m\u001b[1;37mX\u001b[0m\u001b[1;37mX\u001b[0m\n",
      "        \u001b[1;37mX\u001b[0m\u001b[1;37mX\u001b[0m\u001b[1;37mX\u001b[0m\u001b[1;37mX\u001b[0m\u001b[1;37mX\u001b[0m\u001b[1;37mX\u001b[0m\u001b[1;34mX\u001b[0m\u001b[1;37mX\u001b[0m\u001b[1;37mX\u001b[0m\u001b[1;37mX\u001b[0m\u001b[1;37mX\u001b[0m\u001b[1;34mX\u001b[0m\u001b[1;37mX\u001b[0m\u001b[1;37mX\u001b[0m\u001b[1;37mX\u001b[0m\u001b[1;37mX\u001b[0m\u001b[1;37mX\u001b[0m\u001b[1;37mX\u001b[0m\u001b[1;34mX\u001b[0m\u001b[1;37mX\u001b[0m\u001b[1;37mX\u001b[0m\u001b[1;37mX\u001b[0m\u001b[1;37mX\u001b[0m\u001b[1;37mX\u001b[0m\u001b[1;34mX\u001b[0m\u001b[1;37mX\u001b[0m\u001b[1;34mX\u001b[0m\u001b[1;37mX\u001b[0m\u001b[1;37mX\u001b[0m\u001b[1;34mX\u001b[0m\u001b[1;37mX\u001b[0m\u001b[1;37mX\u001b[0m\u001b[1;37mX\u001b[0m\u001b[1;37mX\u001b[0m\u001b[1;37mX\u001b[0m\n",
      "  \u001b[1;37mX\u001b[0m\u001b[1;34mX\u001b[0m\u001b[1;37mX\u001b[0m\u001b[1;37mX\u001b[0m\u001b[1;37mX\u001b[0m\u001b[1;37mX\u001b[0m\u001b[1;37mX\u001b[0m\u001b[1;37mX\u001b[0m\u001b[1;37mX\u001b[0m\u001b[1;37mX\u001b[0m\u001b[1;37mX\u001b[0m\u001b[1;37mX\u001b[0m\u001b[1;37mX\u001b[0m\u001b[1;37mX\u001b[0m\u001b[1;37mX\u001b[0m\u001b[1;37mX\u001b[0m\u001b[1;37mX\u001b[0m\u001b[1;37mX\u001b[0m\u001b[1;37mX\u001b[0m\u001b[1;37mX\u001b[0m\u001b[1;34mX\u001b[0m\u001b[1;37mX\u001b[0m\u001b[1;34mX\u001b[0m\u001b[1;37mX\u001b[0m\u001b[1;37mX\u001b[0m\u001b[1;37mX\u001b[0m\u001b[1;37mX\u001b[0m\u001b[1;37mX\u001b[0m\u001b[1;37mX\u001b[0m\u001b[1;37mX\u001b[0m\u001b[1;34mX\u001b[0m\u001b[1;37mX\u001b[0m\u001b[1;37mX\u001b[0m\u001b[1;34mX\u001b[0m\u001b[1;37mX\u001b[0m\n",
      "       \u001b[1;31mX\u001b[0m\u001b[1;37mX\u001b[0m\u001b[1;37mX\u001b[0m\u001b[1;32mX\u001b[0m\u001b[1;37mX\u001b[0m\u001b[1;37mX\u001b[0m\u001b[1;37mX\u001b[0m\u001b[1;37mX\u001b[0m\u001b[1;37mX\u001b[0m\u001b[1;37mX\u001b[0m\u001b[1;37mX\u001b[0m\u001b[1;37mX\u001b[0m\u001b[1;37mX\u001b[0m\u001b[1;37mX\u001b[0m\u001b[1;37mX\u001b[0m\u001b[1;37mX\u001b[0m\u001b[1;37mX\u001b[0m\u001b[1;37mX\u001b[0m\u001b[1;37mX\u001b[0m\u001b[1;37mX\u001b[0m\u001b[1;37mX\u001b[0m\u001b[1;37mX\u001b[0m\u001b[1;37mX\u001b[0m\u001b[1;31mX\u001b[0m\u001b[1;37mX\u001b[0m\u001b[1;31mX\u001b[0m\u001b[1;37mX\u001b[0m\u001b[1;37mX\u001b[0m\u001b[1;32mX\u001b[0m\u001b[1;37mX\u001b[0m\u001b[1;32mX\u001b[0m\u001b[1;37mX\u001b[0m\u001b[1;37mX\u001b[0m\u001b[1;37mX\u001b[0m\u001b[1;37mX\u001b[0m\u001b[1;37mX\u001b[0m\u001b[1;37mX\u001b[0m\u001b[1;37mX\u001b[0m\n",
      "    \u001b[1;37mX\u001b[0m\u001b[1;37mX\u001b[0m\u001b[1;37mX\u001b[0m\u001b[1;37mX\u001b[0m\u001b[1;37mX\u001b[0m\u001b[1;37mX\u001b[0m\u001b[1;37mX\u001b[0m\u001b[1;37mX\u001b[0m\u001b[1;37mX\u001b[0m\u001b[1;37mX\u001b[0m\u001b[1;37mX\u001b[0m\u001b[1;37mX\u001b[0m\u001b[1;34mX\u001b[0m\u001b[1;37mX\u001b[0m\u001b[1;37mX\u001b[0m\u001b[1;32mX\u001b[0m\u001b[1;37mX\u001b[0m\u001b[1;37mX\u001b[0m\u001b[1;37mX\u001b[0m\u001b[1;31mX\u001b[0m\u001b[1;37mX\u001b[0m\u001b[1;34mX\u001b[0m\u001b[1;37mX\u001b[0m\u001b[1;37mX\u001b[0m\u001b[1;34mX\u001b[0m\u001b[1;37mX\u001b[0m\u001b[1;37mX\u001b[0m\u001b[1;37mX\u001b[0m\u001b[1;37mX\u001b[0m\u001b[1;37mX\u001b[0m\u001b[1;37mX\u001b[0m\u001b[1;37mX\u001b[0m\u001b[1;37mX\u001b[0m\u001b[1;34mX\u001b[0m\u001b[1;37mX\u001b[0m\u001b[1;37mX\u001b[0m\n"
     ]
    },
    {
     "data": {
      "text/plain": [
       "[None, None, None, None, None, None, None, None, None, None]"
      ]
     },
     "execution_count": 9,
     "metadata": {},
     "output_type": "execute_result"
    }
   ],
   "source": [
    "[print_read_intendet_errors(r,alignment_bonus=ALIGNMENT_BONUS) for r in reads]"
   ]
  },
  {
   "cell_type": "code",
   "execution_count": 10,
   "metadata": {},
   "outputs": [
    {
     "name": "stdout",
     "output_type": "stream",
     "text": [
      "              \u001b[1;31mX\u001b[0m\u001b[1;37mX\u001b[0m\u001b[1;37mX\u001b[0m\u001b[1;37mX\u001b[0m\u001b[1;37mX\u001b[0m\u001b[1;37mX\u001b[0m\u001b[1;37mX\u001b[0m\u001b[1;37mX\u001b[0m\u001b[1;37mX\u001b[0m\u001b[1;37mX\u001b[0m\u001b[1;37mX\u001b[0m\u001b[1;37mX\u001b[0m\u001b[1;31mX\u001b[0m\u001b[1;31mX\u001b[0m\u001b[1;37mX\u001b[0m\u001b[1;37mX\u001b[0m\u001b[1;37mX\u001b[0m\u001b[1;37mX\u001b[0m\u001b[1;37mX\u001b[0m\u001b[1;37mX\u001b[0m\u001b[1;37mX\u001b[0m\u001b[1;37mX\u001b[0m\u001b[1;37mX\u001b[0m\u001b[1;37mX\u001b[0m\u001b[1;37mX\u001b[0m\u001b[1;37mX\u001b[0m\u001b[1;37mX\u001b[0m\u001b[1;37mX\u001b[0m\u001b[1;37mX\u001b[0m\u001b[1;37mX\u001b[0m\u001b[1;37mX\u001b[0m\u001b[1;37mX\u001b[0m\u001b[1;37mX\u001b[0m\u001b[1;37mX\u001b[0m\u001b[1;37mX\u001b[0m\u001b[1;37mX\u001b[0m\u001b[1;37mX\u001b[0m\u001b[1;37mX\u001b[0m\n",
      "     \u001b[1;37mX\u001b[0m\u001b[1;37mX\u001b[0m\u001b[1;37mX\u001b[0m\u001b[1;37mX\u001b[0m\u001b[1;37mX\u001b[0m\u001b[1;37mX\u001b[0m\u001b[1;37mX\u001b[0m\u001b[1;37mX\u001b[0m\u001b[1;37mX\u001b[0m\u001b[1;37mX\u001b[0m\u001b[1;37mX\u001b[0m\u001b[1;37mX\u001b[0m\u001b[1;37mX\u001b[0m\u001b[1;37mX\u001b[0m\u001b[1;37mX\u001b[0m\u001b[1;37mX\u001b[0m\u001b[1;37mX\u001b[0m\u001b[1;37mX\u001b[0m\u001b[1;37mX\u001b[0m\u001b[1;37mX\u001b[0m\u001b[1;31mX\u001b[0m\u001b[1;31mX\u001b[0m\u001b[1;37mX\u001b[0m\u001b[1;37mX\u001b[0m\u001b[1;37mX\u001b[0m\u001b[1;37mX\u001b[0m\u001b[1;37mX\u001b[0m\u001b[1;37mX\u001b[0m\u001b[1;37mX\u001b[0m\u001b[1;37mX\u001b[0m\u001b[1;37mX\u001b[0m\u001b[1;37mX\u001b[0m\u001b[1;37mX\u001b[0m\u001b[1;37mX\u001b[0m\u001b[1;37mX\u001b[0m\u001b[1;37mX\u001b[0m\u001b[1;37mX\u001b[0m\n",
      " \u001b[1;37mX\u001b[0m\u001b[1;37mX\u001b[0m\u001b[1;37mX\u001b[0m\u001b[1;37mX\u001b[0m\u001b[1;37mX\u001b[0m\u001b[1;37mX\u001b[0m\u001b[1;37mX\u001b[0m\u001b[1;37mX\u001b[0m\u001b[1;37mX\u001b[0m\u001b[1;37mX\u001b[0m\u001b[1;37mX\u001b[0m\u001b[1;37mX\u001b[0m\u001b[1;37mX\u001b[0m\u001b[1;37mX\u001b[0m\u001b[1;37mX\u001b[0m\u001b[1;37mX\u001b[0m\u001b[1;37mX\u001b[0m\u001b[1;37mX\u001b[0m\u001b[1;37mX\u001b[0m\u001b[1;37mX\u001b[0m\u001b[1;37mX\u001b[0m\u001b[1;37mX\u001b[0m\u001b[1;37mX\u001b[0m\u001b[1;37mX\u001b[0m\u001b[1;31mX\u001b[0m\u001b[1;31mX\u001b[0m\u001b[1;37mX\u001b[0m\u001b[1;37mX\u001b[0m\u001b[1;37mX\u001b[0m\u001b[1;37mX\u001b[0m\u001b[1;37mX\u001b[0m\u001b[1;37mX\u001b[0m\u001b[1;37mX\u001b[0m\u001b[1;37mX\u001b[0m\u001b[1;37mX\u001b[0m\u001b[1;37mX\u001b[0m\u001b[1;37mX\u001b[0m\u001b[1;31m...\u001b[0m\n",
      "  \u001b[1;37mX\u001b[0m\u001b[1;37mX\u001b[0m\u001b[1;37mX\u001b[0m\u001b[1;37mX\u001b[0m\u001b[1;37mX\u001b[0m\u001b[1;37mX\u001b[0m\u001b[1;37mX\u001b[0m\u001b[1;37mX\u001b[0m\u001b[1;37mX\u001b[0m\u001b[1;37mX\u001b[0m\u001b[1;37mX\u001b[0m\u001b[1;37mX\u001b[0m\u001b[1;37mX\u001b[0m\u001b[1;37mX\u001b[0m\u001b[1;37mX\u001b[0m\u001b[1;37mX\u001b[0m\u001b[1;37mX\u001b[0m\u001b[1;37mX\u001b[0m\u001b[1;37mX\u001b[0m\u001b[1;37mX\u001b[0m\u001b[1;37mX\u001b[0m\u001b[1;37mX\u001b[0m\u001b[1;37mX\u001b[0m\u001b[1;31mX\u001b[0m\u001b[1;31mX\u001b[0m\u001b[1;37mX\u001b[0m\u001b[1;37mX\u001b[0m\u001b[1;37mX\u001b[0m\u001b[1;37mX\u001b[0m\u001b[1;37mX\u001b[0m\u001b[1;37mX\u001b[0m\u001b[1;37mX\u001b[0m\u001b[1;37mX\u001b[0m\u001b[1;37mX\u001b[0m\u001b[1;37mX\u001b[0m\u001b[1;37mX\u001b[0m\u001b[1;37mX\u001b[0m\u001b[1;31m...\u001b[0m\n",
      "      \u001b[1;37mX\u001b[0m\u001b[1;37mX\u001b[0m\u001b[1;37mX\u001b[0m\u001b[1;37mX\u001b[0m\u001b[1;37mX\u001b[0m\u001b[1;37mX\u001b[0m\u001b[1;37mX\u001b[0m\u001b[1;37mX\u001b[0m\u001b[1;37mX\u001b[0m\u001b[1;37mX\u001b[0m\u001b[1;37mX\u001b[0m\u001b[1;37mX\u001b[0m\u001b[1;37mX\u001b[0m\u001b[1;37mX\u001b[0m\u001b[1;37mX\u001b[0m\u001b[1;37mX\u001b[0m\u001b[1;37mX\u001b[0m\u001b[1;37mX\u001b[0m\u001b[1;37mX\u001b[0m\u001b[1;31mX\u001b[0m\u001b[1;31mX\u001b[0m\u001b[1;37mX\u001b[0m\u001b[1;37mX\u001b[0m\u001b[1;37mX\u001b[0m\u001b[1;37mX\u001b[0m\u001b[1;37mX\u001b[0m\u001b[1;37mX\u001b[0m\u001b[1;37mX\u001b[0m\u001b[1;37mX\u001b[0m\u001b[1;37mX\u001b[0m\u001b[1;37mX\u001b[0m\u001b[1;37mX\u001b[0m\u001b[1;37mX\u001b[0m\u001b[1;37mX\u001b[0m\u001b[1;37mX\u001b[0m\u001b[1;37mX\u001b[0m\u001b[1;37mX\u001b[0m\n",
      "            \u001b[1;31mX\u001b[0m\u001b[1;37mX\u001b[0m\u001b[1;37mX\u001b[0m\u001b[1;37mX\u001b[0m\u001b[1;37mX\u001b[0m\u001b[1;37mX\u001b[0m\u001b[1;37mX\u001b[0m\u001b[1;37mX\u001b[0m\u001b[1;37mX\u001b[0m\u001b[1;37mX\u001b[0m\u001b[1;37mX\u001b[0m\u001b[1;37mX\u001b[0m\u001b[1;37mX\u001b[0m\u001b[1;37mX\u001b[0m\u001b[1;31mX\u001b[0m\u001b[1;31mX\u001b[0m\u001b[1;37mX\u001b[0m\u001b[1;37mX\u001b[0m\u001b[1;37mX\u001b[0m\u001b[1;37mX\u001b[0m\u001b[1;37mX\u001b[0m\u001b[1;37mX\u001b[0m\u001b[1;37mX\u001b[0m\u001b[1;37mX\u001b[0m\u001b[1;37mX\u001b[0m\u001b[1;37mX\u001b[0m\u001b[1;37mX\u001b[0m\u001b[1;37mX\u001b[0m\u001b[1;37mX\u001b[0m\u001b[1;37mX\u001b[0m\u001b[1;37mX\u001b[0m\u001b[1;37mX\u001b[0m\u001b[1;37mX\u001b[0m\u001b[1;37mX\u001b[0m\u001b[1;37mX\u001b[0m\u001b[1;37mX\u001b[0m\u001b[1;37mX\u001b[0m\u001b[1;37mX\u001b[0m\n",
      "        \u001b[1;37mX\u001b[0m\u001b[1;37mX\u001b[0m\u001b[1;37mX\u001b[0m\u001b[1;37mX\u001b[0m\u001b[1;37mX\u001b[0m\u001b[1;37mX\u001b[0m\u001b[1;37mX\u001b[0m\u001b[1;37mX\u001b[0m\u001b[1;37mX\u001b[0m\u001b[1;37mX\u001b[0m\u001b[1;37mX\u001b[0m\u001b[1;37mX\u001b[0m\u001b[1;37mX\u001b[0m\u001b[1;37mX\u001b[0m\u001b[1;37mX\u001b[0m\u001b[1;37mX\u001b[0m\u001b[1;37mX\u001b[0m\u001b[1;31mX\u001b[0m\u001b[1;31mX\u001b[0m\u001b[1;37mX\u001b[0m\u001b[1;37mX\u001b[0m\u001b[1;37mX\u001b[0m\u001b[1;37mX\u001b[0m\u001b[1;37mX\u001b[0m\u001b[1;37mX\u001b[0m\u001b[1;37mX\u001b[0m\u001b[1;37mX\u001b[0m\u001b[1;37mX\u001b[0m\u001b[1;37mX\u001b[0m\u001b[1;37mX\u001b[0m\u001b[1;37mX\u001b[0m\u001b[1;37mX\u001b[0m\u001b[1;37mX\u001b[0m\u001b[1;37mX\u001b[0m\u001b[1;37mX\u001b[0m\u001b[1;37mX\u001b[0m\u001b[1;37mX\u001b[0m\n",
      "  \u001b[1;37mX\u001b[0m\u001b[1;37mX\u001b[0m\u001b[1;37mX\u001b[0m\u001b[1;37mX\u001b[0m\u001b[1;37mX\u001b[0m\u001b[1;37mX\u001b[0m\u001b[1;37mX\u001b[0m\u001b[1;37mX\u001b[0m\u001b[1;37mX\u001b[0m\u001b[1;37mX\u001b[0m\u001b[1;37mX\u001b[0m\u001b[1;37mX\u001b[0m\u001b[1;37mX\u001b[0m\u001b[1;37mX\u001b[0m\u001b[1;37mX\u001b[0m\u001b[1;37mX\u001b[0m\u001b[1;37mX\u001b[0m\u001b[1;37mX\u001b[0m\u001b[1;37mX\u001b[0m\u001b[1;37mX\u001b[0m\u001b[1;37mX\u001b[0m\u001b[1;37mX\u001b[0m\u001b[1;37mX\u001b[0m\u001b[1;31mX\u001b[0m\u001b[1;31mX\u001b[0m\u001b[1;37mX\u001b[0m\u001b[1;37mX\u001b[0m\u001b[1;37mX\u001b[0m\u001b[1;37mX\u001b[0m\u001b[1;37mX\u001b[0m\u001b[1;37mX\u001b[0m\u001b[1;37mX\u001b[0m\u001b[1;37mX\u001b[0m\u001b[1;37mX\u001b[0m\u001b[1;37mX\u001b[0m\u001b[1;37mX\u001b[0m\u001b[1;37mX\u001b[0m\u001b[1;31m...\u001b[0m\n",
      "       \u001b[1;37mX\u001b[0m\u001b[1;37mX\u001b[0m\u001b[1;37mX\u001b[0m\u001b[1;37mX\u001b[0m\u001b[1;37mX\u001b[0m\u001b[1;37mX\u001b[0m\u001b[1;37mX\u001b[0m\u001b[1;37mX\u001b[0m\u001b[1;37mX\u001b[0m\u001b[1;37mX\u001b[0m\u001b[1;37mX\u001b[0m\u001b[1;37mX\u001b[0m\u001b[1;37mX\u001b[0m\u001b[1;37mX\u001b[0m\u001b[1;37mX\u001b[0m\u001b[1;37mX\u001b[0m\u001b[1;37mX\u001b[0m\u001b[1;37mX\u001b[0m\u001b[1;31mX\u001b[0m\u001b[1;31mX\u001b[0m\u001b[1;37mX\u001b[0m\u001b[1;37mX\u001b[0m\u001b[1;37mX\u001b[0m\u001b[1;37mX\u001b[0m\u001b[1;37mX\u001b[0m\u001b[1;37mX\u001b[0m\u001b[1;37mX\u001b[0m\u001b[1;37mX\u001b[0m\u001b[1;37mX\u001b[0m\u001b[1;37mX\u001b[0m\u001b[1;37mX\u001b[0m\u001b[1;37mX\u001b[0m\u001b[1;37mX\u001b[0m\u001b[1;37mX\u001b[0m\u001b[1;37mX\u001b[0m\u001b[1;37mX\u001b[0m\u001b[1;37mX\u001b[0m\n",
      "    \u001b[1;37mX\u001b[0m\u001b[1;37mX\u001b[0m\u001b[1;37mX\u001b[0m\u001b[1;37mX\u001b[0m\u001b[1;37mX\u001b[0m\u001b[1;37mX\u001b[0m\u001b[1;37mX\u001b[0m\u001b[1;37mX\u001b[0m\u001b[1;37mX\u001b[0m\u001b[1;37mX\u001b[0m\u001b[1;37mX\u001b[0m\u001b[1;37mX\u001b[0m\u001b[1;37mX\u001b[0m\u001b[1;37mX\u001b[0m\u001b[1;37mX\u001b[0m\u001b[1;37mX\u001b[0m\u001b[1;37mX\u001b[0m\u001b[1;37mX\u001b[0m\u001b[1;37mX\u001b[0m\u001b[1;37mX\u001b[0m\u001b[1;37mX\u001b[0m\u001b[1;31mX\u001b[0m\u001b[1;31mX\u001b[0m\u001b[1;37mX\u001b[0m\u001b[1;37mX\u001b[0m\u001b[1;37mX\u001b[0m\u001b[1;37mX\u001b[0m\u001b[1;37mX\u001b[0m\u001b[1;37mX\u001b[0m\u001b[1;37mX\u001b[0m\u001b[1;37mX\u001b[0m\u001b[1;37mX\u001b[0m\u001b[1;37mX\u001b[0m\u001b[1;37mX\u001b[0m\u001b[1;37mX\u001b[0m\u001b[1;37mX\u001b[0m\u001b[1;37mX\u001b[0m\n"
     ]
    },
    {
     "data": {
      "text/plain": [
       "[None, None, None, None, None, None, None, None, None, None]"
      ]
     },
     "execution_count": 10,
     "metadata": {},
     "output_type": "execute_result"
    }
   ],
   "source": [
    "corrected_reads = correct_reads_with_consens(reads,probabilistic=False, alignment_bonus=ALIGNMENT_BONUS)\n",
    "[print_read_intendet_errors(r,alignment_bonus=ALIGNMENT_BONUS) for r in corrected_reads]"
   ]
  },
  {
   "cell_type": "code",
   "execution_count": 11,
   "metadata": {},
   "outputs": [
    {
     "name": "stdout",
     "output_type": "stream",
     "text": [
      "                         before after\n",
      "local edit distance      0.160 0.057\n",
      "arbitrary dna alignment  0.171 0.057\n"
     ]
    }
   ],
   "source": [
    "print(\n",
    "f\"                         before after\\n\"+\\\n",
    "f\"local edit distance      {most_likely_restorer_error_rate(reads, alignment_bonus=ALIGNMENT_BONUS):.3f} {most_likely_restorer_error_rate(corrected_reads,alignment_bonus=ALIGNMENT_BONUS):.3f}\\n\"+\\\n",
    "f\"arbitrary dna alignment  {dna_distance_error_rate(dna, reads, alignment_bonus=ALIGNMENT_BONUS):.3f} {dna_distance_error_rate(dna, corrected_reads, alignment_bonus=ALIGNMENT_BONUS):.3f}\")"
   ]
  },
  {
   "cell_type": "code",
   "execution_count": 12,
   "metadata": {},
   "outputs": [
    {
     "name": "stdout",
     "output_type": "stream",
     "text": [
      "[0.16285714285714287, 0.14857142857142858, 0.15714285714285714, 0.20285714285714285] [0.06, 0.045714285714285714, 0.008571428571428572, 0.07428571428571429] [0.02, 0.054285714285714284, 0.008571428571428572, 0.0]\n"
     ]
    },
    {
     "data": {
      "text/plain": [
       "<BarContainer object of 3 artists>"
      ]
     },
     "execution_count": 12,
     "metadata": {},
     "output_type": "execute_result"
    },
    {
     "data": {
      "image/png": "[encoded data removed]",
      "text/plain": [
       "<Figure size 640x480 with 1 Axes>"
      ]
     },
     "metadata": {},
     "output_type": "display_data"
    }
   ],
   "source": [
    "\n",
    "before_correction = []\n",
    "normal_correction = []\n",
    "probabilistic_correction = []\n",
    "\n",
    "for i in range(4):\n",
    "\n",
    "    dna = generate_dna(DNA_LENGTH)\n",
    "    reads = [generate_read(dna, READ_lENGTH, lambda base: gauss_unsharp_uncertainty_generator(base, 0.47)) for _ in range(READ_COUNT)]\n",
    "\n",
    "    corrected_reads = correct_reads_with_consens(reads,probabilistic=False, alignment_bonus=NORMAL_ALIGNMENT_BONUS)\n",
    "    probabilistic_corrected_reads = correct_reads_with_consens(reads,probabilistic=True, alignment_bonus=PROBABILISTIC_ALIGNMENT_BONUS)\n",
    "\n",
    "    before_correction.append(dna_distance_error_rate(dna, reads, alignment_bonus=NORMAL_ALIGNMENT_BONUS))\n",
    "    normal_correction.append(dna_distance_error_rate(dna, corrected_reads, alignment_bonus=NORMAL_ALIGNMENT_BONUS))\n",
    "    probabilistic_correction.append(dna_distance_error_rate(dna, probabilistic_corrected_reads, alignment_bonus=PROBABILISTIC_ALIGNMENT_BONUS))\n",
    "\n",
    "print(before_correction, normal_correction, probabilistic_correction)\n",
    "\n",
    "\n",
    "plt.bar(\n",
    "    [\"no correction\", \"normal correction\", \"probabilistic correction\"],\n",
    "    [np.mean(before_correction), np.mean(normal_correction), np.mean(probabilistic_correction)],\n",
    "    yerr=[pd.Series(before_correction).sem(),pd.Series(normal_correction).sem(), pd.Series(probabilistic_correction).sem()],\n",
    "    capsize=6\n",
    "    )\n",
    "#plt.ylim(0,0.02)\n"
   ]
  },
  {
   "cell_type": "code",
   "execution_count": 11,
   "metadata": {},
   "outputs": [
    {
     "data": {
      "text/plain": [
       "[[0.11836734693877551,\n",
       "  0.15510204081632653,\n",
       "  0.15510204081632653,\n",
       "  0.1510204081632653,\n",
       "  0.1673469387755102],\n",
       " [0.0326530612244898,\n",
       "  0.11428571428571428,\n",
       "  0.036734693877551024,\n",
       "  0.02040816326530612,\n",
       "  0.02857142857142857],\n",
       " [0.00816326530612245,\n",
       "  0.0653061224489796,\n",
       "  0.04081632653061224,\n",
       "  0.0,\n",
       "  0.012244897959183673]]"
      ]
     },
     "execution_count": 11,
     "metadata": {},
     "output_type": "execute_result"
    },
    {
     "data": {
      "image/png": "[encoded data removed]",
      "text/plain": [
       "<Figure size 640x480 with 1 Axes>"
      ]
     },
     "metadata": {},
     "output_type": "display_data"
    }
   ],
   "source": [
    "compare_and_plot(\n",
    "    [\n",
    "        lambda reads: reads,\n",
    "        lambda reads: correct_reads_with_consens(reads,probabilistic=False, alignment_bonus=NORMAL_ALIGNMENT_BONUS),\n",
    "        lambda reads: correct_reads_with_consens(reads,probabilistic=True, alignment_bonus=PROBABILISTIC_ALIGNMENT_BONUS)\n",
    "    ],\n",
    "    names=[\"no correction\",\"normal correction\", \"probabilistic correction\"],\n",
    "    iterations=5,\n",
    "    measurement_alignment_boni=[NORMAL_ALIGNMENT_BONUS, NORMAL_ALIGNMENT_BONUS, PROBABILISTIC_ALIGNMENT_BONUS],\n",
    "    environment=Environment(\n",
    "    ).set_coverage(5)\n",
    ")"
   ]
  },
  {
   "cell_type": "code",
   "execution_count": null,
   "metadata": {},
   "outputs": [],
   "source": [
    "# boni = [0.2,0.4,0.6,0.8,1]\n",
    "# data = [[] for _ in range(len(boni))]\n",
    "# \n",
    "# \n",
    "# for i in range(4):\n",
    "    # dna = generate_dna(DNA_LENGTH)\n",
    "    # reads = [generate_read(dna, READ_lENGTH, lambda base: gauss_unsharp_uncertainty_generator(base, 0.47)) for _ in range(READ_COUNT)]\n",
    "    #probabilistic_corrected_reads = correct_reads_with_consens(reads,probabilistic=True, alignment_bonus=PROBABILISTIC_ALIGNMENT_BONUS)\n",
    "    # for j in range(len(boni)):\n",
    "        # corrected_reads = correct_reads_with_consens(reads, probabilistic=False, alignment_bonus=boni[j])\n",
    "        # data[j].append(dna_distance_error_rate(dna, corrected_reads, alignment_bonus=boni[j]))\n",
    "# \n",
    "# data"
   ]
  },
  {
   "cell_type": "code",
   "execution_count": null,
   "metadata": {},
   "outputs": [],
   "source": [
    "# plt.bar(\n",
    "    # [str(b) for b in boni],\n",
    "    # [np.mean(boni_data) for boni_data in data],\n",
    "    # yerr=[pd.Series(boni_data).sem() for boni_data in data],\n",
    "    # capsize=6\n",
    "    # )"
   ]
  },
  {
   "cell_type": "code",
   "execution_count": null,
   "metadata": {},
   "outputs": [
    {
     "name": "stdout",
     "output_type": "stream",
     "text": [
      "Die Ausführung hat 1.0012495517730713 Sekunden gedauert.\n"
     ]
    }
   ],
   "source": [
    "import time\n",
    "\n",
    "\n",
    "\n",
    "\n",
    "with MeasureTime() as timer:\n",
    "    time.sleep(1)\n",
    "\n",
    "print(f\"Die Ausführung hat {timer.elapsed_time} Sekunden gedauert.\")"
   ]
  }
 ],
 "metadata": {
  "kernelspec": {
   "display_name": "bachelor_thesis",
   "language": "python",
   "name": "python3"
  },
  "language_info": {
   "codemirror_mode": {
    "name": "ipython",
    "version": 3
   },
   "file_extension": ".py",
   "mimetype": "text/x-python",
   "name": "python",
   "nbconvert_exporter": "python",
   "pygments_lexer": "ipython3",
   "version": "3.10.12"
  }
 },
 "nbformat": 4,
 "nbformat_minor": 2
}

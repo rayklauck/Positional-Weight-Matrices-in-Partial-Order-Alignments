{
 "cells": [
  {
   "cell_type": "code",
   "execution_count": 1,
   "metadata": {},
   "outputs": [],
   "source": [
    "import matplotlib.pyplot as plt\n",
    "from pot_correction import *\n",
    "from uncertain_dp2 import *"
   ]
  },
  {
   "cell_type": "code",
   "execution_count": 2,
   "metadata": {},
   "outputs": [],
   "source": [
    "import random\n",
    "#random.seed(1)"
   ]
  },
  {
   "cell_type": "code",
   "execution_count": 3,
   "metadata": {},
   "outputs": [],
   "source": [
    "DNA_LENGTH = 50           \n",
    "READ_lENGTH = 35\n",
    "READ_COUNT = 10\n",
    "\n",
    "PROBABILISTIC_ALIGNMENT_BONUS = 2\n",
    "NORMAL_ALIGNMENT_BONUS = 0.7\n",
    "\n",
    "ALIGNMENT_BONUS = PROBABILISTIC_ALIGNMENT_BONUS"
   ]
  },
  {
   "cell_type": "code",
   "execution_count": 4,
   "metadata": {},
   "outputs": [],
   "source": [
    "dna = generate_dna(DNA_LENGTH)\n",
    "reads = [generate_read(dna, READ_lENGTH, lambda base: gauss_unsharp_uncertainty_generator(base, 0.47)) for _ in range(READ_COUNT)]\n",
    "#check_dna_distance_error_rate_suitable(dna, reads, alignment_bonus=ALIGNMENT_BONUS)"
   ]
  },
  {
   "cell_type": "code",
   "execution_count": 5,
   "metadata": {},
   "outputs": [
    {
     "data": {
      "text/plain": [
       "0.14"
      ]
     },
     "execution_count": 5,
     "metadata": {},
     "output_type": "execute_result"
    }
   ],
   "source": [
    "most_likely_restorer_error_rate(reads, alignment_bonus=PROBABILISTIC_ALIGNMENT_BONUS)"
   ]
  },
  {
   "cell_type": "code",
   "execution_count": 6,
   "metadata": {},
   "outputs": [],
   "source": [
    "r = reads[0]"
   ]
  },
  {
   "cell_type": "code",
   "execution_count": 7,
   "metadata": {},
   "outputs": [
    {
     "name": "stdout",
     "output_type": "stream",
     "text": [
      "     \u001b[1;37mX\u001b[0m\u001b[1;37mX\u001b[0m\u001b[1;37mX\u001b[0m\u001b[1;34mX\u001b[0m\u001b[1;37mX\u001b[0m\u001b[1;37mX\u001b[0m\u001b[1;37mX\u001b[0m\u001b[1;37mX\u001b[0m\u001b[1;34mX\u001b[0m\u001b[1;37mX\u001b[0m\u001b[1;37mX\u001b[0m\u001b[1;37mX\u001b[0m\u001b[1;37mX\u001b[0m\u001b[1;37mX\u001b[0m\u001b[1;37mX\u001b[0m\u001b[1;37mX\u001b[0m\u001b[1;34mX\u001b[0m\u001b[1;37mX\u001b[0m\u001b[1;37mX\u001b[0m\u001b[1;37mX\u001b[0m\u001b[1;37mX\u001b[0m\u001b[1;37mX\u001b[0m\u001b[1;34mX\u001b[0m\u001b[1;34mX\u001b[0m\u001b[1;37mX\u001b[0m\u001b[1;37mX\u001b[0m\u001b[1;34mX\u001b[0m\u001b[1;37mX\u001b[0m\u001b[1;37mX\u001b[0m\u001b[1;37mX\u001b[0m\u001b[1;37mX\u001b[0m\u001b[1;37mX\u001b[0m\u001b[1;37mX\u001b[0m\u001b[1;37mX\u001b[0m\u001b[1;37mX\u001b[0m\n",
      "TCAGGGACCGTCCGTTTACAAGTGGAAATCCACGT\n",
      "TCACGGACGGTCCGTTAACAAGAAGATATCCACGT\n",
      "[[0.0, 1.0, 0.0, 0.0], [0.31121538993238795, 0.055943573941882895, 0.48358715478771197, 0.14925388133801712], [0.5452114688900823, 0.0, 0.11210205413408543, 0.34268647697583243], [0.3328652091580263, 0.0, 0.37706691783864893, 0.29006787300332476], [0.2805089875054444, 0.15917151624170944, 0.15995497134059986, 0.4003645249122463], [0.0, 0.0, 0.3672271746658143, 0.6327728253341857], [0.43801502746204973, 0.0, 0.2269638493268567, 0.33502112321109356], [0.15385663582551223, 0.3029323152191514, 0.5432110489553363, 0.0], [0.0, 0.0, 0.46326869997189923, 0.5367313000281008], [0.0, 0.12895683940188488, 0.05649351051735093, 0.8145496500807642], [0.14809839548039652, 0.8151783209026277, 0.03672328361697571, 0.0], [0.0, 0.12410476679200998, 0.6810671044627672, 0.19482812874522276], [0.0055904325159114475, 0.0, 0.9944095674840886, 0.0], [0.0, 0.0, 0.0, 1.0], [0.06422364769478214, 0.6401173412628514, 0.03984460754887966, 0.25581440349348683], [0.13643740593286868, 0.42186423300515086, 0.34176149821929586, 0.09993686284268467], [0.5886437761770306, 0.4113562238229694, 0.0, 0.0], [0.5827612374556024, 0.0, 0.13884930910418128, 0.2783894534402162], [0.0, 0.0, 1.0, 0.0], [0.453184569921439, 0.19055564509356374, 0.0, 0.3562597849849973], [0.7937187410252219, 0.0, 0.13420543275158833, 0.07207582622318993], [0.3901633117496181, 0.0, 0.06032740048277744, 0.5495092877676045], [0.6124425751583635, 0.3875574248416364, 0.0, 0.0], [0.25, 0.25, 0.25, 0.25], [0.21963084393019647, 0.05347590515009124, 0.0, 0.7268932509197122], [1.0, 0.0, 0.0, 0.0], [0.3933218659934872, 0.498611479178226, 0.10806665482828694, 0.0], [0.7092444386107176, 0.0, 0.0, 0.29075556138928244], [0.0, 1.0, 0.0, 0.0], [0.1089207140754747, 0.0, 0.8910792859245252, 0.0], [0.035040727717275975, 0.33183833208141933, 0.3558716564137244, 0.2772492837875803], [0.5632086633808732, 0.0, 0.13025613831221547, 0.30653519830691145], [0.0, 0.0, 0.9725027452752499, 0.027497254724750057], [0.0, 0.0, 0.1396883877014356, 0.8603116122985643], [0.0, 0.5497281712246517, 0.07814727972557692, 0.3721245490497713]]\n"
     ]
    }
   ],
   "source": [
    "print_read_intendet_errors(r, alignment_bonus=ALIGNMENT_BONUS)\n",
    "print(r.original_text)\n",
    "print(r.predicted_text)\n",
    "print(r.uncertain_text)"
   ]
  },
  {
   "cell_type": "code",
   "execution_count": 8,
   "metadata": {},
   "outputs": [
    {
     "name": "stdout",
     "output_type": "stream",
     "text": [
      "[0.0, 1.0, 0.0, 0.0]\n"
     ]
    },
    {
     "data": {
      "text/plain": [
       "([0.0, 1.0, 0.0, 0.0], [0.0, 1.0, 0.0, 0.0])"
      ]
     },
     "execution_count": 8,
     "metadata": {},
     "output_type": "execute_result"
    }
   ],
   "source": [
    "print(r.uncertain_text[0])\n",
    "rounded_r = rounded_read(r,1)\n",
    "most_likely_restorer(r.uncertain_text)  , most_likely_restorer(rounded_r.uncertain_text)\n",
    "r.uncertain_text[0], rounded_r.uncertain_text[0]"
   ]
  },
  {
   "cell_type": "markdown",
   "metadata": {},
   "source": [
    "# Test the effect of different block-precisions on error-correction"
   ]
  },
  {
   "cell_type": "code",
   "execution_count": 9,
   "metadata": {},
   "outputs": [],
   "source": [
    "# results = {}\n",
    "\n",
    "# for M in range(1,20):\n",
    "#     discrete_reads = [rounded_read(r,M) for r in reads]\n",
    "#     #[print_read_intendet_errors(r,alignment_bonus=ALIGNMENT_BONUS) for r in discrete_reads]\n",
    "#     corrected_reads = correct_reads_with_consens(discrete_reads, alignment_bonus=ALIGNMENT_BONUS, probabilistic=True)\n",
    "#    results[M]=most_likely_restorer_error_rate(corrected_reads)"
   ]
  },
  {
   "cell_type": "code",
   "execution_count": 10,
   "metadata": {},
   "outputs": [],
   "source": [
    "#results"
   ]
  },
  {
   "cell_type": "code",
   "execution_count": 11,
   "metadata": {},
   "outputs": [],
   "source": [
    "#plt.bar(results.keys(), results.values())"
   ]
  },
  {
   "cell_type": "code",
   "execution_count": 12,
   "metadata": {},
   "outputs": [],
   "source": [
    "import pandas as pd\n",
    "import numpy as np\n",
    "\n",
    "\n",
    "def compare_and_plot(read_correctors: list[t.Callable[[list[Read]],list[Read]]],*, names: list[str]=None,  iterations=4):\n",
    "    if names is None:\n",
    "        names = [str(i) for i in range(len(read_correctors))]\n",
    "\n",
    "    all: list[list[float]] = [[] for _ in read_correctors]\n",
    "    for _ in range(iterations):\n",
    "\n",
    "        dna = generate_dna(DNA_LENGTH)\n",
    "        reads = [generate_read(dna, READ_lENGTH, lambda base: gauss_unsharp_uncertainty_generator(base, 0.47)) for _ in range(READ_COUNT)]\n",
    "\n",
    "        for j, corrector in enumerate(read_correctors):\n",
    "            corrected_reads = corrector(reads)\n",
    "            all[j].append(dna_distance_error_rate(dna, corrected_reads, alignment_bonus=PROBABILISTIC_ALIGNMENT_BONUS))\n",
    "\n",
    "\n",
    "    plt.bar(\n",
    "        names,\n",
    "        [np.mean(measurement_row) for measurement_row in all],\n",
    "        yerr=[pd.Series(measurement_row).sem() for measurement_row in all],\n",
    "        capsize=6\n",
    "    )"
   ]
  },
  {
   "cell_type": "code",
   "execution_count": 13,
   "metadata": {},
   "outputs": [
    {
     "data": {
      "image/png": "[encoded data removed]",
      "text/plain": [
       "<Figure size 640x480 with 1 Axes>"
      ]
     },
     "metadata": {},
     "output_type": "display_data"
    }
   ],
   "source": [
    "compare_and_plot(\n",
    "    [lambda r:r, \n",
    "     lambda reads: correct_reads_with_consens(reads,probabilistic=False, alignment_bonus=NORMAL_ALIGNMENT_BONUS),\n",
    "     lambda reads: correct_reads_with_consens(reads, alignment_bonus=PROBABILISTIC_ALIGNMENT_BONUS, probabilistic=True)\n",
    "     ]+[\n",
    "        lambda reads: correct_reads_with_consens([rounded_read(r,M) for r in reads], alignment_bonus=PROBABILISTIC_ALIGNMENT_BONUS, probabilistic=True)\n",
    "        for M in [1,2, 4, 100]\n",
    "    ],\n",
    "    iterations=6\n",
    ")"
   ]
  }
 ],
 "metadata": {
  "kernelspec": {
   "display_name": "bachelor_thesis",
   "language": "python",
   "name": "python3"
  },
  "language_info": {
   "codemirror_mode": {
    "name": "ipython",
    "version": 3
   },
   "file_extension": ".py",
   "mimetype": "text/x-python",
   "name": "python",
   "nbconvert_exporter": "python",
   "pygments_lexer": "ipython3",
   "version": "3.10.12"
  }
 },
 "nbformat": 4,
 "nbformat_minor": 2
}

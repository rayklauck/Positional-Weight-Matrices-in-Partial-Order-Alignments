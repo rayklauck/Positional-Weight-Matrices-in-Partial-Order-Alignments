{
 "cells": [
  {
   "cell_type": "code",
   "execution_count": 19,
   "metadata": {},
   "outputs": [],
   "source": [
    "from pot_correction import *\n",
    "from uncertain_dp2 import *"
   ]
  },
  {
   "cell_type": "code",
   "execution_count": 20,
   "metadata": {},
   "outputs": [],
   "source": [
    "DNA_LENGTH = 150           \n",
    "READ_lENGTH = 20 \n",
    "READ_COUNT = 400  "
   ]
  },
  {
   "cell_type": "code",
   "execution_count": 21,
   "metadata": {},
   "outputs": [],
   "source": [
    "dna = generate_dna(DNA_LENGTH)\n",
    "reads = [generate_read(dna, READ_lENGTH, lambda base: gauss_unsharp_uncertainty_generator(base, 0.47)) for _ in range(READ_COUNT)]"
   ]
  },
  {
   "cell_type": "code",
   "execution_count": 22,
   "metadata": {},
   "outputs": [],
   "source": [
    "local_reads = [r for r in reads if r.start_position < 5]"
   ]
  },
  {
   "cell_type": "code",
   "execution_count": 23,
   "metadata": {},
   "outputs": [
    {
     "name": "stdout",
     "output_type": "stream",
     "text": [
      "[0.8, 0.95, 0.85, 0.95, 0.8, 0.85, 0.95, 0.85, 0.75, 0.8, 0.75]\n"
     ]
    },
    {
     "data": {
      "text/plain": [
       "0.15454545454545465"
      ]
     },
     "execution_count": 23,
     "metadata": {},
     "output_type": "execute_result"
    }
   ],
   "source": [
    "most_likely_restorer_error_rate(local_reads)"
   ]
  },
  {
   "cell_type": "code",
   "execution_count": 24,
   "metadata": {},
   "outputs": [
    {
     "data": {
      "text/plain": [
       "11"
      ]
     },
     "execution_count": 24,
     "metadata": {},
     "output_type": "execute_result"
    }
   ],
   "source": [
    "len(local_reads)"
   ]
  },
  {
   "cell_type": "code",
   "execution_count": 25,
   "metadata": {},
   "outputs": [],
   "source": [
    "local_reads = local_reads[:3]"
   ]
  },
  {
   "cell_type": "code",
   "execution_count": 26,
   "metadata": {},
   "outputs": [
    {
     "data": {
      "text/plain": [
       "[<AAGCA\u001b[1;31mA\u001b[0mCAATAC\u001b[1;31mA\u001b[0m\u001b[1;31mA\u001b[0mGTA\u001b[1;31mT\u001b[0mTA>,\n",
       " <AAAGCAGCAATAC\u001b[1;31mA\u001b[0mCGTAAT>,\n",
       " <\u001b[1;31mG\u001b[0mAA\u001b[1;31mC\u001b[0mCAGCAATACGCGTA\u001b[1;31mT\u001b[0mT>]"
      ]
     },
     "execution_count": 26,
     "metadata": {},
     "output_type": "execute_result"
    }
   ],
   "source": [
    "local_reads"
   ]
  },
  {
   "cell_type": "code",
   "execution_count": 27,
   "metadata": {},
   "outputs": [
    {
     "data": {
      "text/plain": [
       "[A, A, G, C, A, G, C, A, A, T, A, C, A, C, G, T, A, T, T, A]"
      ]
     },
     "execution_count": 27,
     "metadata": {},
     "output_type": "execute_result"
    }
   ],
   "source": [
    "read_consent(local_reads)"
   ]
  }
 ],
 "metadata": {
  "kernelspec": {
   "display_name": "bachelor_thesis",
   "language": "python",
   "name": "python3"
  },
  "language_info": {
   "codemirror_mode": {
    "name": "ipython",
    "version": 3
   },
   "file_extension": ".py",
   "mimetype": "text/x-python",
   "name": "python",
   "nbconvert_exporter": "python",
   "pygments_lexer": "ipython3",
   "version": "3.10.12"
  }
 },
 "nbformat": 4,
 "nbformat_minor": 2
}

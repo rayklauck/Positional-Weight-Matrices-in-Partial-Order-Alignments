{
 "cells": [
  {
   "cell_type": "code",
   "execution_count": 1,
   "metadata": {},
   "outputs": [],
   "source": [
    "from pot_correction import *\n",
    "from uncertain_dp2 import *\n",
    "from probabilistic_MSA import *\n",
    "import random"
   ]
  },
  {
   "cell_type": "code",
   "execution_count": 2,
   "metadata": {},
   "outputs": [],
   "source": [
    "DNA_LENGTH = 30         \n",
    "READ_lENGTH = 20\n",
    "READ_COUNT = 20"
   ]
  },
  {
   "cell_type": "code",
   "execution_count": 3,
   "metadata": {},
   "outputs": [],
   "source": [
    "random.seed(4)"
   ]
  },
  {
   "cell_type": "code",
   "execution_count": 4,
   "metadata": {},
   "outputs": [],
   "source": [
    "dna = generate_dna(DNA_LENGTH)\n",
    "reads = [generate_read(dna, READ_lENGTH, lambda base: gauss_unsharp_uncertainty_generator(base, 0.43)) for _ in range(READ_COUNT)]"
   ]
  },
  {
   "cell_type": "code",
   "execution_count": 5,
   "metadata": {},
   "outputs": [],
   "source": [
    "local_reads =reads # [r for r in reads if r.start_position < 5]"
   ]
  },
  {
   "cell_type": "code",
   "execution_count": 6,
   "metadata": {},
   "outputs": [
    {
     "name": "stdout",
     "output_type": "stream",
     "text": [
      "[0.9, 0.95, 0.9, 0.85, 0.7, 0.8, 0.85, 0.9, 0.85, 0.8, 1.0, 0.95, 1.0, 0.9, 0.95, 0.95, 0.8, 0.8, 1.0, 0.85]\n"
     ]
    },
    {
     "data": {
      "text/plain": [
       "0.11499999999999988"
      ]
     },
     "execution_count": 6,
     "metadata": {},
     "output_type": "execute_result"
    }
   ],
   "source": [
    "most_likely_restorer_error_rate(local_reads)"
   ]
  },
  {
   "cell_type": "code",
   "execution_count": 7,
   "metadata": {},
   "outputs": [],
   "source": [
    "random.shuffle(local_reads)"
   ]
  },
  {
   "cell_type": "code",
   "execution_count": 8,
   "metadata": {},
   "outputs": [],
   "source": [
    "#local_reads = local_reads[:5]"
   ]
  },
  {
   "cell_type": "code",
   "execution_count": 9,
   "metadata": {},
   "outputs": [
    {
     "name": "stdout",
     "output_type": "stream",
     "text": [
      "  <AGG\u001b[1;31mG\u001b[0mAAAGC\u001b[1;31mC\u001b[0mTCCTACTACC>\n",
      " <CAGGTA\u001b[1;31mT\u001b[0mAGCATCCTACTAC>\n",
      " <CAG\u001b[1;31mA\u001b[0mTAA\u001b[1;31mT\u001b[0mGCATCCTAC\u001b[1;31mG\u001b[0mAC>\n",
      "  <A\u001b[1;31mT\u001b[0mGTAAAGCATCCTA\u001b[1;31mG\u001b[0m\u001b[1;31mC\u001b[0mAC\u001b[1;31mG\u001b[0m>\n",
      "          <CATCCTACTACCTTCCCACG>\n",
      "  <AGGTAA\u001b[1;31mG\u001b[0mGCATC\u001b[1;31mG\u001b[0mTACTAC\u001b[1;31mA\u001b[0m>\n",
      "       <AAGCATCCTACTACCTTCCC>\n",
      "  <\u001b[1;31mT\u001b[0mGGTAAAGCATCCTA\u001b[1;31mG\u001b[0mT\u001b[1;31mC\u001b[0mCC>\n",
      "        <AGCATCCTAC\u001b[1;31mC\u001b[0mACC\u001b[1;31mA\u001b[0mTCCCA>\n",
      "         <GCATCCTA\u001b[1;31mG\u001b[0mTAC\u001b[1;31mG\u001b[0mT\u001b[1;31mG\u001b[0mCCCAC>\n",
      "  <AGGTAAAGC\u001b[1;31mT\u001b[0mTCCTACTACC>\n",
      "          <CATCCTACTACCTTCCCACG>\n",
      "       <AAGCATCC\u001b[1;31mC\u001b[0mACTACCTTCCC>\n",
      "    <GTAAAGCA\u001b[1;31mC\u001b[0mCCTACTACCTT>\n",
      "  <AGGTA\u001b[1;31mT\u001b[0m\u001b[1;31mT\u001b[0mGCATCC\u001b[1;31mA\u001b[0m\u001b[1;31mT\u001b[0mCTACC>\n",
      "        <AGCATCC\u001b[1;31mG\u001b[0mACTA\u001b[1;31mA\u001b[0mC\u001b[1;31mA\u001b[0m\u001b[1;31mA\u001b[0mCCCA>\n",
      "        <AG\u001b[1;31mG\u001b[0mAT\u001b[1;31mT\u001b[0mCTACTACCTTCCCA>\n",
      "     <TAA\u001b[1;31mC\u001b[0mGCATCCT\u001b[1;31mG\u001b[0m\u001b[1;31mA\u001b[0mTACCTT\u001b[1;31mG\u001b[0m>\n",
      "         <G\u001b[1;31mG\u001b[0mATCCTAC\u001b[1;31mA\u001b[0mACCTTCCCAC>\n",
      "<TC\u001b[1;31mT\u001b[0mGGTAA\u001b[1;31mC\u001b[0m\u001b[1;31mA\u001b[0mC\u001b[1;31mG\u001b[0mTCCTA\u001b[1;31mT\u001b[0m\u001b[1;31mC\u001b[0mA>\n"
     ]
    }
   ],
   "source": [
    "for l in local_reads:\n",
    "    print(l)\n"
   ]
  },
  {
   "cell_type": "code",
   "execution_count": 10,
   "metadata": {},
   "outputs": [
    {
     "name": "stdout",
     "output_type": "stream",
     "text": [
      "  <AGG\u001b[1;31mG\u001b[0mAAAGC\u001b[1;31mC\u001b[0mTCCTACTACC>\n"
     ]
    }
   ],
   "source": [
    "l = read_consent(local_reads)\n",
    "corr = \"\".join([e for e in l])\n",
    "print(reads[0])\n",
    "#dp_with_probabilities(\n",
    "#    list(map(certain_uncertainty_generator, most_likely_restorer(reads[0].uncertain_text))),\n",
    "#    list(map(certain_uncertainty_generator, corr)),\n",
    "#)"
   ]
  },
  {
   "cell_type": "code",
   "execution_count": 11,
   "metadata": {},
   "outputs": [
    {
     "data": {
      "text/plain": [
       " <C>"
      ]
     },
     "execution_count": 11,
     "metadata": {},
     "output_type": "execute_result"
    }
   ],
   "source": [
    "i = 2\n",
    "ordered_reads = [local_reads[i]]+local_reads[:i]+local_reads[i+1:]\n",
    "l = read_consent(ordered_reads, as_read=True, probabilistic=True)\n",
    "l"
   ]
  },
  {
   "cell_type": "code",
   "execution_count": 12,
   "metadata": {},
   "outputs": [
    {
     "data": {
      "text/plain": [
       "[  <AGGTAAAGCATCCTACTACC>,\n",
       "  <CAGGTAAAGCATCCTACTAC>,\n",
       "  <CAGGTAAAGCATCCTACTAC>,\n",
       "   <AGGTAAAGCATCCTACTACC>,\n",
       "           <CATCCTACTACCTTCCCACG>,\n",
       "   <AGGTAAAGCATCCTACTACC>,\n",
       "        <AAGCATCCTACTACCTTCCC>,\n",
       "   <\u001b[1;31mT\u001b[0mGGTAAAGCATCCTACTACC>,\n",
       "         <AGCATCCTACTACCTTCCCA>,\n",
       "          <GCATCCTACTACCTTCCCAC>,\n",
       "   <AGGTAAAGCATCCTACTACC>,\n",
       "           <CATCCTACTACCTTCCCACG>,\n",
       "        <AAGCATCCTACTACCTTCCC>,\n",
       "     <GTAAAGCATCCTACTACCTT>,\n",
       "   <AGGTAAAGCATCCTACTACC>,\n",
       "         <AGCATCCTACTACCTTCCCA>,\n",
       "         <AGCATCCTACTACCTTCCCA>,\n",
       "      <TAAAGCATCCTACTACCTTC>,\n",
       "          <GCATCCTACTACCTTCCCAC>,\n",
       " <TCAGGTAAAGCATCCTACTA>]"
      ]
     },
     "execution_count": 12,
     "metadata": {},
     "output_type": "execute_result"
    }
   ],
   "source": [
    "corrected_reads = correct_reads_with_consens(local_reads,probabilistic=False)\n",
    "corrected_reads"
   ]
  },
  {
   "cell_type": "code",
   "execution_count": 13,
   "metadata": {},
   "outputs": [
    {
     "name": "stdout",
     "output_type": "stream",
     "text": [
      "[1.0, 1.0]\n"
     ]
    },
    {
     "data": {
      "text/plain": [
       "0.0"
      ]
     },
     "execution_count": 13,
     "metadata": {},
     "output_type": "execute_result"
    }
   ],
   "source": [
    "prob=False\n",
    "i = 0\n",
    "ordered_reads = [local_reads[i]]+local_reads[:i]+local_reads[i+1:]\n",
    "l = read_consent(ordered_reads, as_read=True, probabilistic=prob)\n",
    "l\n",
    "\n",
    "i=1\n",
    "ordered_reads = [local_reads[i]]+local_reads[:i]+local_reads[i+1:]\n",
    "l1 = read_consent(ordered_reads, as_read=True, probabilistic=prob)\n",
    "l1\n",
    "\n",
    "most_likely_restorer_error_rate([l,l1])"
   ]
  },
  {
   "cell_type": "code",
   "execution_count": 14,
   "metadata": {},
   "outputs": [],
   "source": [
    "rounded_base_like_reads = list(map(\n",
    "        lambda read: [RegularBase(b)for b in most_likely_restorer(read.uncertain_text)]\n",
    "        ,local_reads))\n",
    "graph = multiple_sequence_alignment(rounded_base_like_reads)"
   ]
  },
  {
   "cell_type": "code",
   "execution_count": null,
   "metadata": {},
   "outputs": [],
   "source": []
  },
  {
   "cell_type": "code",
   "execution_count": 15,
   "metadata": {},
   "outputs": [],
   "source": [
    "no = graph.start_nodes[0]"
   ]
  }
 ],
 "metadata": {
  "kernelspec": {
   "display_name": "bachelor_thesis",
   "language": "python",
   "name": "python3"
  },
  "language_info": {
   "codemirror_mode": {
    "name": "ipython",
    "version": 3
   },
   "file_extension": ".py",
   "mimetype": "text/x-python",
   "name": "python",
   "nbconvert_exporter": "python",
   "pygments_lexer": "ipython3",
   "version": "3.10.12"
  }
 },
 "nbformat": 4,
 "nbformat_minor": 2
}

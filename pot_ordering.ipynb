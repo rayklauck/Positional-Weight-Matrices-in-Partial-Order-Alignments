{
 "cells": [
  {
   "cell_type": "code",
   "execution_count": 1,
   "metadata": {},
   "outputs": [],
   "source": [
    "from pot_correction import *\n",
    "import numpy as np"
   ]
  },
  {
   "cell_type": "code",
   "execution_count": 2,
   "metadata": {},
   "outputs": [],
   "source": [
    "DNA_LENGTH = 150           \n",
    "READ_lENGTH = 20 \n",
    "READ_COUNT = 400       \n",
    "POT_COUNT = 8\n",
    "POT_CHECKING_COUNT = 5 "
   ]
  },
  {
   "cell_type": "code",
   "execution_count": 3,
   "metadata": {},
   "outputs": [],
   "source": [
    "dna = generate_dna(DNA_LENGTH)\n",
    "reads = [generate_read(dna, READ_lENGTH, lambda base: gauss_unsharp_uncertainty_generator(base, 0.47)) for _ in range(READ_COUNT)]\n",
    "# 0.47"
   ]
  },
  {
   "cell_type": "code",
   "execution_count": 16,
   "metadata": {},
   "outputs": [],
   "source": [
    "#reads[0].uncertain_text"
   ]
  },
  {
   "cell_type": "code",
   "execution_count": 17,
   "metadata": {},
   "outputs": [
    {
     "name": "stdout",
     "output_type": "stream",
     "text": [
      "[0.75, 0.95, 0.75, 0.75, 0.95, 0.95, 0.7, 0.9, 0.9, 0.9, 0.9, 0.85, 0.85, 0.8, 0.95, 0.8, 0.7, 0.85, 0.8, 0.85, 0.85, 0.85, 0.7, 0.95, 0.85, 0.9, 0.95, 0.9, 0.9, 0.75, 0.75, 0.85, 0.85, 0.85, 0.8, 0.85, 0.9, 0.8, 0.9, 0.8, 0.8, 0.8, 0.95, 0.7, 0.9, 0.9, 0.85, 0.8, 0.85, 0.85, 0.85, 0.85, 0.85, 0.85, 0.9, 0.8, 0.65, 0.95, 0.85, 0.85, 0.85, 0.8, 0.85, 0.8, 0.8, 0.8, 0.75, 0.8, 0.9, 0.9, 1.0, 0.95, 0.8, 0.8, 0.8, 0.85, 0.8, 0.9, 0.8, 0.75, 0.8, 0.9, 0.8, 0.75, 0.9, 0.75, 0.85, 0.85, 0.8, 0.85, 0.85, 0.95, 0.8, 0.85, 0.7, 0.9, 0.85, 0.85, 0.95, 0.75, 0.8, 0.75, 0.9, 0.8, 0.8, 0.95, 0.95, 0.75, 0.85, 0.85, 0.8, 0.9, 0.75, 0.8, 0.9, 0.95, 0.85, 0.75, 0.85, 0.9, 0.7, 0.75, 0.6, 0.9, 0.85, 0.85, 1.0, 0.9, 0.85, 0.8, 0.7, 0.85, 0.9, 0.8, 0.8, 0.75, 0.65, 0.9, 0.85, 0.85, 0.95, 0.85, 0.85, 0.75, 0.8, 0.9, 0.8, 0.8, 0.9, 0.9, 0.9, 0.95, 0.85, 0.8, 0.75, 0.8, 0.9, 0.85, 0.95, 0.8, 0.95, 0.9, 0.95, 0.8, 0.75, 0.85, 0.9, 0.8, 0.75, 0.8, 0.9, 0.85, 0.85, 0.95, 0.85, 0.8, 0.8, 0.95, 0.9, 0.75, 0.8, 0.8, 0.95, 0.65, 0.85, 0.85, 0.85, 0.75, 0.9, 0.85, 0.9, 0.8, 0.8, 0.8, 0.8, 0.9, 0.7, 0.9, 0.85, 0.8, 0.85, 0.85, 0.8, 0.85, 0.75, 0.8, 0.8, 0.95, 0.9, 0.75, 0.9, 0.75, 0.8, 0.95, 0.8, 0.75, 0.9, 0.8, 0.95, 0.8, 0.8, 1.0, 0.9, 0.85, 0.9, 0.85, 0.85, 0.75, 0.7, 0.95, 0.85, 0.9, 0.9, 1.0, 0.85, 0.8, 0.75, 0.9, 0.8, 0.8, 0.85, 0.85, 0.85, 0.75, 0.8, 0.9, 0.8, 0.95, 0.8, 0.75, 0.8, 0.9, 0.95, 0.85, 0.9, 0.75, 0.8, 0.75, 0.8, 0.9, 0.85, 0.8, 0.65, 0.8, 0.85, 0.95, 0.75, 0.85, 0.9, 0.9, 0.85, 0.7, 0.9, 0.85, 0.9, 0.85, 0.8, 0.85, 0.85, 0.95, 0.75, 0.85, 0.75, 1.0, 0.75, 0.8, 0.75, 0.9, 1.0, 1.0, 0.85, 0.9, 0.9, 0.85, 0.75, 0.8, 0.7, 0.8, 0.95, 0.85, 0.85, 0.95, 0.9, 0.8, 0.9, 0.9, 0.7, 0.8, 0.85, 0.75, 0.7, 0.8, 0.85, 0.9, 0.9, 0.95, 1.0, 0.9, 0.85, 0.85, 0.85, 0.85, 0.9, 0.8, 0.9, 0.7, 0.85, 0.8, 0.9, 0.85, 0.7, 0.8, 0.75, 0.9, 0.85, 0.85, 0.85, 0.9, 0.85, 0.9, 0.7, 0.85, 0.85, 0.75, 0.85, 0.95, 0.8, 0.85, 0.8, 0.95, 0.8, 0.8, 0.75, 0.9, 0.7, 0.85, 0.9, 0.8, 0.9, 0.8, 0.8, 0.8, 0.9, 0.75, 0.9, 0.85, 0.8, 1.0, 0.85, 0.75, 0.8, 0.85, 0.85, 0.95, 0.9, 0.8, 0.85, 0.85, 0.7, 0.85, 0.85, 0.85, 0.8, 0.7, 0.8, 0.8, 0.75, 0.8, 0.9, 0.8, 0.85, 0.8, 0.75, 0.85, 0.9, 0.85, 0.85, 0.9, 0.85, 0.9]\n"
     ]
    },
    {
     "data": {
      "text/plain": [
       "0.16087499999999877"
      ]
     },
     "execution_count": 17,
     "metadata": {},
     "output_type": "execute_result"
    }
   ],
   "source": [
    "most_likely_restorer_error_rate(reads)"
   ]
  },
  {
   "cell_type": "code",
   "execution_count": 6,
   "metadata": {},
   "outputs": [],
   "source": [
    "pots = get_pots(POT_COUNT, reads)"
   ]
  },
  {
   "cell_type": "code",
   "execution_count": 7,
   "metadata": {},
   "outputs": [],
   "source": [
    "pot_iteration(pots, reads, pot_sample_size=POT_CHECKING_COUNT)"
   ]
  },
  {
   "cell_type": "code",
   "execution_count": 20,
   "metadata": {},
   "outputs": [],
   "source": [
    "pot_iteration(pots, reads, pot_sample_size=POT_CHECKING_COUNT)"
   ]
  },
  {
   "cell_type": "code",
   "execution_count": 21,
   "metadata": {},
   "outputs": [
    {
     "name": "stdout",
     "output_type": "stream",
     "text": [
      ".................|||.||||||||||||..|..................................................................................................................\n",
      ".................|............................................................||||||||||||||||||..|...................................................\n",
      ".................................................|...........................................................||||.|..||||||||||||||...................\n",
      "|||||||||||||||||||||..............................|..............................................................|...................................\n",
      ".|.......................................||...|||.|.||||||||||..|.....................................................................................\n",
      "...............................||||||||||||||.|||..|..............................|..............................................|....................\n",
      "...................|.........................................|.||||||||||||||.|....|..................................................................\n",
      "........................................................................|.............|....||||||||||||||||||||||.||.......|..........................\n"
     ]
    }
   ],
   "source": [
    "for i in range(POT_COUNT):\n",
    "    histogram_like([a.start_position for a in pots[i].members], DNA_LENGTH)"
   ]
  },
  {
   "cell_type": "code",
   "execution_count": 22,
   "metadata": {},
   "outputs": [],
   "source": [
    "in_pot_alignment, in_pot_score = get_in_pot_alignment(pots[0])"
   ]
  },
  {
   "cell_type": "code",
   "execution_count": 23,
   "metadata": {},
   "outputs": [
    {
     "name": "stdout",
     "output_type": "stream",
     "text": [
      "                     TAAGAAAGGAAGGAGGATCG\n",
      "                                AGAGGATGGCCACAGATTGC\n",
      "                                  AGGATCTCTGAAAACTCCAT\n",
      "                                 GAACATCGCTCCACATTGCA\n",
      "                       AAATCGGAGAGAGGAGCGCT\n",
      "                                AGAGGATCGCTACACAGTGC\n",
      "                    TTACAATCGGAGAGATGATT\n",
      "                         ATCGGAGAGACGGTCGCTTC\n",
      "                         CTCGGAGAGAGGATCGCTAC\n",
      "                               GCGAGGATCGCTACACATTA\n",
      "                             CAGAGAGGATTGCTCCAAAT\n",
      "                                AGAGGATCGTTACTGATTGA\n",
      "                               GAGAGGTTCGCTACAATTTG\n",
      "                     TAAAATCAGAGAGAGGATCA\n",
      "                        TATCTGAGAGAGAGGGGCTA\n",
      "                          TCGCAGAGAGGATCGCTGAA\n",
      "                                 GAGGATCACTACACATTGCC\n",
      "                              AGAGAGGATCGCTACACACT\n",
      "                               GGCGGAATGGCTACACATTG\n",
      "                                 CAGGATCGCTTTTCATTGCA\n",
      "                            GGAGAGAGGATCGGCACACT\n",
      "                          TCAGAGATAGGATCGCTACA\n",
      "                                     ATCGCCACACATTGAAGTAG\n",
      "                            CCAGAGAGGATCGCTACACA\n",
      "                                AGATGATAGGTACACATTGC\n",
      "                                     ATCGCTACACAGTGCGTCCG\n",
      "                     TAACATAGGAGAGAGTATCG\n",
      "                                ATAGTACCGCTAGACATTGC\n",
      "                               GAGAGGATCGTTTCACGTTG\n",
      "                             TAGAGAGGATCTCTACATCT\n",
      "                             GAGAGAGGATCGAAACACAT\n",
      "                                AGAGGATAGCTATACATTGC\n",
      "                     TCAAATCGGAGGGAGGATCT\n",
      "                       AAATCGGTGACACGATCGCT\n",
      "                                 GAGAATTGCTACAAATTGCA\n",
      "                   TGTAAAATCGGAGAGAGGAT\n",
      "                           CGGAGATACGATCGCTATAC\n",
      "                             GAGAGCGGGTTGCTACCCAT\n",
      "                           GGGAGAGAGGATTGCCACAC\n",
      "                       AAACAGGCGAGTGGATCGCT\n",
      "                        AGTCAGGGAGACGATCGCTA\n",
      "\n"
     ]
    }
   ],
   "source": [
    "show_read_alignment(in_pot_alignment)"
   ]
  },
  {
   "cell_type": "code",
   "execution_count": 25,
   "metadata": {},
   "outputs": [
    {
     "data": {
      "text/plain": [
       "('TTTAAAATCGGAGAGAGGATCGCTACACATTGCATCCG', -2)"
      ]
     },
     "execution_count": 25,
     "metadata": {},
     "output_type": "execute_result"
    }
   ],
   "source": [
    "restored_text = most_likely_pot_string(in_pot_alignment)\n",
    "restored_text"
   ]
  },
  {
   "cell_type": "code",
   "execution_count": 26,
   "metadata": {},
   "outputs": [],
   "source": [
    "corrected_reads = correct_reads_with_restored_text(in_pot_alignment, restored_text)"
   ]
  },
  {
   "cell_type": "code",
   "execution_count": 27,
   "metadata": {},
   "outputs": [
    {
     "name": "stdout",
     "output_type": "stream",
     "text": [
      "[1.0, 1.0, 1.0, 1.0, 1.0, 1.0, 0.95, 1.0, 1.0, 1.0, 1.0, 1.0, 1.0, 1.0, 1.0, 1.0, 1.0, 1.0, 1.0, 1.0, 1.0, 1.0, 0.95, 1.0, 1.0, 0.95, 1.0, 1.0, 1.0, 1.0, 1.0, 1.0, 1.0, 1.0, 1.0, 0.95, 1.0, 1.0, 1.0, 1.0, 1.0]\n"
     ]
    },
    {
     "data": {
      "text/plain": [
       "0.00487804878048792"
      ]
     },
     "execution_count": 27,
     "metadata": {},
     "output_type": "execute_result"
    }
   ],
   "source": [
    "most_likely_restorer_error_rate(corrected_reads)"
   ]
  }
 ],
 "metadata": {
  "kernelspec": {
   "display_name": "world_living_env",
   "language": "python",
   "name": "python3"
  },
  "language_info": {
   "codemirror_mode": {
    "name": "ipython",
    "version": 3
   },
   "file_extension": ".py",
   "mimetype": "text/x-python",
   "name": "python",
   "nbconvert_exporter": "python",
   "pygments_lexer": "ipython3",
   "version": "3.10.12"
  }
 },
 "nbformat": 4,
 "nbformat_minor": 2
}

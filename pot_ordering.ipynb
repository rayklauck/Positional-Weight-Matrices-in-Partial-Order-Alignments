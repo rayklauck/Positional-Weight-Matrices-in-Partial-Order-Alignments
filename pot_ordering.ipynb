{
 "cells": [
  {
   "cell_type": "code",
   "execution_count": 10,
   "metadata": {},
   "outputs": [],
   "source": [
    "from pot_correction import *"
   ]
  },
  {
   "cell_type": "code",
   "execution_count": 11,
   "metadata": {},
   "outputs": [],
   "source": [
    "DNA_LENGTH = 150           \n",
    "READ_lENGTH = 15 \n",
    "READ_COUNT = 400       \n",
    "POT_COUNT = 10\n",
    "POT_CHECKING_COUNT = 5 "
   ]
  },
  {
   "cell_type": "code",
   "execution_count": 12,
   "metadata": {},
   "outputs": [],
   "source": [
    "dna = generate_dna(DNA_LENGTH)\n",
    "reads = [generate_read(dna, READ_lENGTH, lambda base: gauss_unsharp_uncertainty_generator(base, 0.5)) for _ in range(READ_COUNT)]"
   ]
  },
  {
   "cell_type": "code",
   "execution_count": 13,
   "metadata": {},
   "outputs": [
    {
     "data": {
      "text/plain": [
       "[[0.0077897619918682135, 0.1361224832738544, 0.8560877547342775, 0.0],\n",
       " [0.0155206726678557,\n",
       "  0.08218276168197793,\n",
       "  0.6941114477127691,\n",
       "  0.2081851179373972],\n",
       " [0.2996400329546324, 0.0, 0.09070606838090707, 0.6096538986644605],\n",
       " [0.0, 1.0, 0.0, 0.0],\n",
       " [0.33940859224515246,\n",
       "  0.3332961228869633,\n",
       "  0.15317009707167764,\n",
       "  0.1741251877962065],\n",
       " [0.0, 0.4807345982865164, 0.11591250155543689, 0.40335290015804687],\n",
       " [0.7520333038233314, 0.0, 0.2479666961766686, 0.0],\n",
       " [0.0, 0.7517822821872391, 0.23548498854548636, 0.012732729267274477],\n",
       " [0.598285473302553, 0.0, 0.40171452669744706, 0.0],\n",
       " [0.2743664541448536, 0.7256335458551464, 0.0, 0.0],\n",
       " [1.0, 0.0, 0.0, 0.0],\n",
       " [0.2748963112438719, 0.42694377557666713, 0.0, 0.29815991317946083],\n",
       " [0.0, 1.0, 0.0, 0.0],\n",
       " [0.6183721772124712, 0.09284831494590912, 0.2887795078416197, 0.0],\n",
       " [0.0, 0.159692889541305, 0.0, 0.840307110458695]]"
      ]
     },
     "execution_count": 13,
     "metadata": {},
     "output_type": "execute_result"
    }
   ],
   "source": [
    "reads[0].uncertain_text"
   ]
  },
  {
   "cell_type": "code",
   "execution_count": 20,
   "metadata": {},
   "outputs": [
    {
     "data": {
      "text/plain": [
       "0.9028333333333365"
      ]
     },
     "execution_count": 20,
     "metadata": {},
     "output_type": "execute_result"
    }
   ],
   "source": [
    "similarities = [string_similarity(most_likely_restorer(r), r.original_text) for r in reads]\n",
    "sum(similarities) / len(similarities)"
   ]
  },
  {
   "cell_type": "code",
   "execution_count": 15,
   "metadata": {},
   "outputs": [],
   "source": [
    "pots = get_pots(POT_COUNT, reads)"
   ]
  },
  {
   "cell_type": "code",
   "execution_count": 16,
   "metadata": {},
   "outputs": [],
   "source": [
    "pot_iteration(pots, reads, pot_sample_size=POT_CHECKING_COUNT)"
   ]
  },
  {
   "cell_type": "code",
   "execution_count": 17,
   "metadata": {},
   "outputs": [],
   "source": [
    "pot_iteration(pots, reads, pot_sample_size=POT_CHECKING_COUNT)"
   ]
  },
  {
   "cell_type": "code",
   "execution_count": 18,
   "metadata": {},
   "outputs": [
    {
     "name": "stdout",
     "output_type": "stream",
     "text": [
      ".................................................................................................|||.||||.|||||||||||||.|.............................\n",
      "....|..........................|.||||||||||.|.||................||................................||..|........|......................................\n",
      "........|||||||||||................................................................................||....................||...........................\n",
      "..................................................................|||...|.............................................||..||.|..|.||.||...............\n",
      "............|..||||||||||||||||...............................................................|..|..|.................................................\n",
      "|.........................................|||||.|||||.................................................................|||.||||||.||.|||...............\n",
      "...........|....................................................................|||||||||.||.|||......................................||..............\n",
      "||||||||..|.......|...............................|.|.||.........................................|....................................................\n",
      "................................................................|.|||||||||||||.|.|........|.......................................|..|...............\n",
      "................................|...................|||||||||||..|...........................|........................................................\n"
     ]
    }
   ],
   "source": [
    "\n",
    "for i in range(POT_COUNT):\n",
    "    histogram_like([a.start_position for a in pots[i].members], DNA_LENGTH)"
   ]
  }
 ],
 "metadata": {
  "kernelspec": {
   "display_name": "world_living_env",
   "language": "python",
   "name": "python3"
  },
  "language_info": {
   "codemirror_mode": {
    "name": "ipython",
    "version": 3
   },
   "file_extension": ".py",
   "mimetype": "text/x-python",
   "name": "python",
   "nbconvert_exporter": "python",
   "pygments_lexer": "ipython3",
   "version": "3.10.12"
  }
 },
 "nbformat": 4,
 "nbformat_minor": 2
}

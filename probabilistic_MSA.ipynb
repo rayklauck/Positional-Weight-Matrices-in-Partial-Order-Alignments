{
 "cells": [
  {
   "cell_type": "code",
   "execution_count": 1,
   "metadata": {},
   "outputs": [],
   "source": [
    "from probabilistic_MSA import *"
   ]
  },
  {
   "cell_type": "code",
   "execution_count": 2,
   "metadata": {},
   "outputs": [],
   "source": [
    "DNA_LENGTH = 150           \n",
    "READ_lENGTH = 20 \n",
    "READ_COUNT = 400  "
   ]
  },
  {
   "cell_type": "code",
   "execution_count": 3,
   "metadata": {},
   "outputs": [
    {
     "data": {
      "text/plain": [
       "'TAGT'"
      ]
     },
     "execution_count": 3,
     "metadata": {},
     "output_type": "execute_result"
    }
   ],
   "source": [
    "generate_dna(4)"
   ]
  },
  {
   "cell_type": "code",
   "execution_count": 4,
   "metadata": {},
   "outputs": [],
   "source": [
    "dna = generate_dna(DNA_LENGTH)\n",
    "reads = [generate_read(dna, READ_lENGTH, lambda base: gauss_unsharp_uncertainty_generator(base, 0.47)) for _ in range(READ_COUNT)]"
   ]
  },
  {
   "cell_type": "code",
   "execution_count": 5,
   "metadata": {},
   "outputs": [
    {
     "name": "stdout",
     "output_type": "stream",
     "text": [
      "[[2, 1, 1, 1, 1, 1, 1, 1, 1], [2, 3, 2, 2, 2, 2, 2, 2, 2], [2, 1, 3, 2, 3, 2, 2, 2, 2], [2, 1, 1, 3, 2, 2, 2, 2, 2], [2, 1, 1, 1, 3, 2, 2, 2, 2], [2, 1, 1, 1, 3, 2, 2, 3, 2], [2, 1, 1, 1, 1, 3, 2, 3, 2], [2, 1, 1, 1, 1, 1, 3, 3, 2], [2, 1, 1, 1, 1, 3, 3, 1, 3], [2, 1, 3, 1, 1, 1, 1, 3, 3]]\n",
      "\u001b[1;37mA\u001b[0m\u001b[1;34mC\u001b[0m\u001b[1;37mG\u001b[0m\u001b[1;31mG\u001b[0m\u001b[1;37mC\u001b[0m\u001b[1;34mC\u001b[0m\u001b[1;32mA\u001b[0m\u001b[1;37mC\u001b[0m\u001b[1;31mA\u001b[0m\u001b[1;37mT\u001b[0m"
     ]
    },
    {
     "data": {
      "text/plain": [
       "5"
      ]
     },
     "execution_count": 5,
     "metadata": {},
     "output_type": "execute_result"
    }
   ],
   "source": [
    "dp_with_probabilities(\n",
    "    list(map(certain_uncertainty_generator, \"ATGCAACT\")),\n",
    "    list(map(certain_uncertainty_generator, \"ACGGCCCAT\"))\n",
    ")"
   ]
  },
  {
   "cell_type": "code",
   "execution_count": 51,
   "metadata": {},
   "outputs": [
    {
     "name": "stdout",
     "output_type": "stream",
     "text": [
      "[[2, 1, 1, 1, 1, 1, 1, 1], [2, 3, 3, 2, 2, 2, 2, 2], [2, 1, 1, 3, 2, 2, 2, 2], [2, 1, 3, 1, 3, 3, 3, 2], [2, 1, 1, 1, 1, 3, 2, 2], [2, 1, 3, 1, 1, 1, 3, 2], [2, 3, 1, 1, 1, 1, 1, 3]]\n",
      "\u001b[1;34mA\u001b[0m\u001b[1;31mT\u001b[0m\u001b[1;37mA\u001b[0m\u001b[1;37mC\u001b[0m\u001b[1;34mA\u001b[0m\u001b[1;37mG\u001b[0m\u001b[1;37mA\u001b[0m\u001b[1;37mT\u001b[0m"
     ]
    },
    {
     "data": {
      "text/plain": [
       "1.9476803968075416"
      ]
     },
     "execution_count": 51,
     "metadata": {},
     "output_type": "execute_result"
    }
   ],
   "source": [
    "dp_with_probabilities(\n",
    "    [*just_those(T,A,C,C,G,A,T)],\n",
    "    [just(A),just(C), probably(A, 0.7),*just_those(G,A,T)]\n",
    ")"
   ]
  },
  {
   "cell_type": "code",
   "execution_count": 7,
   "metadata": {},
   "outputs": [
    {
     "ename": "NameError",
     "evalue": "name 'just_' is not defined",
     "output_type": "error",
     "traceback": [
      "\u001b[0;31m---------------------------------------------------------------------------\u001b[0m",
      "\u001b[0;31mNameError\u001b[0m                                 Traceback (most recent call last)",
      "Cell \u001b[0;32mIn[7], line 1\u001b[0m\n\u001b[0;32m----> 1\u001b[0m \u001b[43mjust_\u001b[49m(T,A,C)\n",
      "\u001b[0;31mNameError\u001b[0m: name 'just_' is not defined"
     ]
    }
   ],
   "source": [
    "just_(T,A,C)"
   ]
  }
 ],
 "metadata": {
  "kernelspec": {
   "display_name": "bachelor_thesis",
   "language": "python",
   "name": "python3"
  },
  "language_info": {
   "codemirror_mode": {
    "name": "ipython",
    "version": 3
   },
   "file_extension": ".py",
   "mimetype": "text/x-python",
   "name": "python",
   "nbconvert_exporter": "python",
   "pygments_lexer": "ipython3",
   "version": "3.10.12"
  }
 },
 "nbformat": 4,
 "nbformat_minor": 2
}

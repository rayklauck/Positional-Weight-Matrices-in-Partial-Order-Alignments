{
 "cells": [
  {
   "cell_type": "code",
   "execution_count": null,
   "metadata": {},
   "outputs": [],
   "source": [
    "from pot_correction import *\n",
    "from uncertain_dp2 import *"
   ]
  },
  {
   "cell_type": "code",
   "execution_count": null,
   "metadata": {},
   "outputs": [],
   "source": [
    "import random\n",
    "random.seed(1)"
   ]
  },
  {
   "cell_type": "code",
   "execution_count": null,
   "metadata": {},
   "outputs": [],
   "source": [
    "DNA_LENGTH = 50           \n",
    "READ_lENGTH = 35\n",
    "READ_COUNT = 10\n",
    "\n",
    "PROBABILISTIC_ALIGNMENT_BONUS = 2\n",
    "NORMAL_ALIGNMENT_BONUS = 0.7\n",
    "\n",
    "ALIGNMENT_BONUS = PROBABILISTIC_ALIGNMENT_BONUS"
   ]
  },
  {
   "cell_type": "code",
   "execution_count": null,
   "metadata": {},
   "outputs": [],
   "source": [
    "dna = generate_dna(DNA_LENGTH)\n",
    "reads = [generate_read(dna, READ_lENGTH, lambda base: gauss_unsharp_uncertainty_generator(base, 0.47)) for _ in range(READ_COUNT)]\n",
    "check_dna_distance_error_rate_suitable(dna, reads, alignment_bonus=ALIGNMENT_BONUS)"
   ]
  },
  {
   "cell_type": "code",
   "execution_count": null,
   "metadata": {},
   "outputs": [],
   "source": [
    "corrected_reads = correct_reads_with_consens(reads,probabilistic=False, alignment_bonus=ALIGNMENT_BONUS)"
   ]
  }
 ],
 "metadata": {
  "language_info": {
   "name": "python"
  }
 },
 "nbformat": 4,
 "nbformat_minor": 2
}

{
 "cells": [
  {
   "cell_type": "code",
   "execution_count": 10,
   "metadata": {},
   "outputs": [],
   "source": [
    "import matplotlib.pyplot as plt\n",
    "from pot_correction import *\n",
    "from uncertain_dp2 import *"
   ]
  },
  {
   "cell_type": "code",
   "execution_count": 11,
   "metadata": {},
   "outputs": [],
   "source": [
    "DNA_LENGTH = 50           \n",
    "READ_lENGTH = 35\n",
    "READ_COUNT = 10\n",
    "\n",
    "PROBABILISTIC_ALIGNMENT_BONUS = 2\n",
    "NORMAL_ALIGNMENT_BONUS = 0.7\n",
    "\n",
    "ALIGNMENT_BONUS = PROBABILISTIC_ALIGNMENT_BONUS"
   ]
  },
  {
   "cell_type": "code",
   "execution_count": 12,
   "metadata": {},
   "outputs": [],
   "source": [
    "dna = generate_dna(DNA_LENGTH)\n",
    "reads = [generate_read(dna, READ_lENGTH, lambda base: gauss_unsharp_uncertainty_generator(base, 0.47)) for _ in range(READ_COUNT)]"
   ]
  },
  {
   "cell_type": "code",
   "execution_count": 13,
   "metadata": {},
   "outputs": [
    {
     "name": "stdout",
     "output_type": "stream",
     "text": [
      "            \u001b[1;32mX\u001b[0m\u001b[1;37mX\u001b[0m\u001b[1;31mX\u001b[0m\u001b[1;37mX\u001b[0m\u001b[1;37mX\u001b[0m\u001b[1;37mX\u001b[0m\u001b[1;37mX\u001b[0m\u001b[1;37mX\u001b[0m\u001b[1;37mX\u001b[0m\u001b[1;34mX\u001b[0m\u001b[1;37mX\u001b[0m\u001b[1;37mX\u001b[0m\u001b[1;37mX\u001b[0m\u001b[1;37mX\u001b[0m\u001b[1;34mX\u001b[0m\u001b[1;34mX\u001b[0m\u001b[1;37mX\u001b[0m\u001b[1;37mX\u001b[0m\u001b[1;37mX\u001b[0m\u001b[1;37mX\u001b[0m\u001b[1;37mX\u001b[0m\u001b[1;34mX\u001b[0m\u001b[1;37mX\u001b[0m\u001b[1;37mX\u001b[0m\u001b[1;37mX\u001b[0m\u001b[1;37mX\u001b[0m\u001b[1;37mX\u001b[0m\u001b[1;37mX\u001b[0m\u001b[1;31mX\u001b[0m\u001b[1;37mX\u001b[0m\u001b[1;37mX\u001b[0m\u001b[1;32mX\u001b[0m\u001b[1;37mX\u001b[0m\u001b[1;37mX\u001b[0m\u001b[1;37mX\u001b[0m\u001b[1;37mX\u001b[0m\u001b[1;37mX\u001b[0m\n",
      "          \u001b[1;37mX\u001b[0m\u001b[1;37mX\u001b[0m\u001b[1;34mX\u001b[0m\u001b[1;37mX\u001b[0m\u001b[1;37mX\u001b[0m\u001b[1;37mX\u001b[0m\u001b[1;37mX\u001b[0m\u001b[1;37mX\u001b[0m\u001b[1;37mX\u001b[0m\u001b[1;37mX\u001b[0m\u001b[1;37mX\u001b[0m\u001b[1;37mX\u001b[0m\u001b[1;37mX\u001b[0m\u001b[1;37mX\u001b[0m\u001b[1;37mX\u001b[0m\u001b[1;37mX\u001b[0m\u001b[1;37mX\u001b[0m\u001b[1;37mX\u001b[0m\u001b[1;37mX\u001b[0m\u001b[1;37mX\u001b[0m\u001b[1;37mX\u001b[0m\u001b[1;37mX\u001b[0m\u001b[1;34mX\u001b[0m\u001b[1;37mX\u001b[0m\u001b[1;37mX\u001b[0m\u001b[1;34mX\u001b[0m\u001b[1;37mX\u001b[0m\u001b[1;37mX\u001b[0m\u001b[1;37mX\u001b[0m\u001b[1;32mX\u001b[0m\u001b[1;37mX\u001b[0m\u001b[1;31mX\u001b[0m\u001b[1;37mX\u001b[0m\u001b[1;37mX\u001b[0m\u001b[1;37mX\u001b[0m\u001b[1;37mX\u001b[0m\n",
      "  \u001b[1;37mX\u001b[0m\u001b[1;37mX\u001b[0m\u001b[1;37mX\u001b[0m\u001b[1;37mX\u001b[0m\u001b[1;37mX\u001b[0m\u001b[1;37mX\u001b[0m\u001b[1;37mX\u001b[0m\u001b[1;37mX\u001b[0m\u001b[1;37mX\u001b[0m\u001b[1;37mX\u001b[0m\u001b[1;37mX\u001b[0m\u001b[1;37mX\u001b[0m\u001b[1;37mX\u001b[0m\u001b[1;37mX\u001b[0m\u001b[1;37mX\u001b[0m\u001b[1;37mX\u001b[0m\u001b[1;37mX\u001b[0m\u001b[1;37mX\u001b[0m\u001b[1;37mX\u001b[0m\u001b[1;37mX\u001b[0m\u001b[1;37mX\u001b[0m\u001b[1;37mX\u001b[0m\u001b[1;37mX\u001b[0m\u001b[1;37mX\u001b[0m\u001b[1;37mX\u001b[0m\u001b[1;37mX\u001b[0m\u001b[1;37mX\u001b[0m\u001b[1;37mX\u001b[0m\u001b[1;37mX\u001b[0m\u001b[1;37mX\u001b[0m\u001b[1;37mX\u001b[0m\u001b[1;37mX\u001b[0m\u001b[1;37mX\u001b[0m\u001b[1;37mX\u001b[0m\u001b[1;37mX\u001b[0m\n",
      "  \u001b[1;37mX\u001b[0m\u001b[1;37mX\u001b[0m\u001b[1;37mX\u001b[0m\u001b[1;37mX\u001b[0m\u001b[1;37mX\u001b[0m\u001b[1;37mX\u001b[0m\u001b[1;37mX\u001b[0m\u001b[1;37mX\u001b[0m\u001b[1;37mX\u001b[0m\u001b[1;37mX\u001b[0m\u001b[1;37mX\u001b[0m\u001b[1;34mX\u001b[0m\u001b[1;37mX\u001b[0m\u001b[1;37mX\u001b[0m\u001b[1;37mX\u001b[0m\u001b[1;37mX\u001b[0m\u001b[1;34mX\u001b[0m\u001b[1;37mX\u001b[0m\u001b[1;37mX\u001b[0m\u001b[1;34mX\u001b[0m\u001b[1;37mX\u001b[0m\u001b[1;37mX\u001b[0m\u001b[1;37mX\u001b[0m\u001b[1;37mX\u001b[0m\u001b[1;37mX\u001b[0m\u001b[1;37mX\u001b[0m\u001b[1;34mX\u001b[0m\u001b[1;37mX\u001b[0m\u001b[1;37mX\u001b[0m\u001b[1;37mX\u001b[0m\u001b[1;37mX\u001b[0m\u001b[1;32mX\u001b[0m\u001b[1;37mX\u001b[0m\u001b[1;34mX\u001b[0m\u001b[1;37mX\u001b[0m\u001b[1;31m...\u001b[0m\n",
      "        \u001b[1;37mX\u001b[0m\u001b[1;37mX\u001b[0m\u001b[1;37mX\u001b[0m\u001b[1;37mX\u001b[0m\u001b[1;37mX\u001b[0m\u001b[1;37mX\u001b[0m\u001b[1;32mX\u001b[0m\u001b[1;37mX\u001b[0m\u001b[1;37mX\u001b[0m\u001b[1;31mX\u001b[0m\u001b[1;37mX\u001b[0m\u001b[1;37mX\u001b[0m\u001b[1;34mX\u001b[0m\u001b[1;37mX\u001b[0m\u001b[1;37mX\u001b[0m\u001b[1;37mX\u001b[0m\u001b[1;37mX\u001b[0m\u001b[1;37mX\u001b[0m\u001b[1;34mX\u001b[0m\u001b[1;37mX\u001b[0m\u001b[1;37mX\u001b[0m\u001b[1;37mX\u001b[0m\u001b[1;37mX\u001b[0m\u001b[1;37mX\u001b[0m\u001b[1;37mX\u001b[0m\u001b[1;37mX\u001b[0m\u001b[1;37mX\u001b[0m\u001b[1;34mX\u001b[0m\u001b[1;37mX\u001b[0m\u001b[1;34mX\u001b[0m\u001b[1;37mX\u001b[0m\u001b[1;37mX\u001b[0m\u001b[1;37mX\u001b[0m\u001b[1;37mX\u001b[0m\u001b[1;31mX\u001b[0m\u001b[1;37mX\u001b[0m\u001b[1;32m...\u001b[0m\n",
      "      \u001b[1;37mX\u001b[0m\u001b[1;37mX\u001b[0m\u001b[1;37mX\u001b[0m\u001b[1;37mX\u001b[0m\u001b[1;37mX\u001b[0m\u001b[1;37mX\u001b[0m\u001b[1;34mX\u001b[0m\u001b[1;37mX\u001b[0m\u001b[1;37mX\u001b[0m\u001b[1;37mX\u001b[0m\u001b[1;37mX\u001b[0m\u001b[1;37mX\u001b[0m\u001b[1;37mX\u001b[0m\u001b[1;37mX\u001b[0m\u001b[1;37mX\u001b[0m\u001b[1;34mX\u001b[0m\u001b[1;37mX\u001b[0m\u001b[1;37mX\u001b[0m\u001b[1;37mX\u001b[0m\u001b[1;37mX\u001b[0m\u001b[1;34mX\u001b[0m\u001b[1;37mX\u001b[0m\u001b[1;34mX\u001b[0m\u001b[1;37mX\u001b[0m\u001b[1;37mX\u001b[0m\u001b[1;37mX\u001b[0m\u001b[1;37mX\u001b[0m\u001b[1;37mX\u001b[0m\u001b[1;37mX\u001b[0m\u001b[1;37mX\u001b[0m\u001b[1;37mX\u001b[0m\u001b[1;37mX\u001b[0m\u001b[1;37mX\u001b[0m\u001b[1;37mX\u001b[0m\u001b[1;37mX\u001b[0m\n",
      "          \u001b[1;37mX\u001b[0m\u001b[1;31mX\u001b[0m\u001b[1;37mX\u001b[0m\u001b[1;34mX\u001b[0m\u001b[1;37mX\u001b[0m\u001b[1;32mX\u001b[0m\u001b[1;37mX\u001b[0m\u001b[1;37mX\u001b[0m\u001b[1;37mX\u001b[0m\u001b[1;37mX\u001b[0m\u001b[1;37mX\u001b[0m\u001b[1;37mX\u001b[0m\u001b[1;37mX\u001b[0m\u001b[1;37mX\u001b[0m\u001b[1;37mX\u001b[0m\u001b[1;37mX\u001b[0m\u001b[1;37mX\u001b[0m\u001b[1;37mX\u001b[0m\u001b[1;34mX\u001b[0m\u001b[1;37mX\u001b[0m\u001b[1;37mX\u001b[0m\u001b[1;37mX\u001b[0m\u001b[1;37mX\u001b[0m\u001b[1;37mX\u001b[0m\u001b[1;37mX\u001b[0m\u001b[1;37mX\u001b[0m\u001b[1;34mX\u001b[0m\u001b[1;34mX\u001b[0m\u001b[1;37mX\u001b[0m\u001b[1;37mX\u001b[0m\u001b[1;34mX\u001b[0m\u001b[1;37mX\u001b[0m\u001b[1;37mX\u001b[0m\u001b[1;37mX\u001b[0m\u001b[1;37mX\u001b[0m\u001b[1;37mX\u001b[0m\n",
      " \u001b[1;37mX\u001b[0m\u001b[1;37mX\u001b[0m\u001b[1;37mX\u001b[0m\u001b[1;34mX\u001b[0m\u001b[1;37mX\u001b[0m\u001b[1;37mX\u001b[0m\u001b[1;37mX\u001b[0m\u001b[1;37mX\u001b[0m\u001b[1;37mX\u001b[0m\u001b[1;37mX\u001b[0m\u001b[1;37mX\u001b[0m\u001b[1;37mX\u001b[0m\u001b[1;37mX\u001b[0m\u001b[1;37mX\u001b[0m\u001b[1;37mX\u001b[0m\u001b[1;37mX\u001b[0m\u001b[1;37mX\u001b[0m\u001b[1;37mX\u001b[0m\u001b[1;37mX\u001b[0m\u001b[1;37mX\u001b[0m\u001b[1;37mX\u001b[0m\u001b[1;37mX\u001b[0m\u001b[1;37mX\u001b[0m\u001b[1;37mX\u001b[0m\u001b[1;37mX\u001b[0m\u001b[1;37mX\u001b[0m\u001b[1;37mX\u001b[0m\u001b[1;37mX\u001b[0m\u001b[1;37mX\u001b[0m\u001b[1;37mX\u001b[0m\u001b[1;37mX\u001b[0m\u001b[1;37mX\u001b[0m\u001b[1;37mX\u001b[0m\u001b[1;37mX\u001b[0m\u001b[1;37mX\u001b[0m\n",
      "            \u001b[1;37mX\u001b[0m\u001b[1;37mX\u001b[0m\u001b[1;34mX\u001b[0m\u001b[1;37mX\u001b[0m\u001b[1;37mX\u001b[0m\u001b[1;37mX\u001b[0m\u001b[1;37mX\u001b[0m\u001b[1;34mX\u001b[0m\u001b[1;37mX\u001b[0m\u001b[1;37mX\u001b[0m\u001b[1;37mX\u001b[0m\u001b[1;37mX\u001b[0m\u001b[1;34mX\u001b[0m\u001b[1;37mX\u001b[0m\u001b[1;37mX\u001b[0m\u001b[1;37mX\u001b[0m\u001b[1;37mX\u001b[0m\u001b[1;37mX\u001b[0m\u001b[1;37mX\u001b[0m\u001b[1;37mX\u001b[0m\u001b[1;34mX\u001b[0m\u001b[1;37mX\u001b[0m\u001b[1;37mX\u001b[0m\u001b[1;37mX\u001b[0m\u001b[1;37mX\u001b[0m\u001b[1;37mX\u001b[0m\u001b[1;37mX\u001b[0m\u001b[1;37mX\u001b[0m\u001b[1;37mX\u001b[0m\u001b[1;37mX\u001b[0m\u001b[1;37mX\u001b[0m\u001b[1;37mX\u001b[0m\u001b[1;37mX\u001b[0m\u001b[1;37mX\u001b[0m\u001b[1;31mX\u001b[0m\u001b[1;32m...\u001b[0m\n",
      "               \u001b[1;32mX\u001b[0m\u001b[1;32mX\u001b[0m\u001b[1;37mX\u001b[0m\u001b[1;37mX\u001b[0m\u001b[1;37mX\u001b[0m\u001b[1;37mX\u001b[0m\u001b[1;37mX\u001b[0m\u001b[1;31mX\u001b[0m\u001b[1;31mX\u001b[0m\u001b[1;37mX\u001b[0m\u001b[1;37mX\u001b[0m\u001b[1;34mX\u001b[0m\u001b[1;37mX\u001b[0m\u001b[1;37mX\u001b[0m\u001b[1;37mX\u001b[0m\u001b[1;37mX\u001b[0m\u001b[1;37mX\u001b[0m\u001b[1;37mX\u001b[0m\u001b[1;34mX\u001b[0m\u001b[1;37mX\u001b[0m\u001b[1;37mX\u001b[0m\u001b[1;34mX\u001b[0m\u001b[1;37mX\u001b[0m\u001b[1;37mX\u001b[0m\u001b[1;37mX\u001b[0m\u001b[1;37mX\u001b[0m\u001b[1;37mX\u001b[0m\u001b[1;37mX\u001b[0m\u001b[1;37mX\u001b[0m\u001b[1;37mX\u001b[0m\u001b[1;34mX\u001b[0m\u001b[1;37mX\u001b[0m\u001b[1;37mX\u001b[0m\u001b[1;37mX\u001b[0m\u001b[1;37mX\u001b[0m\u001b[1;37mX\u001b[0m\u001b[1;37mX\u001b[0m\n"
     ]
    }
   ],
   "source": [
    "for r in reads:\n",
    "    print_read_intendet_errors(r, alignment_bonus=ALIGNMENT_BONUS)"
   ]
  },
  {
   "cell_type": "code",
   "execution_count": 14,
   "metadata": {},
   "outputs": [
    {
     "data": {
      "text/plain": [
       "'GACGAACCCTGGCAAAAAAGGGCTGATACAGCACC'"
      ]
     },
     "execution_count": 14,
     "metadata": {},
     "output_type": "execute_result"
    }
   ],
   "source": [
    "reads[2].original_text"
   ]
  },
  {
   "cell_type": "code",
   "execution_count": 15,
   "metadata": {},
   "outputs": [
    {
     "data": {
      "text/plain": [
       "'GACGAACCCTGGCAAAAAAGGGCTGATACAGCACC'"
      ]
     },
     "execution_count": 15,
     "metadata": {},
     "output_type": "execute_result"
    }
   ],
   "source": [
    "reads[2].predicted_text"
   ]
  },
  {
   "cell_type": "code",
   "execution_count": 16,
   "metadata": {},
   "outputs": [
    {
     "data": {
      "text/plain": [
       "'error rate before correction: 0.15'"
      ]
     },
     "execution_count": 16,
     "metadata": {},
     "output_type": "execute_result"
    }
   ],
   "source": [
    "error_rate = dna_distance_error_rate(\n",
    "                    dna,\n",
    "                    reads,\n",
    "                    alignment_bonus=PROBABILISTIC_ALIGNMENT_BONUS,)\n",
    "f\"error rate before correction: {error_rate:.3f}\""
   ]
  },
  {
   "cell_type": "code",
   "execution_count": 17,
   "metadata": {},
   "outputs": [],
   "source": [
    "poa_corrected_reads = correct_reads_with_consens(reads, alignment_bonus=NORMAL_ALIGNMENT_BONUS, probabilistic=False)"
   ]
  },
  {
   "cell_type": "code",
   "execution_count": 18,
   "metadata": {},
   "outputs": [
    {
     "data": {
      "text/plain": [
       "'error rate after poa correction: 0.01'"
      ]
     },
     "execution_count": 18,
     "metadata": {},
     "output_type": "execute_result"
    }
   ],
   "source": [
    "error_rate = dna_distance_error_rate(\n",
    "                    dna,\n",
    "                    poa_corrected_reads,\n",
    "                    alignment_bonus=PROBABILISTIC_ALIGNMENT_BONUS,)\n",
    "f\"error rate after poa correction: {error_rate:.3f}\""
   ]
  },
  {
   "cell_type": "code",
   "execution_count": 19,
   "metadata": {},
   "outputs": [],
   "source": [
    "pwm_poa_corrected_reads = correct_reads_with_consens(reads, alignment_bonus=PROBABILISTIC_ALIGNMENT_BONUS, probabilistic=True)"
   ]
  },
  {
   "cell_type": "code",
   "execution_count": 20,
   "metadata": {},
   "outputs": [
    {
     "data": {
      "text/plain": [
       "'error rate after pwm-poa correction: 0.00'"
      ]
     },
     "execution_count": 20,
     "metadata": {},
     "output_type": "execute_result"
    }
   ],
   "source": [
    "error_rate = dna_distance_error_rate(\n",
    "                    dna,\n",
    "                    pwm_poa_corrected_reads,\n",
    "                    alignment_bonus=PROBABILISTIC_ALIGNMENT_BONUS,)\n",
    "f\"error rate after pwm-poa correction: {error_rate:.3f}\""
   ]
  }
 ],
 "metadata": {
  "kernelspec": {
   "display_name": "bachelor_thesis",
   "language": "python",
   "name": "python3"
  },
  "language_info": {
   "codemirror_mode": {
    "name": "ipython",
    "version": 3
   },
   "file_extension": ".py",
   "mimetype": "text/x-python",
   "name": "python",
   "nbconvert_exporter": "python",
   "pygments_lexer": "ipython3",
   "version": "3.10.12"
  }
 },
 "nbformat": 4,
 "nbformat_minor": 2
}
